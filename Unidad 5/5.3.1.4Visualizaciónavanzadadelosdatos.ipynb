{
 "cells": [
  {
   "cell_type": "markdown",
   "id": "1da89c3c",
   "metadata": {},
   "source": [
    "# Intituto tecnologico de Durango\n",
    "## Analítica de datos en las organizaciones\n",
    "### 5.3.1.4 Visualización avanzada de los datos\n",
    "\n",
    "\n",
    "\n",
    "\n",
    "\n",
    "\n",
    "\n",
    "\n",
    "\n",
    "\n",
    "\n",
    "\n",
    "\n",
    "#### Nombre : Sarahi Caloso Mancillas\n",
    "#### No de Control: 19040351\n",
    "####  Maestro: José Gabriel Rodríguez Rivas"
   ]
  },
  {
   "cell_type": "markdown",
   "id": "a8a3472c",
   "metadata": {},
   "source": [
    "\n",
    "Objetivos\n",
    "\n",
    " Parte 1: Preparar los datos \n",
    " \n",
    " Parte 2: Visualizar los datos\n",
    "\n",
    "Situación/Contexto\n",
    "\n",
    "En esta práctica de laboratorio, aprenderá cómo combinar base de datos SQLite, archivos JSON y estructuras de datos de pandas. Usted contará con una interfaz con un wrapper para la biblioteca folium que le permite graficar datos en un mapa geográfico. Se generará un mapa del Reino Unido dividido en áreas, cada una de color de sombreado que es proporcional a la velocidad de Internet, una interesante forma de comprender los datos. Con este mapa, estará claro cómo varía la velocidad de Internet a largo de Inglaterra. Aprenderá cómo encontrar y solucionar problemas con los datos.\n",
    "\n",
    "Recursos necesarios\n",
    "\n",
    "1 PC con acceso a Internet\n",
    "\n",
    "Raspberry Pi versión 2 o superior\n",
    "\n",
    "Bibliotecas de Python: pandas, numpy, sqlite3, matplotlib, folium_utils\n",
    "\n",
    "Archivos de datos: LA_Poligons.json\n",
    "\n",
    "\n",
    "\n",
    "# Parte 1: Preparar los datos\n",
    "Para utilizar la biblioteca folium, modificará los datos para obtener el formato correcto. En este momento, los datos están en una base de datos de SQLite y deseamos tenerla en un marco de datos de pandas. Es necesario realizar algunos cambios más.\n",
    "\n",
    "#### Paso 1: Obtener datos y guardarlos en un marco de datos pandas.\n",
    "\n",
    "Primero, necesitamos obtener los datos. Nos conectaremos a la base de datos InternetSpeed.\n",
    " \n",
    "\n",
    "\n",
    "#### a)\tImporte las bibliotecas.\n",
    "\n",
    "- pandas numpy\n",
    "\n",
    "- sqlite3\n",
    "\n",
    "- pyplot (y utilice el estilo fivethirtyeight u otro si lo prefiere)\n",
    "\n",
    "- folium_utils "
   ]
  },
  {
   "cell_type": "code",
   "execution_count": 1,
   "id": "74f939d8",
   "metadata": {},
   "outputs": [],
   "source": [
    "# Code Cell 1\n",
    "import pandas as pd\n",
    "import numpy as np\n",
    "import sqlite3\n",
    "import matplotlib.pyplot as plt\n",
    "#import folium_utils\n",
    "plt.style.use('fivethirtyeight')\n",
    "\n",
    "%matplotlib inline"
   ]
  },
  {
   "cell_type": "markdown",
   "id": "a2334604",
   "metadata": {},
   "source": [
    "#### b) Conéctese a la base de datos.\n",
    "\n",
    "Ahora es necesario regresar a la base de datos que creamos y que completamos en la segunda práctica de laboratorio del capítulo 2:\n",
    "\n",
    "./Data/InternetSpeed.db\n",
    "\n",
    "Conéctese a la base de datos."
   ]
  },
  {
   "cell_type": "code",
   "execution_count": 4,
   "id": "8af4986c",
   "metadata": {},
   "outputs": [],
   "source": [
    "# Code Cell 2\n",
    "# Create the connection to the DataFrame\n",
    "conn = sqlite3.connect('InternetSpeed.db') \n",
    "\n",
    "# Create a cursor\n",
    "cur = conn.cursor() "
   ]
  },
  {
   "cell_type": "markdown",
   "id": "97a9d58c",
   "metadata": {},
   "source": [
    "La base de datos contiene una tabla con el tiempo de ping, la velocidad de carga y la velocidad de descarga promedio para las diversas autoridades locales de Inglaterra. El objetivo de esta práctica de laboratorio es crear un mapa para mostrar cómo estos indicadores de velocidad de Internet cambian según las diferentes ciudades. Lo primero que debemos hacer es leer los datos de la tabla.\n",
    "\n",
    "average_speed\n",
    "\n",
    "Ahora agréguela al marco de datos  pandas con la función .read_sql().\n",
    "\n",
    "Esta función necesita una cadena que contenga la consulta que se ejecutará y la variable que contiene la conexión a la base de datos (consulte http://pandas.pydata.org/pandas-docs/stable/generated/pandas.read_sql.html para obtener más detalles). Si suponemos que la consulta está almacenada en la variable query, la solicitud\n",
    "\n",
    "pd.read_sql(query)\n",
    "\n",
    "devolverá un marco de datos pandas.\n",
    "#### c) Guarde los datos en un marco de datos.\n",
    "\n",
    "Escriba la consulta para seleccionar todos los datos de la tabla average_speed y para colocarlos en un marco de datos."
   ]
  },
  {
   "cell_type": "code",
   "execution_count": 26,
   "id": "f255e571",
   "metadata": {},
   "outputs": [],
   "source": [
    "# Code Cell 3\n",
    "# Create a query to select all the data in the table average_speed\n",
    "query = 'SELECT * FROM average_speed'\n",
    "\n",
    "# Read the the data from the table into a DataFrame.\n",
    "df = pd.read_sql(query, conn)"
   ]
  },
  {
   "cell_type": "markdown",
   "id": "2539ac25",
   "metadata": {},
   "source": [
    "\n",
    "#### Paso 2: Limpieza de datos\n",
    "\n",
    "Al utilizar las funciones pandas aprendidas hasta ahora, explore el marco de datos generada y elimine las columnas no deseadas.\n",
    "#### a) Explore los datos.\n",
    "\n",
    "Imprima las primeras filas del marco de datos df."
   ]
  },
  {
   "cell_type": "code",
   "execution_count": 6,
   "id": "8da117f5",
   "metadata": {},
   "outputs": [
    {
     "data": {
      "text/html": [
       "<div>\n",
       "<style scoped>\n",
       "    .dataframe tbody tr th:only-of-type {\n",
       "        vertical-align: middle;\n",
       "    }\n",
       "\n",
       "    .dataframe tbody tr th {\n",
       "        vertical-align: top;\n",
       "    }\n",
       "\n",
       "    .dataframe thead th {\n",
       "        text-align: right;\n",
       "    }\n",
       "</style>\n",
       "<table border=\"1\" class=\"dataframe\">\n",
       "  <thead>\n",
       "    <tr style=\"text-align: right;\">\n",
       "      <th></th>\n",
       "      <th>index</th>\n",
       "      <th>Area</th>\n",
       "      <th>Average_p</th>\n",
       "      <th>Average_u</th>\n",
       "      <th>Average_d</th>\n",
       "    </tr>\n",
       "  </thead>\n",
       "  <tbody>\n",
       "    <tr>\n",
       "      <th>0</th>\n",
       "      <td>0</td>\n",
       "      <td>E07000188</td>\n",
       "      <td>8.451897</td>\n",
       "      <td>21.114114</td>\n",
       "      <td>51.967713</td>\n",
       "    </tr>\n",
       "    <tr>\n",
       "      <th>1</th>\n",
       "      <td>1</td>\n",
       "      <td>E07000101</td>\n",
       "      <td>8.317833</td>\n",
       "      <td>20.733028</td>\n",
       "      <td>51.709226</td>\n",
       "    </tr>\n",
       "    <tr>\n",
       "      <th>2</th>\n",
       "      <td>2</td>\n",
       "      <td>E09000030</td>\n",
       "      <td>8.983481</td>\n",
       "      <td>22.469438</td>\n",
       "      <td>54.412001</td>\n",
       "    </tr>\n",
       "    <tr>\n",
       "      <th>3</th>\n",
       "      <td>3</td>\n",
       "      <td>E09000031</td>\n",
       "      <td>8.956481</td>\n",
       "      <td>22.353593</td>\n",
       "      <td>55.138017</td>\n",
       "    </tr>\n",
       "    <tr>\n",
       "      <th>4</th>\n",
       "      <td>4</td>\n",
       "      <td>E09000032</td>\n",
       "      <td>9.144285</td>\n",
       "      <td>22.859003</td>\n",
       "      <td>55.962499</td>\n",
       "    </tr>\n",
       "  </tbody>\n",
       "</table>\n",
       "</div>"
      ],
      "text/plain": [
       "   index       Area  Average_p  Average_u  Average_d\n",
       "0      0  E07000188   8.451897  21.114114  51.967713\n",
       "1      1  E07000101   8.317833  20.733028  51.709226\n",
       "2      2  E09000030   8.983481  22.469438  54.412001\n",
       "3      3  E09000031   8.956481  22.353593  55.138017\n",
       "4      4  E09000032   9.144285  22.859003  55.962499"
      ]
     },
     "execution_count": 6,
     "metadata": {},
     "output_type": "execute_result"
    }
   ],
   "source": [
    "# Code Cell 4\n",
    "# Insert code here\n",
    "df.head()"
   ]
  },
  {
   "cell_type": "markdown",
   "id": "f7fb7b3a",
   "metadata": {},
   "source": [
    "El índice de la columna no es necesario para este ejercicio.\n",
    "#### b) Limpie los datos.\n",
    "\n",
    "Obtenga el índice de la columna desde el marco de datos. Recuerde que el cambio será efectivo si el parámetro inplace está configurado en True (Verdadero) o si asigna el nuevo marco de datos modificada a un nuevo marco de datos."
   ]
  },
  {
   "cell_type": "code",
   "execution_count": 7,
   "id": "7f6cd413",
   "metadata": {},
   "outputs": [
    {
     "name": "stdout",
     "output_type": "stream",
     "text": [
      "(326, 4)\n"
     ]
    },
    {
     "data": {
      "text/html": [
       "<div>\n",
       "<style scoped>\n",
       "    .dataframe tbody tr th:only-of-type {\n",
       "        vertical-align: middle;\n",
       "    }\n",
       "\n",
       "    .dataframe tbody tr th {\n",
       "        vertical-align: top;\n",
       "    }\n",
       "\n",
       "    .dataframe thead th {\n",
       "        text-align: right;\n",
       "    }\n",
       "</style>\n",
       "<table border=\"1\" class=\"dataframe\">\n",
       "  <thead>\n",
       "    <tr style=\"text-align: right;\">\n",
       "      <th></th>\n",
       "      <th>Area</th>\n",
       "      <th>Average_p</th>\n",
       "      <th>Average_u</th>\n",
       "      <th>Average_d</th>\n",
       "    </tr>\n",
       "  </thead>\n",
       "  <tbody>\n",
       "    <tr>\n",
       "      <th>0</th>\n",
       "      <td>E07000188</td>\n",
       "      <td>8.451897</td>\n",
       "      <td>21.114114</td>\n",
       "      <td>51.967713</td>\n",
       "    </tr>\n",
       "    <tr>\n",
       "      <th>1</th>\n",
       "      <td>E07000101</td>\n",
       "      <td>8.317833</td>\n",
       "      <td>20.733028</td>\n",
       "      <td>51.709226</td>\n",
       "    </tr>\n",
       "    <tr>\n",
       "      <th>2</th>\n",
       "      <td>E09000030</td>\n",
       "      <td>8.983481</td>\n",
       "      <td>22.469438</td>\n",
       "      <td>54.412001</td>\n",
       "    </tr>\n",
       "    <tr>\n",
       "      <th>3</th>\n",
       "      <td>E09000031</td>\n",
       "      <td>8.956481</td>\n",
       "      <td>22.353593</td>\n",
       "      <td>55.138017</td>\n",
       "    </tr>\n",
       "    <tr>\n",
       "      <th>4</th>\n",
       "      <td>E09000032</td>\n",
       "      <td>9.144285</td>\n",
       "      <td>22.859003</td>\n",
       "      <td>55.962499</td>\n",
       "    </tr>\n",
       "  </tbody>\n",
       "</table>\n",
       "</div>"
      ],
      "text/plain": [
       "        Area  Average_p  Average_u  Average_d\n",
       "0  E07000188   8.451897  21.114114  51.967713\n",
       "1  E07000101   8.317833  20.733028  51.709226\n",
       "2  E09000030   8.983481  22.469438  54.412001\n",
       "3  E09000031   8.956481  22.353593  55.138017\n",
       "4  E09000032   9.144285  22.859003  55.962499"
      ]
     },
     "execution_count": 7,
     "metadata": {},
     "output_type": "execute_result"
    }
   ],
   "source": [
    "# Code Cell 5\n",
    "df.drop('index', inplace=True, axis=1)\n",
    "print(df.shape)\n",
    "df.head()"
   ]
  },
  {
   "cell_type": "markdown",
   "id": "e9d8938a",
   "metadata": {},
   "source": [
    "#### Paso 3: Familiarizarse con los archivos JSON.\n",
    "\n",
    "El mapa se creará agota al trazar los límites de cada autoridad local y al colorearlas según un mapa de colores. El mapa codificado por colores indica la velocidad relativa de Internet de un área en relación con otras áreas.\n",
    "\n",
    "Cada área se representa con un polígono, que se trazará en nuestro mapa. Los extremos de cada polígono representan los límites de cada autoridad local. Se proporciona un archivo JSON que contiene las coordenadas de los límites de cada autoridad local.\n",
    "\n",
    "JSON es una alternativa popular a XML y es un formato utilizado para guardar e intercambiar datos (para conocer más sobre JSON consulte http://www.w3schools.com/js/js_json_intro.asp).\n",
    "##### a) Abra y observe el archivo.\n",
    "\n",
    "./Data/LA_poligons.json\n",
    "\n",
    "Como en el caso de las funcionalidades proporcionadas para leer archivos csv y tablas SQL, es posible leer el contenido de un archivo JSON en un marco de datos pandas con el método read_json(). Este método ofrece una cadena de entrada que contiene la ruta hasta archivo que deseamos leer (consulte esta documentación para obtener más detalles: http://pandas.pydata.org/pandas-docs/stable/generated/pandas.read_json.html).\n",
    "##### b) Lea LA_poligons.json en un marco de datos pandas y luego visualice las primeras filas."
   ]
  },
  {
   "cell_type": "code",
   "execution_count": 17,
   "id": "b6a44441",
   "metadata": {},
   "outputs": [
    {
     "data": {
      "text/html": [
       "<div>\n",
       "<style scoped>\n",
       "    .dataframe tbody tr th:only-of-type {\n",
       "        vertical-align: middle;\n",
       "    }\n",
       "\n",
       "    .dataframe tbody tr th {\n",
       "        vertical-align: top;\n",
       "    }\n",
       "\n",
       "    .dataframe thead th {\n",
       "        text-align: right;\n",
       "    }\n",
       "</style>\n",
       "<table border=\"1\" class=\"dataframe\">\n",
       "  <thead>\n",
       "    <tr style=\"text-align: right;\">\n",
       "      <th></th>\n",
       "      <th>LA_code</th>\n",
       "      <th>geometry</th>\n",
       "    </tr>\n",
       "  </thead>\n",
       "  <tbody>\n",
       "    <tr>\n",
       "      <th>0</th>\n",
       "      <td>E06000001</td>\n",
       "      <td>{u'type': u'MultiPolygon', u'coordinates': [[[...</td>\n",
       "    </tr>\n",
       "    <tr>\n",
       "      <th>1</th>\n",
       "      <td>E06000002</td>\n",
       "      <td>{u'type': u'MultiPolygon', u'coordinates': [[[...</td>\n",
       "    </tr>\n",
       "    <tr>\n",
       "      <th>2</th>\n",
       "      <td>E06000003</td>\n",
       "      <td>{u'type': u'MultiPolygon', u'coordinates': [[[...</td>\n",
       "    </tr>\n",
       "    <tr>\n",
       "      <th>3</th>\n",
       "      <td>E06000004</td>\n",
       "      <td>{u'type': u'MultiPolygon', u'coordinates': [[[...</td>\n",
       "    </tr>\n",
       "    <tr>\n",
       "      <th>4</th>\n",
       "      <td>E06000005</td>\n",
       "      <td>{u'type': u'Polygon', u'coordinates': [[[-1.63...</td>\n",
       "    </tr>\n",
       "  </tbody>\n",
       "</table>\n",
       "</div>"
      ],
      "text/plain": [
       "     LA_code                                           geometry\n",
       "0  E06000001  {u'type': u'MultiPolygon', u'coordinates': [[[...\n",
       "1  E06000002  {u'type': u'MultiPolygon', u'coordinates': [[[...\n",
       "2  E06000003  {u'type': u'MultiPolygon', u'coordinates': [[[...\n",
       "3  E06000004  {u'type': u'MultiPolygon', u'coordinates': [[[...\n",
       "4  E06000005  {u'type': u'Polygon', u'coordinates': [[[-1.63..."
      ]
     },
     "execution_count": 17,
     "metadata": {},
     "output_type": "execute_result"
    }
   ],
   "source": [
    "# Code Cell 6\n",
    "# Read the JSON file into a DataFrame\n",
    "la_json = pd.read_json('LA_poligons.json')\n",
    "\n",
    "# Visualize the first rows of la_json DataFrame\n",
    "# Insert code here\n",
    "la_json.head()"
   ]
  },
  {
   "cell_type": "markdown",
   "id": "0ffd0949",
   "metadata": {},
   "source": [
    "La información que contiene este marco de datos se utilizará más adelante en la visualización.\n",
    "#### Paso 4: Calcular un promedio de velocidad de ping\n",
    "\n",
    "Para cada mapa que se produzca, solo se podrá visualizar uno de los tres indicadores de velocidad de Internet (ping, la velocidad de carga o velocidad de descarga promedio). En esta práctica de laboratorio, nos centraremos en velocidad promedio de ping, pero se recomienda a los alumnos que repitan el ejercicio para visualizar las velocidades de carga y descarga.\n",
    "##### a) Explique los datos.\n",
    "\n",
    "Genere un nuevo marco de datos pandas que contenga sólo dos columnas: Area y Average_p. Para ello, selecciónelas desde el marco de datos que contiene los datos de la base de datos InternetSpeed. Ahora, cambie el nombre de la columna Area por LA_code mediante el método rename(). Deberá pasar al método el campo columns con este código:\n",
    "\n",
    "columns={'Area':'LA_code'}\n",
    "\n",
    "    Cree un nuevo marco de datos.\n",
    "    Cambie el nombre de las columnas.\n",
    "    Muestre las primeras líneas del nuevo marco de datos.\n",
    "\n"
   ]
  },
  {
   "cell_type": "code",
   "execution_count": 18,
   "id": "89a39137",
   "metadata": {},
   "outputs": [
    {
     "data": {
      "text/html": [
       "<div>\n",
       "<style scoped>\n",
       "    .dataframe tbody tr th:only-of-type {\n",
       "        vertical-align: middle;\n",
       "    }\n",
       "\n",
       "    .dataframe tbody tr th {\n",
       "        vertical-align: top;\n",
       "    }\n",
       "\n",
       "    .dataframe thead th {\n",
       "        text-align: right;\n",
       "    }\n",
       "</style>\n",
       "<table border=\"1\" class=\"dataframe\">\n",
       "  <thead>\n",
       "    <tr style=\"text-align: right;\">\n",
       "      <th></th>\n",
       "      <th>LA_code</th>\n",
       "      <th>Average_p</th>\n",
       "    </tr>\n",
       "  </thead>\n",
       "  <tbody>\n",
       "    <tr>\n",
       "      <th>0</th>\n",
       "      <td>E07000188</td>\n",
       "      <td>8.451897</td>\n",
       "    </tr>\n",
       "    <tr>\n",
       "      <th>1</th>\n",
       "      <td>E07000101</td>\n",
       "      <td>8.317833</td>\n",
       "    </tr>\n",
       "    <tr>\n",
       "      <th>2</th>\n",
       "      <td>E09000030</td>\n",
       "      <td>8.983481</td>\n",
       "    </tr>\n",
       "    <tr>\n",
       "      <th>3</th>\n",
       "      <td>E09000031</td>\n",
       "      <td>8.956481</td>\n",
       "    </tr>\n",
       "    <tr>\n",
       "      <th>4</th>\n",
       "      <td>E09000032</td>\n",
       "      <td>9.144285</td>\n",
       "    </tr>\n",
       "  </tbody>\n",
       "</table>\n",
       "</div>"
      ],
      "text/plain": [
       "     LA_code  Average_p\n",
       "0  E07000188   8.451897\n",
       "1  E07000101   8.317833\n",
       "2  E09000030   8.983481\n",
       "3  E09000031   8.956481\n",
       "4  E09000032   9.144285"
      ]
     },
     "execution_count": 18,
     "metadata": {},
     "output_type": "execute_result"
    }
   ],
   "source": [
    "# Code Cell 7\n",
    "dfp = df[['Area', 'Average_p']]\n",
    "dfp=dfp.rename(columns={'Area':'LA_code'})\n",
    "dfp.head()"
   ]
  },
  {
   "cell_type": "markdown",
   "id": "051ba5c7",
   "metadata": {},
   "source": [
    "\n",
    "De manera predeterminada, folium utiliza sólo 6 colores diferentes para definir un mapa de colores. En lugar de definir un mapa de colores personalizado, los datos del indicador de velocidad de Internet se dividieron en 6 cubos y cada uno de ellos estará vinculado a un color diferente. Los cubos deben definirse cuidadosamente para maximizar las diferencias entre las diferentes áreas. Para elegir los cubos es recomendable observar el rango de los datos.\n",
    "\n",
    "Hasta ahora, se puede acceder a las columnas de un marco de datos pandas de la siguiente manera:\n",
    "\n",
    "df['Name_of_the_column']\n",
    "\n",
    "Una manera alternativa de hacerlo es:\n",
    "\n",
    "df.Name_of_the_column\n"
   ]
  },
  {
   "cell_type": "code",
   "execution_count": 19,
   "id": "cb10f14f",
   "metadata": {},
   "outputs": [
    {
     "name": "stdout",
     "output_type": "stream",
     "text": [
      "0.0\n",
      "11.999447541819524\n"
     ]
    }
   ],
   "source": [
    "# Code Cell 8\n",
    "print(dfp.Average_p.min())\n",
    "print(dfp.Average_p.max())"
   ]
  },
  {
   "cell_type": "markdown",
   "id": "8be46f3f",
   "metadata": {},
   "source": [
    "\n",
    "El tiempo del ping se encuentra aproximadamente en el intervalo 0-12. Si los cubos se eligen para ser [0, 10, 20, 30, 40, 50], todos los datos irían al primer cubo y todas las áreas se representarían con el primer color. Un buen punto de partida es considerar el rango donde se alojan datos en vivo y dividirlo en seis partes distintas.\n",
    "\n",
    "Para crear cubos, utilice el método numpy arange(). Este método considera, como entrada, el valor mínimo del rango, el valor máximo del rango y la transferencia. Si se requieren 6 cubos en el rango 1 a 12, la activación de función será la siguiente:\n",
    "\n",
    "np.arange(1, 12, (12-1)/6)\n",
    "\n",
    "b) Seleccione los cubos de visualización correctos.\n",
    "\n",
    "Cree un rango de seis valores que vaya del valor mínimo al máximo de la velocidad promedio de ping y agréguelo a una lista (list(p_bins)).\n"
   ]
  },
  {
   "cell_type": "code",
   "execution_count": 20,
   "id": "ef468ccf",
   "metadata": {},
   "outputs": [
    {
     "name": "stdout",
     "output_type": "stream",
     "text": [
      "[0.0, 1.1999447541819523, 2.3998895083639047, 3.599834262545857, 4.799779016727809, 5.999723770909762, 7.199668525091714, 8.399613279273666, 9.599558033455619, 10.799502787637572]\n"
     ]
    }
   ],
   "source": [
    "# Code Cell 9\n",
    "p_bins = np.arange(dfp.Average_p.min(), dfp.Average_p.max(), (dfp.Average_p.max()-dfp.Average_p.min())/10)\n",
    "\n",
    "p_bins = list(p_bins)\n",
    "print(p_bins)"
   ]
  },
  {
   "cell_type": "markdown",
   "id": "a8413885",
   "metadata": {},
   "source": [
    "\n",
    "## Parte 2: Visualizar los datos\n",
    "\n",
    "En la carpeta que contiene el código, hay una secuencia de Python que contiene algunas funciones que ayudan a visualizar datos en un mapa. La biblioteca principal que utiliza es folium. La documentación de la biblioteca se encuentra aquí: https://folium.readthedocs.io/en/latest/).\n",
    "\n",
    "Puede importar las funciones en una secuencia de Python al igual que en cualquier otra biblioteca.\n",
    "Paso 1: Graficar los datos en un mapa.\n",
    "##### a) Obtenga información sobre el código folium_utils\n",
    "\n",
    "Abra el archivo de origen folium_utils.py de Python y léalo detenidamente. Esta secuencia contiene algunas funciones que utilizan la biblioteca folium\n",
    "\n",
    "¿Puede identificar la función principal que vamos a utilizar más adelante en la notebook?\n",
    "\n",
    "Este código abarca lo que debe describir un usuario como múltiples funciones dentro de una con una interfaz más simple.\n",
    "\n",
    "Para generar el primer mapa, utilice la función\n",
    "\n",
    "    folium_top_x_preds_mapper()\n",
    "\n",
    "que se encuentra en folium_utils.\n",
    "##### b) Active la función folium_top_x_preds_mapper() con los siguientes parámetros:\n",
    "\n",
    "    El marco de datos que contiene los datos que se visualizarán (dfp)\n",
    "    El marco de datos que contiene las coordinadas de los polígonos (la_json)\n",
    "    El nombre de la columna en la que se combinarán dos estructuras de datos (LA_code)\n",
    "    El nombre de la columna que contiene datos para graficar (Average_p)\n",
    "    La lista que contiene los límites de cubos (p_bins)\n"
   ]
  },
  {
   "cell_type": "code",
   "execution_count": 21,
   "id": "c4bc29f7",
   "metadata": {},
   "outputs": [
    {
     "ename": "ValueError",
     "evalue": "key_on `'id'` not found in GeoJSON.",
     "output_type": "error",
     "traceback": [
      "\u001b[1;31m---------------------------------------------------------------------------\u001b[0m",
      "\u001b[1;31mValueError\u001b[0m                                Traceback (most recent call last)",
      "Input \u001b[1;32mIn [21]\u001b[0m, in \u001b[0;36m<cell line: 27>\u001b[1;34m()\u001b[0m\n\u001b[0;32m     23\u001b[0m top_x_data \u001b[38;5;241m=\u001b[39m dfp\u001b[38;5;241m.\u001b[39mcopy()\n\u001b[0;32m     25\u001b[0m m \u001b[38;5;241m=\u001b[39m folium\u001b[38;5;241m.\u001b[39mMap(location\u001b[38;5;241m=\u001b[39m[\u001b[38;5;241m52.061\u001b[39m, \u001b[38;5;241m-\u001b[39m\u001b[38;5;241m1.336\u001b[39m], zoom_start\u001b[38;5;241m=\u001b[39m\u001b[38;5;241m6\u001b[39m)\n\u001b[1;32m---> 27\u001b[0m \u001b[43mfolium\u001b[49m\u001b[38;5;241;43m.\u001b[39;49m\u001b[43mChoropleth\u001b[49m\u001b[43m(\u001b[49m\n\u001b[0;32m     28\u001b[0m \u001b[43m    \u001b[49m\u001b[43mgeo_data\u001b[49m\u001b[38;5;241;43m=\u001b[39;49m\u001b[43mtop_x_jsons\u001b[49m\u001b[43m,\u001b[49m\n\u001b[0;32m     29\u001b[0m \u001b[43m    \u001b[49m\u001b[43mdata\u001b[49m\u001b[38;5;241;43m=\u001b[39;49m\u001b[43mtop_x_data\u001b[49m\u001b[43m,\u001b[49m\n\u001b[0;32m     30\u001b[0m \u001b[43m    \u001b[49m\u001b[43mcolumns\u001b[49m\u001b[38;5;241;43m=\u001b[39;49m\u001b[43m[\u001b[49m\u001b[38;5;124;43m'\u001b[39;49m\u001b[38;5;124;43mLA_code\u001b[39;49m\u001b[38;5;124;43m'\u001b[39;49m\u001b[43m,\u001b[49m\u001b[38;5;124;43m'\u001b[39;49m\u001b[38;5;124;43mAverage_p\u001b[39;49m\u001b[38;5;124;43m'\u001b[39;49m\u001b[43m]\u001b[49m\u001b[43m,\u001b[49m\n\u001b[0;32m     31\u001b[0m \u001b[43m    \u001b[49m\u001b[43mkey_on\u001b[49m\u001b[38;5;241;43m=\u001b[39;49m\u001b[38;5;124;43m\"\u001b[39;49m\u001b[38;5;124;43mfeature.id\u001b[39;49m\u001b[38;5;124;43m\"\u001b[39;49m\u001b[43m,\u001b[49m\n\u001b[0;32m     32\u001b[0m \u001b[43m    \u001b[49m\u001b[43mfill_color\u001b[49m\u001b[38;5;241;43m=\u001b[39;49m\u001b[38;5;124;43m\"\u001b[39;49m\u001b[38;5;124;43mBuPu\u001b[39;49m\u001b[38;5;124;43m\"\u001b[39;49m\u001b[43m,\u001b[49m\n\u001b[0;32m     33\u001b[0m \u001b[43m    \u001b[49m\u001b[43mfill_opacity\u001b[49m\u001b[38;5;241;43m=\u001b[39;49m\u001b[38;5;241;43m0.7\u001b[39;49m\u001b[43m,\u001b[49m\n\u001b[0;32m     34\u001b[0m \u001b[43m    \u001b[49m\u001b[43mline_opacity\u001b[49m\u001b[38;5;241;43m=\u001b[39;49m\u001b[38;5;241;43m0.5\u001b[39;49m\u001b[43m,\u001b[49m\n\u001b[0;32m     35\u001b[0m \u001b[43m    \u001b[49m\u001b[43mbins\u001b[49m\u001b[38;5;241;43m=\u001b[39;49m\u001b[43mbins\u001b[49m\u001b[43m,\u001b[49m\u001b[43m)\u001b[49m\u001b[38;5;241m.\u001b[39madd_to(m)\n\u001b[0;32m     36\u001b[0m m\n",
      "File \u001b[1;32m~\\anaconda3\\lib\\site-packages\\folium\\features.py:1289\u001b[0m, in \u001b[0;36mChoropleth.__init__\u001b[1;34m(self, geo_data, data, columns, key_on, bins, fill_color, nan_fill_color, fill_opacity, nan_fill_opacity, line_color, line_weight, line_opacity, name, legend_name, overlay, control, show, topojson, smooth_factor, highlight, **kwargs)\u001b[0m\n\u001b[0;32m   1283\u001b[0m     \u001b[38;5;28mself\u001b[39m\u001b[38;5;241m.\u001b[39mgeojson \u001b[38;5;241m=\u001b[39m TopoJson(\n\u001b[0;32m   1284\u001b[0m         geo_data,\n\u001b[0;32m   1285\u001b[0m         topojson,\n\u001b[0;32m   1286\u001b[0m         style_function\u001b[38;5;241m=\u001b[39mstyle_function,\n\u001b[0;32m   1287\u001b[0m         smooth_factor\u001b[38;5;241m=\u001b[39msmooth_factor)\n\u001b[0;32m   1288\u001b[0m \u001b[38;5;28;01melse\u001b[39;00m:\n\u001b[1;32m-> 1289\u001b[0m     \u001b[38;5;28mself\u001b[39m\u001b[38;5;241m.\u001b[39mgeojson \u001b[38;5;241m=\u001b[39m \u001b[43mGeoJson\u001b[49m\u001b[43m(\u001b[49m\n\u001b[0;32m   1290\u001b[0m \u001b[43m        \u001b[49m\u001b[43mgeo_data\u001b[49m\u001b[43m,\u001b[49m\n\u001b[0;32m   1291\u001b[0m \u001b[43m        \u001b[49m\u001b[43mstyle_function\u001b[49m\u001b[38;5;241;43m=\u001b[39;49m\u001b[43mstyle_function\u001b[49m\u001b[43m,\u001b[49m\n\u001b[0;32m   1292\u001b[0m \u001b[43m        \u001b[49m\u001b[43msmooth_factor\u001b[49m\u001b[38;5;241;43m=\u001b[39;49m\u001b[43msmooth_factor\u001b[49m\u001b[43m,\u001b[49m\n\u001b[0;32m   1293\u001b[0m \u001b[43m        \u001b[49m\u001b[43mhighlight_function\u001b[49m\u001b[38;5;241;43m=\u001b[39;49m\u001b[43mhighlight_function\u001b[49m\u001b[43m \u001b[49m\u001b[38;5;28;43;01mif\u001b[39;49;00m\u001b[43m \u001b[49m\u001b[43mhighlight\u001b[49m\u001b[43m \u001b[49m\u001b[38;5;28;43;01melse\u001b[39;49;00m\u001b[43m \u001b[49m\u001b[38;5;28;43;01mNone\u001b[39;49;00m\u001b[43m)\u001b[49m\n\u001b[0;32m   1295\u001b[0m \u001b[38;5;28mself\u001b[39m\u001b[38;5;241m.\u001b[39madd_child(\u001b[38;5;28mself\u001b[39m\u001b[38;5;241m.\u001b[39mgeojson)\n\u001b[0;32m   1296\u001b[0m \u001b[38;5;28;01mif\u001b[39;00m \u001b[38;5;28mself\u001b[39m\u001b[38;5;241m.\u001b[39mcolor_scale:\n",
      "File \u001b[1;32m~\\anaconda3\\lib\\site-packages\\folium\\features.py:504\u001b[0m, in \u001b[0;36mGeoJson.__init__\u001b[1;34m(self, data, style_function, highlight_function, name, overlay, control, show, smooth_factor, tooltip, embed, popup, zoom_on_click, marker)\u001b[0m\n\u001b[0;32m    502\u001b[0m \u001b[38;5;28mself\u001b[39m\u001b[38;5;241m.\u001b[39mconvert_to_feature_collection()\n\u001b[0;32m    503\u001b[0m \u001b[38;5;28;01mif\u001b[39;00m \u001b[38;5;28mself\u001b[39m\u001b[38;5;241m.\u001b[39mstyle:\n\u001b[1;32m--> 504\u001b[0m     \u001b[38;5;28;43mself\u001b[39;49m\u001b[38;5;241;43m.\u001b[39;49m\u001b[43m_validate_function\u001b[49m\u001b[43m(\u001b[49m\u001b[43mstyle_function\u001b[49m\u001b[43m,\u001b[49m\u001b[43m \u001b[49m\u001b[38;5;124;43m'\u001b[39;49m\u001b[38;5;124;43mstyle_function\u001b[39;49m\u001b[38;5;124;43m'\u001b[39;49m\u001b[43m)\u001b[49m\n\u001b[0;32m    505\u001b[0m     \u001b[38;5;28mself\u001b[39m\u001b[38;5;241m.\u001b[39mstyle_function \u001b[38;5;241m=\u001b[39m style_function\n\u001b[0;32m    506\u001b[0m     \u001b[38;5;28mself\u001b[39m\u001b[38;5;241m.\u001b[39mstyle_map \u001b[38;5;241m=\u001b[39m {}\n",
      "File \u001b[1;32m~\\anaconda3\\lib\\site-packages\\folium\\features.py:569\u001b[0m, in \u001b[0;36mGeoJson._validate_function\u001b[1;34m(self, func, name)\u001b[0m\n\u001b[0;32m    564\u001b[0m \u001b[38;5;124;03m\"\"\"\u001b[39;00m\n\u001b[0;32m    565\u001b[0m \u001b[38;5;124;03mTests `self.style_function` and `self.highlight_function` to ensure\u001b[39;00m\n\u001b[0;32m    566\u001b[0m \u001b[38;5;124;03mthey are functions returning dictionaries.\u001b[39;00m\n\u001b[0;32m    567\u001b[0m \u001b[38;5;124;03m\"\"\"\u001b[39;00m\n\u001b[0;32m    568\u001b[0m test_feature \u001b[38;5;241m=\u001b[39m \u001b[38;5;28mself\u001b[39m\u001b[38;5;241m.\u001b[39mdata[\u001b[38;5;124m'\u001b[39m\u001b[38;5;124mfeatures\u001b[39m\u001b[38;5;124m'\u001b[39m][\u001b[38;5;241m0\u001b[39m]\n\u001b[1;32m--> 569\u001b[0m \u001b[38;5;28;01mif\u001b[39;00m \u001b[38;5;129;01mnot\u001b[39;00m callable(func) \u001b[38;5;129;01mor\u001b[39;00m \u001b[38;5;129;01mnot\u001b[39;00m \u001b[38;5;28misinstance\u001b[39m(\u001b[43mfunc\u001b[49m\u001b[43m(\u001b[49m\u001b[43mtest_feature\u001b[49m\u001b[43m)\u001b[49m, \u001b[38;5;28mdict\u001b[39m):\n\u001b[0;32m    570\u001b[0m     \u001b[38;5;28;01mraise\u001b[39;00m \u001b[38;5;167;01mValueError\u001b[39;00m(\u001b[38;5;124m'\u001b[39m\u001b[38;5;132;01m{}\u001b[39;00m\u001b[38;5;124m should be a function that accepts items from \u001b[39m\u001b[38;5;124m'\u001b[39m\n\u001b[0;32m    571\u001b[0m                      \u001b[38;5;124m'\u001b[39m\u001b[38;5;124mdata[\u001b[39m\u001b[38;5;130;01m\\'\u001b[39;00m\u001b[38;5;124mfeatures\u001b[39m\u001b[38;5;130;01m\\'\u001b[39;00m\u001b[38;5;124m] and returns a dictionary.\u001b[39m\u001b[38;5;124m'\u001b[39m\n\u001b[0;32m    572\u001b[0m                      \u001b[38;5;241m.\u001b[39mformat(name))\n",
      "File \u001b[1;32m~\\anaconda3\\lib\\site-packages\\folium\\features.py:1267\u001b[0m, in \u001b[0;36mChoropleth.__init__.<locals>.style_function\u001b[1;34m(x)\u001b[0m\n\u001b[0;32m   1266\u001b[0m \u001b[38;5;28;01mdef\u001b[39;00m \u001b[38;5;21mstyle_function\u001b[39m(x):\n\u001b[1;32m-> 1267\u001b[0m     color, opacity \u001b[38;5;241m=\u001b[39m \u001b[43mcolor_scale_fun\u001b[49m\u001b[43m(\u001b[49m\u001b[43mx\u001b[49m\u001b[43m)\u001b[49m\n\u001b[0;32m   1268\u001b[0m     \u001b[38;5;28;01mreturn\u001b[39;00m {\n\u001b[0;32m   1269\u001b[0m         \u001b[38;5;124m'\u001b[39m\u001b[38;5;124mweight\u001b[39m\u001b[38;5;124m'\u001b[39m: line_weight,\n\u001b[0;32m   1270\u001b[0m         \u001b[38;5;124m'\u001b[39m\u001b[38;5;124mopacity\u001b[39m\u001b[38;5;124m'\u001b[39m: line_opacity,\n\u001b[1;32m   (...)\u001b[0m\n\u001b[0;32m   1273\u001b[0m         \u001b[38;5;124m'\u001b[39m\u001b[38;5;124mfillColor\u001b[39m\u001b[38;5;124m'\u001b[39m: color\n\u001b[0;32m   1274\u001b[0m     }\n",
      "File \u001b[1;32m~\\anaconda3\\lib\\site-packages\\folium\\features.py:1250\u001b[0m, in \u001b[0;36mChoropleth.__init__.<locals>.color_scale_fun\u001b[1;34m(x)\u001b[0m\n\u001b[0;32m   1248\u001b[0m key_of_x \u001b[38;5;241m=\u001b[39m get_by_key(x, key_on)\n\u001b[0;32m   1249\u001b[0m \u001b[38;5;28;01mif\u001b[39;00m key_of_x \u001b[38;5;129;01mis\u001b[39;00m \u001b[38;5;28;01mNone\u001b[39;00m:\n\u001b[1;32m-> 1250\u001b[0m     \u001b[38;5;28;01mraise\u001b[39;00m \u001b[38;5;167;01mValueError\u001b[39;00m(\u001b[38;5;124m\"\u001b[39m\u001b[38;5;124mkey_on `\u001b[39m\u001b[38;5;132;01m{!r}\u001b[39;00m\u001b[38;5;124m` not found in GeoJSON.\u001b[39m\u001b[38;5;124m\"\u001b[39m\u001b[38;5;241m.\u001b[39mformat(key_on))\n\u001b[0;32m   1252\u001b[0m \u001b[38;5;28;01mif\u001b[39;00m key_of_x \u001b[38;5;129;01mnot\u001b[39;00m \u001b[38;5;129;01min\u001b[39;00m color_data\u001b[38;5;241m.\u001b[39mkeys():\n\u001b[0;32m   1253\u001b[0m     \u001b[38;5;28;01mreturn\u001b[39;00m nan_fill_color, nan_fill_opacity\n",
      "\u001b[1;31mValueError\u001b[0m: key_on `'id'` not found in GeoJSON."
     ]
    }
   ],
   "source": [
    "# Code Cell 10\n",
    "# Create the map\n",
    "import folium\n",
    "import ast\n",
    "#  mymap = folium_utils.folium_top_x_preds_mapper(...)\n",
    "def selected_json_dict_generator(full_list_df, geo_label, geo_label_list):\n",
    "\n",
    "    \n",
    "    allowed_df = full_list_df[full_list_df[geo_label].isin(geo_label_list)]\n",
    "    \n",
    "    output_dict =  {'crs':{u'properties': {u'name': u'urn:ogc:def:crs:OGC:1.3:CRS84'}, u'type': u'name'},\n",
    "                    'type':'FeatureCollection',\n",
    "                    'features':[{'geometry':ast.literal_eval(allowed_df['geometry'].iloc[i]), \n",
    "                                 'type':'Feature', \n",
    "                                 'properties':{ geo_label : allowed_df[geo_label].iloc[i]},'type':'Feature'}\n",
    "                                  for i in range(len(allowed_df))]\n",
    "                   }\n",
    "    \n",
    "    return output_dict\n",
    "\n",
    "bins = list(dfp.Average_p.quantile([0, 0.1, 0.4, 0.6 ,0.8, 1]))\n",
    "top_x_jsons = selected_json_dict_generator(la_json, 'LA_code', dfp['LA_code'].values)\n",
    "top_x_data = dfp.copy()\n",
    "\n",
    "m = folium.Map(location=[52.061, -1.336], zoom_start=6)\n",
    "\n",
    "folium.Choropleth(\n",
    "    geo_data=top_x_jsons,\n",
    "    data=top_x_data,\n",
    "    columns=['LA_code','Average_p'],\n",
    "    key_on=\"feature.id\",\n",
    "    fill_color=\"BuPu\",\n",
    "    fill_opacity=0.7,\n",
    "    line_opacity=0.5,\n",
    "    bins=bins,).add_to(m)\n",
    "m"
   ]
  },
  {
   "cell_type": "markdown",
   "id": "63e44cdc",
   "metadata": {},
   "source": [
    "¿Qué ocurrió? La cantidad de autoridades locales de las dos estructuras de datos dfp y la_json no coincide y Folium arroja un error.\n",
    "\n",
    "Examine los datos:\n",
    "##### c) Grafique la columna Average_p.\n",
    "\n",
    "pandas brinda las funcionalidades básicas para generar los gráficos a partir del marco de datos. El método de gráfico en Series y en el marco de datos es solo un simple wrapper enplt.plot(), pero ahorra algunas líneas de códigos.\n",
    "\n",
    "Puede activar el método plot() directamente en la columna que desee graficar(dfp.Average_p.plot()).\n",
    "\n",
    "(Consulte http://pandas.pydata.org/pandas-docs/version/0.18.1/visualization.html para obtener más detalles sobre visualización en pandas)."
   ]
  },
  {
   "cell_type": "code",
   "execution_count": 14,
   "id": "c40190a3",
   "metadata": {},
   "outputs": [
    {
     "name": "stdout",
     "output_type": "stream",
     "text": [
      "<class 'pandas.core.frame.DataFrame'>\n",
      "RangeIndex: 326 entries, 0 to 325\n",
      "Data columns (total 2 columns):\n",
      " #   Column     Non-Null Count  Dtype  \n",
      "---  ------     --------------  -----  \n",
      " 0   LA_code    326 non-null    object \n",
      " 1   Average_p  326 non-null    float64\n",
      "dtypes: float64(1), object(1)\n",
      "memory usage: 5.2+ KB\n"
     ]
    },
    {
     "data": {
      "image/png": "[encoded data removed]",
      "text/plain": [
       "<Figure size 432x288 with 1 Axes>"
      ]
     },
     "metadata": {
      "needs_background": "light"
     },
     "output_type": "display_data"
    }
   ],
   "source": [
    "# Code Cell 11\n",
    "# Insert code here\n",
    "dfp.Average_p.plot()\n",
    "dfp.info()"
   ]
  },
  {
   "cell_type": "markdown",
   "id": "04ebff2e",
   "metadata": {},
   "source": [
    "La visualización muestra que hay una autoridad local para cual la velocidad promedio de Internet es cero. Debido a que es claramente una anomalía, es necesario realizar un análisis detallado.\n",
    "##### d) Seleccione la fila en la que la velocidad promedio es cero en el marco de datos."
   ]
  },
  {
   "cell_type": "code",
   "execution_count": 16,
   "id": "e8e1e3d7",
   "metadata": {},
   "outputs": [
    {
     "data": {
      "text/html": [
       "<div>\n",
       "<style scoped>\n",
       "    .dataframe tbody tr th:only-of-type {\n",
       "        vertical-align: middle;\n",
       "    }\n",
       "\n",
       "    .dataframe tbody tr th {\n",
       "        vertical-align: top;\n",
       "    }\n",
       "\n",
       "    .dataframe thead th {\n",
       "        text-align: right;\n",
       "    }\n",
       "</style>\n",
       "<table border=\"1\" class=\"dataframe\">\n",
       "  <thead>\n",
       "    <tr style=\"text-align: right;\">\n",
       "      <th></th>\n",
       "      <th>LA_code</th>\n",
       "      <th>Average_p</th>\n",
       "    </tr>\n",
       "  </thead>\n",
       "  <tbody>\n",
       "    <tr>\n",
       "      <th>45</th>\n",
       "      <td>DateTime</td>\n",
       "      <td>0.0</td>\n",
       "    </tr>\n",
       "  </tbody>\n",
       "</table>\n",
       "</div>"
      ],
      "text/plain": [
       "     LA_code  Average_p\n",
       "45  DateTime        0.0"
      ]
     },
     "execution_count": 16,
     "metadata": {},
     "output_type": "execute_result"
    }
   ],
   "source": [
    "# Code Cell 12\n",
    "dfp[dfp.Average_p== 0.0]"
   ]
  },
  {
   "cell_type": "markdown",
   "id": "8bc3a2d6",
   "metadata": {},
   "source": [
    "DateTime no es el nombre de una autoridad local: hubo un error en la recopilación o en el almacenamiento de datos.\n",
    "Paso 2: Corregir los datos y graficarlos en un mapa nuevamente.\n",
    "##### a) elimine la fila incorrecta de su marco de datos.\n",
    "Recuerde que para que el cambio sea efectivo, el indicador inplace se debe encontrar en True"
   ]
  },
  {
   "cell_type": "code",
   "execution_count": 22,
   "id": "7653b8fe",
   "metadata": {},
   "outputs": [
    {
     "data": {
      "text/plain": [
       "<AxesSubplot:>"
      ]
     },
     "execution_count": 22,
     "metadata": {},
     "output_type": "execute_result"
    },
    {
     "data": {
      "image/png": "[encoded data removed]",
      "text/plain": [
       "<Figure size 432x288 with 1 Axes>"
      ]
     },
     "metadata": {
      "needs_background": "light"
     },
     "output_type": "display_data"
    }
   ],
   "source": [
    "# Code Cell 13\n",
    "# hint: you can use the index (44) to remove the row\n",
    "dfp.drop(45,inplace=True)\n",
    "# Plot here the cleaned data\n",
    "dfp.Average_p.plot()"
   ]
  },
  {
   "cell_type": "markdown",
   "id": "abdab2d3",
   "metadata": {},
   "source": [
    "Ahora que los datos lucen mejor, trace el mapa nuevamente activando la función en el wrapper de folium.\n",
    "##### b) Active la función folium_top_x_preds_mapper() nuevamente con los mismos parámetros que antes"
   ]
  },
  {
   "cell_type": "code",
   "execution_count": 23,
   "id": "db77cbef",
   "metadata": {},
   "outputs": [
    {
     "name": "stdout",
     "output_type": "stream",
     "text": [
      "bins -  [8.00433373382758, 8.281332642530225, 8.42009286580533, 8.53516786256231, 8.854774678487471, 11.999447541819524]\n"
     ]
    },
    {
     "ename": "ValueError",
     "evalue": "key_on `'id'` not found in GeoJSON.",
     "output_type": "error",
     "traceback": [
      "\u001b[1;31m---------------------------------------------------------------------------\u001b[0m",
      "\u001b[1;31mValueError\u001b[0m                                Traceback (most recent call last)",
      "Input \u001b[1;32mIn [23]\u001b[0m, in \u001b[0;36m<cell line: 24>\u001b[1;34m()\u001b[0m\n\u001b[0;32m     20\u001b[0m top_x_data \u001b[38;5;241m=\u001b[39m dfp\u001b[38;5;241m.\u001b[39mcopy()\n\u001b[0;32m     22\u001b[0m m \u001b[38;5;241m=\u001b[39m folium\u001b[38;5;241m.\u001b[39mMap(location\u001b[38;5;241m=\u001b[39m[\u001b[38;5;241m52.061\u001b[39m, \u001b[38;5;241m-\u001b[39m\u001b[38;5;241m1.336\u001b[39m], zoom_start\u001b[38;5;241m=\u001b[39m\u001b[38;5;241m6\u001b[39m)\n\u001b[1;32m---> 24\u001b[0m \u001b[43mfolium\u001b[49m\u001b[38;5;241;43m.\u001b[39;49m\u001b[43mChoropleth\u001b[49m\u001b[43m(\u001b[49m\n\u001b[0;32m     25\u001b[0m \u001b[43m    \u001b[49m\u001b[43mgeo_data\u001b[49m\u001b[38;5;241;43m=\u001b[39;49m\u001b[43mtop_x_jsons\u001b[49m\u001b[43m,\u001b[49m\n\u001b[0;32m     26\u001b[0m \u001b[43m    \u001b[49m\u001b[43mdata\u001b[49m\u001b[38;5;241;43m=\u001b[39;49m\u001b[43mtop_x_data\u001b[49m\u001b[43m,\u001b[49m\n\u001b[0;32m     27\u001b[0m \u001b[43m    \u001b[49m\u001b[43mcolumns\u001b[49m\u001b[38;5;241;43m=\u001b[39;49m\u001b[43m[\u001b[49m\u001b[38;5;124;43m'\u001b[39;49m\u001b[38;5;124;43mLA_code\u001b[39;49m\u001b[38;5;124;43m'\u001b[39;49m\u001b[43m,\u001b[49m\u001b[38;5;124;43m'\u001b[39;49m\u001b[38;5;124;43mAverage_p\u001b[39;49m\u001b[38;5;124;43m'\u001b[39;49m\u001b[43m]\u001b[49m\u001b[43m,\u001b[49m\n\u001b[0;32m     28\u001b[0m \u001b[43m    \u001b[49m\u001b[43mkey_on\u001b[49m\u001b[38;5;241;43m=\u001b[39;49m\u001b[38;5;124;43m\"\u001b[39;49m\u001b[38;5;124;43mfeature.id\u001b[39;49m\u001b[38;5;124;43m\"\u001b[39;49m\u001b[43m,\u001b[49m\n\u001b[0;32m     29\u001b[0m \u001b[43m    \u001b[49m\u001b[43mfill_color\u001b[49m\u001b[38;5;241;43m=\u001b[39;49m\u001b[38;5;124;43m\"\u001b[39;49m\u001b[38;5;124;43mBuPu\u001b[39;49m\u001b[38;5;124;43m\"\u001b[39;49m\u001b[43m,\u001b[49m\n\u001b[0;32m     30\u001b[0m \u001b[43m    \u001b[49m\u001b[43mfill_opacity\u001b[49m\u001b[38;5;241;43m=\u001b[39;49m\u001b[38;5;241;43m0.6\u001b[39;49m\u001b[43m,\u001b[49m\n\u001b[0;32m     31\u001b[0m \u001b[43m    \u001b[49m\u001b[43mline_opacity\u001b[49m\u001b[38;5;241;43m=\u001b[39;49m\u001b[38;5;241;43m-\u001b[39;49m\u001b[38;5;241;43m1\u001b[39;49m\u001b[43m,\u001b[49m\n\u001b[0;32m     32\u001b[0m \u001b[43m    \u001b[49m\u001b[43mlegend_name\u001b[49m\u001b[38;5;241;43m=\u001b[39;49m\u001b[38;5;124;43m'\u001b[39;49m\u001b[38;5;124;43mAverage_p\u001b[39;49m\u001b[38;5;124;43m'\u001b[39;49m\u001b[43m,\u001b[49m\n\u001b[0;32m     33\u001b[0m \u001b[43m    \u001b[49m\u001b[43mbins\u001b[49m\u001b[38;5;241;43m=\u001b[39;49m\u001b[43mbins\u001b[49m\u001b[43m,\u001b[49m\n\u001b[0;32m     34\u001b[0m \u001b[43m    \u001b[49m\u001b[43mreset\u001b[49m\u001b[38;5;241;43m=\u001b[39;49m\u001b[38;5;28;43;01mTrue\u001b[39;49;00m\n\u001b[0;32m     35\u001b[0m \u001b[43m)\u001b[49m\u001b[38;5;241m.\u001b[39madd_to(m)\n",
      "File \u001b[1;32m~\\anaconda3\\lib\\site-packages\\folium\\features.py:1289\u001b[0m, in \u001b[0;36mChoropleth.__init__\u001b[1;34m(self, geo_data, data, columns, key_on, bins, fill_color, nan_fill_color, fill_opacity, nan_fill_opacity, line_color, line_weight, line_opacity, name, legend_name, overlay, control, show, topojson, smooth_factor, highlight, **kwargs)\u001b[0m\n\u001b[0;32m   1283\u001b[0m     \u001b[38;5;28mself\u001b[39m\u001b[38;5;241m.\u001b[39mgeojson \u001b[38;5;241m=\u001b[39m TopoJson(\n\u001b[0;32m   1284\u001b[0m         geo_data,\n\u001b[0;32m   1285\u001b[0m         topojson,\n\u001b[0;32m   1286\u001b[0m         style_function\u001b[38;5;241m=\u001b[39mstyle_function,\n\u001b[0;32m   1287\u001b[0m         smooth_factor\u001b[38;5;241m=\u001b[39msmooth_factor)\n\u001b[0;32m   1288\u001b[0m \u001b[38;5;28;01melse\u001b[39;00m:\n\u001b[1;32m-> 1289\u001b[0m     \u001b[38;5;28mself\u001b[39m\u001b[38;5;241m.\u001b[39mgeojson \u001b[38;5;241m=\u001b[39m \u001b[43mGeoJson\u001b[49m\u001b[43m(\u001b[49m\n\u001b[0;32m   1290\u001b[0m \u001b[43m        \u001b[49m\u001b[43mgeo_data\u001b[49m\u001b[43m,\u001b[49m\n\u001b[0;32m   1291\u001b[0m \u001b[43m        \u001b[49m\u001b[43mstyle_function\u001b[49m\u001b[38;5;241;43m=\u001b[39;49m\u001b[43mstyle_function\u001b[49m\u001b[43m,\u001b[49m\n\u001b[0;32m   1292\u001b[0m \u001b[43m        \u001b[49m\u001b[43msmooth_factor\u001b[49m\u001b[38;5;241;43m=\u001b[39;49m\u001b[43msmooth_factor\u001b[49m\u001b[43m,\u001b[49m\n\u001b[0;32m   1293\u001b[0m \u001b[43m        \u001b[49m\u001b[43mhighlight_function\u001b[49m\u001b[38;5;241;43m=\u001b[39;49m\u001b[43mhighlight_function\u001b[49m\u001b[43m \u001b[49m\u001b[38;5;28;43;01mif\u001b[39;49;00m\u001b[43m \u001b[49m\u001b[43mhighlight\u001b[49m\u001b[43m \u001b[49m\u001b[38;5;28;43;01melse\u001b[39;49;00m\u001b[43m \u001b[49m\u001b[38;5;28;43;01mNone\u001b[39;49;00m\u001b[43m)\u001b[49m\n\u001b[0;32m   1295\u001b[0m \u001b[38;5;28mself\u001b[39m\u001b[38;5;241m.\u001b[39madd_child(\u001b[38;5;28mself\u001b[39m\u001b[38;5;241m.\u001b[39mgeojson)\n\u001b[0;32m   1296\u001b[0m \u001b[38;5;28;01mif\u001b[39;00m \u001b[38;5;28mself\u001b[39m\u001b[38;5;241m.\u001b[39mcolor_scale:\n",
      "File \u001b[1;32m~\\anaconda3\\lib\\site-packages\\folium\\features.py:504\u001b[0m, in \u001b[0;36mGeoJson.__init__\u001b[1;34m(self, data, style_function, highlight_function, name, overlay, control, show, smooth_factor, tooltip, embed, popup, zoom_on_click, marker)\u001b[0m\n\u001b[0;32m    502\u001b[0m \u001b[38;5;28mself\u001b[39m\u001b[38;5;241m.\u001b[39mconvert_to_feature_collection()\n\u001b[0;32m    503\u001b[0m \u001b[38;5;28;01mif\u001b[39;00m \u001b[38;5;28mself\u001b[39m\u001b[38;5;241m.\u001b[39mstyle:\n\u001b[1;32m--> 504\u001b[0m     \u001b[38;5;28;43mself\u001b[39;49m\u001b[38;5;241;43m.\u001b[39;49m\u001b[43m_validate_function\u001b[49m\u001b[43m(\u001b[49m\u001b[43mstyle_function\u001b[49m\u001b[43m,\u001b[49m\u001b[43m \u001b[49m\u001b[38;5;124;43m'\u001b[39;49m\u001b[38;5;124;43mstyle_function\u001b[39;49m\u001b[38;5;124;43m'\u001b[39;49m\u001b[43m)\u001b[49m\n\u001b[0;32m    505\u001b[0m     \u001b[38;5;28mself\u001b[39m\u001b[38;5;241m.\u001b[39mstyle_function \u001b[38;5;241m=\u001b[39m style_function\n\u001b[0;32m    506\u001b[0m     \u001b[38;5;28mself\u001b[39m\u001b[38;5;241m.\u001b[39mstyle_map \u001b[38;5;241m=\u001b[39m {}\n",
      "File \u001b[1;32m~\\anaconda3\\lib\\site-packages\\folium\\features.py:569\u001b[0m, in \u001b[0;36mGeoJson._validate_function\u001b[1;34m(self, func, name)\u001b[0m\n\u001b[0;32m    564\u001b[0m \u001b[38;5;124;03m\"\"\"\u001b[39;00m\n\u001b[0;32m    565\u001b[0m \u001b[38;5;124;03mTests `self.style_function` and `self.highlight_function` to ensure\u001b[39;00m\n\u001b[0;32m    566\u001b[0m \u001b[38;5;124;03mthey are functions returning dictionaries.\u001b[39;00m\n\u001b[0;32m    567\u001b[0m \u001b[38;5;124;03m\"\"\"\u001b[39;00m\n\u001b[0;32m    568\u001b[0m test_feature \u001b[38;5;241m=\u001b[39m \u001b[38;5;28mself\u001b[39m\u001b[38;5;241m.\u001b[39mdata[\u001b[38;5;124m'\u001b[39m\u001b[38;5;124mfeatures\u001b[39m\u001b[38;5;124m'\u001b[39m][\u001b[38;5;241m0\u001b[39m]\n\u001b[1;32m--> 569\u001b[0m \u001b[38;5;28;01mif\u001b[39;00m \u001b[38;5;129;01mnot\u001b[39;00m callable(func) \u001b[38;5;129;01mor\u001b[39;00m \u001b[38;5;129;01mnot\u001b[39;00m \u001b[38;5;28misinstance\u001b[39m(\u001b[43mfunc\u001b[49m\u001b[43m(\u001b[49m\u001b[43mtest_feature\u001b[49m\u001b[43m)\u001b[49m, \u001b[38;5;28mdict\u001b[39m):\n\u001b[0;32m    570\u001b[0m     \u001b[38;5;28;01mraise\u001b[39;00m \u001b[38;5;167;01mValueError\u001b[39;00m(\u001b[38;5;124m'\u001b[39m\u001b[38;5;132;01m{}\u001b[39;00m\u001b[38;5;124m should be a function that accepts items from \u001b[39m\u001b[38;5;124m'\u001b[39m\n\u001b[0;32m    571\u001b[0m                      \u001b[38;5;124m'\u001b[39m\u001b[38;5;124mdata[\u001b[39m\u001b[38;5;130;01m\\'\u001b[39;00m\u001b[38;5;124mfeatures\u001b[39m\u001b[38;5;130;01m\\'\u001b[39;00m\u001b[38;5;124m] and returns a dictionary.\u001b[39m\u001b[38;5;124m'\u001b[39m\n\u001b[0;32m    572\u001b[0m                      \u001b[38;5;241m.\u001b[39mformat(name))\n",
      "File \u001b[1;32m~\\anaconda3\\lib\\site-packages\\folium\\features.py:1267\u001b[0m, in \u001b[0;36mChoropleth.__init__.<locals>.style_function\u001b[1;34m(x)\u001b[0m\n\u001b[0;32m   1266\u001b[0m \u001b[38;5;28;01mdef\u001b[39;00m \u001b[38;5;21mstyle_function\u001b[39m(x):\n\u001b[1;32m-> 1267\u001b[0m     color, opacity \u001b[38;5;241m=\u001b[39m \u001b[43mcolor_scale_fun\u001b[49m\u001b[43m(\u001b[49m\u001b[43mx\u001b[49m\u001b[43m)\u001b[49m\n\u001b[0;32m   1268\u001b[0m     \u001b[38;5;28;01mreturn\u001b[39;00m {\n\u001b[0;32m   1269\u001b[0m         \u001b[38;5;124m'\u001b[39m\u001b[38;5;124mweight\u001b[39m\u001b[38;5;124m'\u001b[39m: line_weight,\n\u001b[0;32m   1270\u001b[0m         \u001b[38;5;124m'\u001b[39m\u001b[38;5;124mopacity\u001b[39m\u001b[38;5;124m'\u001b[39m: line_opacity,\n\u001b[1;32m   (...)\u001b[0m\n\u001b[0;32m   1273\u001b[0m         \u001b[38;5;124m'\u001b[39m\u001b[38;5;124mfillColor\u001b[39m\u001b[38;5;124m'\u001b[39m: color\n\u001b[0;32m   1274\u001b[0m     }\n",
      "File \u001b[1;32m~\\anaconda3\\lib\\site-packages\\folium\\features.py:1250\u001b[0m, in \u001b[0;36mChoropleth.__init__.<locals>.color_scale_fun\u001b[1;34m(x)\u001b[0m\n\u001b[0;32m   1248\u001b[0m key_of_x \u001b[38;5;241m=\u001b[39m get_by_key(x, key_on)\n\u001b[0;32m   1249\u001b[0m \u001b[38;5;28;01mif\u001b[39;00m key_of_x \u001b[38;5;129;01mis\u001b[39;00m \u001b[38;5;28;01mNone\u001b[39;00m:\n\u001b[1;32m-> 1250\u001b[0m     \u001b[38;5;28;01mraise\u001b[39;00m \u001b[38;5;167;01mValueError\u001b[39;00m(\u001b[38;5;124m\"\u001b[39m\u001b[38;5;124mkey_on `\u001b[39m\u001b[38;5;132;01m{!r}\u001b[39;00m\u001b[38;5;124m` not found in GeoJSON.\u001b[39m\u001b[38;5;124m\"\u001b[39m\u001b[38;5;241m.\u001b[39mformat(key_on))\n\u001b[0;32m   1252\u001b[0m \u001b[38;5;28;01mif\u001b[39;00m key_of_x \u001b[38;5;129;01mnot\u001b[39;00m \u001b[38;5;129;01min\u001b[39;00m color_data\u001b[38;5;241m.\u001b[39mkeys():\n\u001b[0;32m   1253\u001b[0m     \u001b[38;5;28;01mreturn\u001b[39;00m nan_fill_color, nan_fill_opacity\n",
      "\u001b[1;31mValueError\u001b[0m: key_on `'id'` not found in GeoJSON."
     ]
    }
   ],
   "source": [
    "# Code Cell 14\n",
    "# mymap = ...?\n",
    "def selected_json_dict_generator(full_list_df, geo_label, geo_label_list):\n",
    "\n",
    "    allowed_df = full_list_df[full_list_df[geo_label].isin(geo_label_list)]\n",
    "    \n",
    "    output_dict =  {'crs':{u'properties': {u'name': u'urn:ogc:def:crs:OGC:1.3:CRS84'}, u'type': u'name'},\n",
    "                    'type':'FeatureCollection',\n",
    "                    'features':[{'geometry':ast.literal_eval(allowed_df['geometry'].iloc[i]), \n",
    "                                 'type':'Feature', \n",
    "                                 'properties':{ geo_label : allowed_df[geo_label].iloc[i]},'type':'Feature'}\n",
    "                                  for i in range(len(allowed_df))]\n",
    "                   }\n",
    "    \n",
    "    return output_dict\n",
    "\n",
    "bins = list(dfp.Average_p.quantile([0, 0.1, 0.4, 0.6 ,0.8, 1]))\n",
    "print('bins - ' , bins)\n",
    "top_x_jsons = selected_json_dict_generator(la_json, 'LA_code', dfp['LA_code'].values)\n",
    "top_x_data = dfp.copy()\n",
    "\n",
    "m = folium.Map(location=[52.061, -1.336], zoom_start=6)\n",
    "\n",
    "folium.Choropleth(\n",
    "    geo_data=top_x_jsons,\n",
    "    data=top_x_data,\n",
    "    columns=['LA_code','Average_p'],\n",
    "    key_on=\"feature.id\",\n",
    "    fill_color=\"BuPu\",\n",
    "    fill_opacity=0.6,\n",
    "    line_opacity=-1,\n",
    "    legend_name='Average_p',\n",
    "    bins=bins,\n",
    "    reset=True\n",
    ").add_to(m)"
   ]
  },
  {
   "cell_type": "markdown",
   "id": "5d88b6dc",
   "metadata": {},
   "source": [
    "Deberá visualizar un mapa con solo dos colores para los cubos 6 a 8 y 8 a 10. ¿Qué sucedió allí?\n",
    "\n",
    "El valor 0 fue eliminado, ya que resultó ser una anomalía, pero el rango de los cubos para el mapa de colores no se modificó. ¿Cuál es el nuevo valor mínimo para Average_p?"
   ]
  },
  {
   "cell_type": "code",
   "execution_count": 24,
   "id": "9934c325",
   "metadata": {},
   "outputs": [
    {
     "name": "stdout",
     "output_type": "stream",
     "text": [
      "8.00433373382758\n"
     ]
    }
   ],
   "source": [
    "# Code Cell 15\n",
    "print(dfp.Average_p.min())"
   ]
  },
  {
   "cell_type": "markdown",
   "id": "90d7bffe",
   "metadata": {},
   "source": [
    "Es necesario repetir la creación de cubos con el conjunto de datos limpio. Luego, active la función folium_top_x_preds_mapper() para visualizar correctamente la velocidad promedio de ping en el Reino Unido.\n",
    "##### c) Vuelva a crear el rango del cubo, recree el mapa y visualícelo."
   ]
  },
  {
   "cell_type": "code",
   "execution_count": 25,
   "id": "76e71c80",
   "metadata": {},
   "outputs": [
    {
     "ename": "ValueError",
     "evalue": "key_on `'id'` not found in GeoJSON.",
     "output_type": "error",
     "traceback": [
      "\u001b[1;31m---------------------------------------------------------------------------\u001b[0m",
      "\u001b[1;31mValueError\u001b[0m                                Traceback (most recent call last)",
      "Input \u001b[1;32mIn [25]\u001b[0m, in \u001b[0;36m<cell line: 23>\u001b[1;34m()\u001b[0m\n\u001b[0;32m     19\u001b[0m top_x_data \u001b[38;5;241m=\u001b[39m dfp\u001b[38;5;241m.\u001b[39mcopy()\n\u001b[0;32m     21\u001b[0m m \u001b[38;5;241m=\u001b[39m folium\u001b[38;5;241m.\u001b[39mMap(location\u001b[38;5;241m=\u001b[39m[\u001b[38;5;241m52.061\u001b[39m, \u001b[38;5;241m-\u001b[39m\u001b[38;5;241m1.336\u001b[39m], zoom_start\u001b[38;5;241m=\u001b[39m\u001b[38;5;241m6\u001b[39m)\n\u001b[1;32m---> 23\u001b[0m \u001b[43mfolium\u001b[49m\u001b[38;5;241;43m.\u001b[39;49m\u001b[43mChoropleth\u001b[49m\u001b[43m(\u001b[49m\n\u001b[0;32m     24\u001b[0m \u001b[43m    \u001b[49m\u001b[43mgeo_data\u001b[49m\u001b[38;5;241;43m=\u001b[39;49m\u001b[43mtop_x_jsons\u001b[49m\u001b[43m,\u001b[49m\n\u001b[0;32m     25\u001b[0m \u001b[43m    \u001b[49m\u001b[43mdata\u001b[49m\u001b[38;5;241;43m=\u001b[39;49m\u001b[43mtop_x_data\u001b[49m\u001b[43m,\u001b[49m\n\u001b[0;32m     26\u001b[0m \u001b[43m    \u001b[49m\u001b[43mcolumns\u001b[49m\u001b[38;5;241;43m=\u001b[39;49m\u001b[43m[\u001b[49m\u001b[38;5;124;43m'\u001b[39;49m\u001b[38;5;124;43mLA_code\u001b[39;49m\u001b[38;5;124;43m'\u001b[39;49m\u001b[43m,\u001b[49m\u001b[38;5;124;43m'\u001b[39;49m\u001b[38;5;124;43mAverage_p\u001b[39;49m\u001b[38;5;124;43m'\u001b[39;49m\u001b[43m]\u001b[49m\u001b[43m,\u001b[49m\n\u001b[0;32m     27\u001b[0m \u001b[43m    \u001b[49m\u001b[43mkey_on\u001b[49m\u001b[38;5;241;43m=\u001b[39;49m\u001b[38;5;124;43m\"\u001b[39;49m\u001b[38;5;124;43mfeature.id\u001b[39;49m\u001b[38;5;124;43m\"\u001b[39;49m\u001b[43m,\u001b[49m\n\u001b[0;32m     28\u001b[0m \u001b[43m    \u001b[49m\u001b[43mfill_color\u001b[49m\u001b[38;5;241;43m=\u001b[39;49m\u001b[38;5;124;43m\"\u001b[39;49m\u001b[38;5;124;43mBuPu\u001b[39;49m\u001b[38;5;124;43m\"\u001b[39;49m\u001b[43m,\u001b[49m\n\u001b[0;32m     29\u001b[0m \u001b[43m    \u001b[49m\u001b[43mfill_opacity\u001b[49m\u001b[38;5;241;43m=\u001b[39;49m\u001b[38;5;241;43m0.7\u001b[39;49m\u001b[43m,\u001b[49m\n\u001b[0;32m     30\u001b[0m \u001b[43m    \u001b[49m\u001b[43mline_opacity\u001b[49m\u001b[38;5;241;43m=\u001b[39;49m\u001b[38;5;241;43m0.5\u001b[39;49m\u001b[43m,\u001b[49m\n\u001b[0;32m     31\u001b[0m \u001b[43m    \u001b[49m\u001b[43mlegend_name\u001b[49m\u001b[38;5;241;43m=\u001b[39;49m\u001b[38;5;124;43m\"\u001b[39;49m\u001b[38;5;124;43mAverage_p\u001b[39;49m\u001b[38;5;124;43m\"\u001b[39;49m\u001b[43m,\u001b[49m\n\u001b[0;32m     32\u001b[0m \u001b[43m    \u001b[49m\u001b[43mbins\u001b[49m\u001b[38;5;241;43m=\u001b[39;49m\u001b[43mbins1\u001b[49m\u001b[43m,\u001b[49m\n\u001b[0;32m     33\u001b[0m \u001b[43m    \u001b[49m\u001b[43mreset\u001b[49m\u001b[38;5;241;43m=\u001b[39;49m\u001b[38;5;28;43;01mTrue\u001b[39;49;00m\u001b[43m,\u001b[49m\n\u001b[0;32m     34\u001b[0m \u001b[43m)\u001b[49m\u001b[38;5;241m.\u001b[39madd_to(m)\n\u001b[0;32m     36\u001b[0m m\n",
      "File \u001b[1;32m~\\anaconda3\\lib\\site-packages\\folium\\features.py:1289\u001b[0m, in \u001b[0;36mChoropleth.__init__\u001b[1;34m(self, geo_data, data, columns, key_on, bins, fill_color, nan_fill_color, fill_opacity, nan_fill_opacity, line_color, line_weight, line_opacity, name, legend_name, overlay, control, show, topojson, smooth_factor, highlight, **kwargs)\u001b[0m\n\u001b[0;32m   1283\u001b[0m     \u001b[38;5;28mself\u001b[39m\u001b[38;5;241m.\u001b[39mgeojson \u001b[38;5;241m=\u001b[39m TopoJson(\n\u001b[0;32m   1284\u001b[0m         geo_data,\n\u001b[0;32m   1285\u001b[0m         topojson,\n\u001b[0;32m   1286\u001b[0m         style_function\u001b[38;5;241m=\u001b[39mstyle_function,\n\u001b[0;32m   1287\u001b[0m         smooth_factor\u001b[38;5;241m=\u001b[39msmooth_factor)\n\u001b[0;32m   1288\u001b[0m \u001b[38;5;28;01melse\u001b[39;00m:\n\u001b[1;32m-> 1289\u001b[0m     \u001b[38;5;28mself\u001b[39m\u001b[38;5;241m.\u001b[39mgeojson \u001b[38;5;241m=\u001b[39m \u001b[43mGeoJson\u001b[49m\u001b[43m(\u001b[49m\n\u001b[0;32m   1290\u001b[0m \u001b[43m        \u001b[49m\u001b[43mgeo_data\u001b[49m\u001b[43m,\u001b[49m\n\u001b[0;32m   1291\u001b[0m \u001b[43m        \u001b[49m\u001b[43mstyle_function\u001b[49m\u001b[38;5;241;43m=\u001b[39;49m\u001b[43mstyle_function\u001b[49m\u001b[43m,\u001b[49m\n\u001b[0;32m   1292\u001b[0m \u001b[43m        \u001b[49m\u001b[43msmooth_factor\u001b[49m\u001b[38;5;241;43m=\u001b[39;49m\u001b[43msmooth_factor\u001b[49m\u001b[43m,\u001b[49m\n\u001b[0;32m   1293\u001b[0m \u001b[43m        \u001b[49m\u001b[43mhighlight_function\u001b[49m\u001b[38;5;241;43m=\u001b[39;49m\u001b[43mhighlight_function\u001b[49m\u001b[43m \u001b[49m\u001b[38;5;28;43;01mif\u001b[39;49;00m\u001b[43m \u001b[49m\u001b[43mhighlight\u001b[49m\u001b[43m \u001b[49m\u001b[38;5;28;43;01melse\u001b[39;49;00m\u001b[43m \u001b[49m\u001b[38;5;28;43;01mNone\u001b[39;49;00m\u001b[43m)\u001b[49m\n\u001b[0;32m   1295\u001b[0m \u001b[38;5;28mself\u001b[39m\u001b[38;5;241m.\u001b[39madd_child(\u001b[38;5;28mself\u001b[39m\u001b[38;5;241m.\u001b[39mgeojson)\n\u001b[0;32m   1296\u001b[0m \u001b[38;5;28;01mif\u001b[39;00m \u001b[38;5;28mself\u001b[39m\u001b[38;5;241m.\u001b[39mcolor_scale:\n",
      "File \u001b[1;32m~\\anaconda3\\lib\\site-packages\\folium\\features.py:504\u001b[0m, in \u001b[0;36mGeoJson.__init__\u001b[1;34m(self, data, style_function, highlight_function, name, overlay, control, show, smooth_factor, tooltip, embed, popup, zoom_on_click, marker)\u001b[0m\n\u001b[0;32m    502\u001b[0m \u001b[38;5;28mself\u001b[39m\u001b[38;5;241m.\u001b[39mconvert_to_feature_collection()\n\u001b[0;32m    503\u001b[0m \u001b[38;5;28;01mif\u001b[39;00m \u001b[38;5;28mself\u001b[39m\u001b[38;5;241m.\u001b[39mstyle:\n\u001b[1;32m--> 504\u001b[0m     \u001b[38;5;28;43mself\u001b[39;49m\u001b[38;5;241;43m.\u001b[39;49m\u001b[43m_validate_function\u001b[49m\u001b[43m(\u001b[49m\u001b[43mstyle_function\u001b[49m\u001b[43m,\u001b[49m\u001b[43m \u001b[49m\u001b[38;5;124;43m'\u001b[39;49m\u001b[38;5;124;43mstyle_function\u001b[39;49m\u001b[38;5;124;43m'\u001b[39;49m\u001b[43m)\u001b[49m\n\u001b[0;32m    505\u001b[0m     \u001b[38;5;28mself\u001b[39m\u001b[38;5;241m.\u001b[39mstyle_function \u001b[38;5;241m=\u001b[39m style_function\n\u001b[0;32m    506\u001b[0m     \u001b[38;5;28mself\u001b[39m\u001b[38;5;241m.\u001b[39mstyle_map \u001b[38;5;241m=\u001b[39m {}\n",
      "File \u001b[1;32m~\\anaconda3\\lib\\site-packages\\folium\\features.py:569\u001b[0m, in \u001b[0;36mGeoJson._validate_function\u001b[1;34m(self, func, name)\u001b[0m\n\u001b[0;32m    564\u001b[0m \u001b[38;5;124;03m\"\"\"\u001b[39;00m\n\u001b[0;32m    565\u001b[0m \u001b[38;5;124;03mTests `self.style_function` and `self.highlight_function` to ensure\u001b[39;00m\n\u001b[0;32m    566\u001b[0m \u001b[38;5;124;03mthey are functions returning dictionaries.\u001b[39;00m\n\u001b[0;32m    567\u001b[0m \u001b[38;5;124;03m\"\"\"\u001b[39;00m\n\u001b[0;32m    568\u001b[0m test_feature \u001b[38;5;241m=\u001b[39m \u001b[38;5;28mself\u001b[39m\u001b[38;5;241m.\u001b[39mdata[\u001b[38;5;124m'\u001b[39m\u001b[38;5;124mfeatures\u001b[39m\u001b[38;5;124m'\u001b[39m][\u001b[38;5;241m0\u001b[39m]\n\u001b[1;32m--> 569\u001b[0m \u001b[38;5;28;01mif\u001b[39;00m \u001b[38;5;129;01mnot\u001b[39;00m callable(func) \u001b[38;5;129;01mor\u001b[39;00m \u001b[38;5;129;01mnot\u001b[39;00m \u001b[38;5;28misinstance\u001b[39m(\u001b[43mfunc\u001b[49m\u001b[43m(\u001b[49m\u001b[43mtest_feature\u001b[49m\u001b[43m)\u001b[49m, \u001b[38;5;28mdict\u001b[39m):\n\u001b[0;32m    570\u001b[0m     \u001b[38;5;28;01mraise\u001b[39;00m \u001b[38;5;167;01mValueError\u001b[39;00m(\u001b[38;5;124m'\u001b[39m\u001b[38;5;132;01m{}\u001b[39;00m\u001b[38;5;124m should be a function that accepts items from \u001b[39m\u001b[38;5;124m'\u001b[39m\n\u001b[0;32m    571\u001b[0m                      \u001b[38;5;124m'\u001b[39m\u001b[38;5;124mdata[\u001b[39m\u001b[38;5;130;01m\\'\u001b[39;00m\u001b[38;5;124mfeatures\u001b[39m\u001b[38;5;130;01m\\'\u001b[39;00m\u001b[38;5;124m] and returns a dictionary.\u001b[39m\u001b[38;5;124m'\u001b[39m\n\u001b[0;32m    572\u001b[0m                      \u001b[38;5;241m.\u001b[39mformat(name))\n",
      "File \u001b[1;32m~\\anaconda3\\lib\\site-packages\\folium\\features.py:1267\u001b[0m, in \u001b[0;36mChoropleth.__init__.<locals>.style_function\u001b[1;34m(x)\u001b[0m\n\u001b[0;32m   1266\u001b[0m \u001b[38;5;28;01mdef\u001b[39;00m \u001b[38;5;21mstyle_function\u001b[39m(x):\n\u001b[1;32m-> 1267\u001b[0m     color, opacity \u001b[38;5;241m=\u001b[39m \u001b[43mcolor_scale_fun\u001b[49m\u001b[43m(\u001b[49m\u001b[43mx\u001b[49m\u001b[43m)\u001b[49m\n\u001b[0;32m   1268\u001b[0m     \u001b[38;5;28;01mreturn\u001b[39;00m {\n\u001b[0;32m   1269\u001b[0m         \u001b[38;5;124m'\u001b[39m\u001b[38;5;124mweight\u001b[39m\u001b[38;5;124m'\u001b[39m: line_weight,\n\u001b[0;32m   1270\u001b[0m         \u001b[38;5;124m'\u001b[39m\u001b[38;5;124mopacity\u001b[39m\u001b[38;5;124m'\u001b[39m: line_opacity,\n\u001b[1;32m   (...)\u001b[0m\n\u001b[0;32m   1273\u001b[0m         \u001b[38;5;124m'\u001b[39m\u001b[38;5;124mfillColor\u001b[39m\u001b[38;5;124m'\u001b[39m: color\n\u001b[0;32m   1274\u001b[0m     }\n",
      "File \u001b[1;32m~\\anaconda3\\lib\\site-packages\\folium\\features.py:1250\u001b[0m, in \u001b[0;36mChoropleth.__init__.<locals>.color_scale_fun\u001b[1;34m(x)\u001b[0m\n\u001b[0;32m   1248\u001b[0m key_of_x \u001b[38;5;241m=\u001b[39m get_by_key(x, key_on)\n\u001b[0;32m   1249\u001b[0m \u001b[38;5;28;01mif\u001b[39;00m key_of_x \u001b[38;5;129;01mis\u001b[39;00m \u001b[38;5;28;01mNone\u001b[39;00m:\n\u001b[1;32m-> 1250\u001b[0m     \u001b[38;5;28;01mraise\u001b[39;00m \u001b[38;5;167;01mValueError\u001b[39;00m(\u001b[38;5;124m\"\u001b[39m\u001b[38;5;124mkey_on `\u001b[39m\u001b[38;5;132;01m{!r}\u001b[39;00m\u001b[38;5;124m` not found in GeoJSON.\u001b[39m\u001b[38;5;124m\"\u001b[39m\u001b[38;5;241m.\u001b[39mformat(key_on))\n\u001b[0;32m   1252\u001b[0m \u001b[38;5;28;01mif\u001b[39;00m key_of_x \u001b[38;5;129;01mnot\u001b[39;00m \u001b[38;5;129;01min\u001b[39;00m color_data\u001b[38;5;241m.\u001b[39mkeys():\n\u001b[0;32m   1253\u001b[0m     \u001b[38;5;28;01mreturn\u001b[39;00m nan_fill_color, nan_fill_opacity\n",
      "\u001b[1;31mValueError\u001b[0m: key_on `'id'` not found in GeoJSON."
     ]
    }
   ],
   "source": [
    "# Code Cell 16\n",
    "def selected_json_dict_generator(full_list_df, geo_label, geo_label_list):\n",
    "    \n",
    "    allowed_df = full_list_df[full_list_df[geo_label].isin(geo_label_list)]\n",
    "    \n",
    "    output_dict =  {'crs':{u'properties': {u'name': u'urn:ogc:def:crs:OGC:1.3:CRS84'}, u'type': u'name'},\n",
    "                    'type':'FeatureCollection',\n",
    "                    'features':[{'geometry':ast.literal_eval(allowed_df['geometry'].iloc[i]), \n",
    "                                 'type':'Feature', \n",
    "                                 'properties':{ geo_label : allowed_df[geo_label].iloc[i]},'type':'Feature'}\n",
    "                                  for i in range(len(allowed_df))]\n",
    "                   }\n",
    "    \n",
    "    return output_dict\n",
    "\n",
    "#bins = list(dfp.Average_p.quantile([0.0, 0.2, 0.4, 0.6 ,0.8, 1]))\n",
    "bins1= [1,12,23,34,45,60]\n",
    "top_x_jsons = selected_json_dict_generator(la_json, 'LA_code', dfp['LA_code'].values)\n",
    "top_x_data = dfp.copy()\n",
    "\n",
    "m = folium.Map(location=[52.061, -1.336], zoom_start=6)\n",
    "\n",
    "folium.Choropleth(\n",
    "    geo_data=top_x_jsons,\n",
    "    data=top_x_data,\n",
    "    columns=['LA_code','Average_p'],\n",
    "    key_on=\"feature.id\",\n",
    "    fill_color=\"BuPu\",\n",
    "    fill_opacity=0.7,\n",
    "    line_opacity=0.5,\n",
    "    legend_name=\"Average_p\",\n",
    "    bins=bins1,\n",
    "    reset=True,\n",
    ").add_to(m)\n",
    "\n",
    "m"
   ]
  },
  {
   "cell_type": "markdown",
   "id": "d1bbd58d",
   "metadata": {},
   "source": [
    "¡Mucho mejor!\n",
    "\n",
    "La visualización de datos con un gráfico de línea simple nos permite detectar un error muy fácilmente. A veces, es necesario realizar una investigación más detallada.\n",
    "\n",
    "Para realizar prácticas adicionales, repita el ejercicio, pero cree aparece las visualizaciones para las columnas Average_d (velocidad de descarga promedio) y Average_u (velocidad de carga promedio)."
   ]
  },
  {
   "cell_type": "code",
   "execution_count": null,
   "id": "939830fd",
   "metadata": {},
   "outputs": [],
   "source": []
  }
 ],
 "metadata": {
  "kernelspec": {
   "display_name": "Python 3 (ipykernel)",
   "language": "python",
   "name": "python3"
  },
  "language_info": {
   "codemirror_mode": {
    "name": "ipython",
    "version": 3
   },
   "file_extension": ".py",
   "mimetype": "text/x-python",
   "name": "python",
   "nbconvert_exporter": "python",
   "pygments_lexer": "ipython3",
   "version": "3.9.12"
  }
 },
 "nbformat": 4,
 "nbformat_minor": 5
}
