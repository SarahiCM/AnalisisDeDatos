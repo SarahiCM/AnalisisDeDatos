{
 "cells": [
  {
   "cell_type": "markdown",
   "id": "5c74a1a7",
   "metadata": {},
   "source": [
    "# Intituto tecnologico de Durango\n",
    "## Analítica de datos en las organizaciones\n",
    "### 3.2.1.6 Visualización del contador de Internet\n",
    "\n",
    "\n",
    "\n",
    "\n",
    "\n",
    "\n",
    "\n",
    "\n",
    "\n",
    "\n",
    "\n",
    "\n",
    "\n",
    "\n",
    "#### Nombre : Sarahi Caloso Mancillas\n",
    "#### No de Control: 19040351\n",
    "####  Maestro: José Gabriel Rodríguez Rivas"
   ]
  },
  {
   "cell_type": "markdown",
   "id": "20e34b4e",
   "metadata": {},
   "source": [
    "## Parte 1: Limpieza y análisis de datos\n",
    "\n",
    "Se dice a veces que quienes practican el aprendizaje automático dedican el 80 % de su tiempo a la limpieza de datos. Si bien esta afirmación es probablemente una exageración, es verdad que la limpieza de datos es una tarea fundamental y necesaria para garantizar el éxito de un proyecto de aprendizaje automático. Como en muchas otras líneas de trabajo, se aplica la ley «basura que entra, basura que sale». Simplemente, no es posible realizar un análisis significativo de datos en datos sucios.\n",
    "### Paso 1: Limpieza de datos\n",
    "\n",
    "Cargue los datos del archivo rpi_data_compact.csv. Este archivo contiene las mediciones de la velocidad de Internet adquiridas durante la práctica de laboratorio Internet_Speed_Data_Acquisition. En particular, el enfoque se encuentra en tres cantidades: tiempo de ping (ms), velocidad de descarga (Mbit/s) y velocidad de carga (Mbit/s).\n",
    "a) Lea los datos de rpi_data_compact.csv.\n",
    "\n",
    "Lea el archivo ./Data/rpi_data_compact.csv dentro de la estructura de datos de Pandas llamada df_compact a través de read_csv y examine las tres primeras filas de esta estructura de datos a través de df.head."
   ]
  },
  {
   "cell_type": "code",
   "execution_count": 1,
   "id": "4865dacf",
   "metadata": {},
   "outputs": [],
   "source": [
    "# Code Cell 1\n",
    "import pandas as pd\n",
    "import numpy as np"
   ]
  },
  {
   "cell_type": "code",
   "execution_count": 2,
   "id": "9a5c460e",
   "metadata": {},
   "outputs": [
    {
     "data": {
      "text/html": [
       "<div>\n",
       "<style scoped>\n",
       "    .dataframe tbody tr th:only-of-type {\n",
       "        vertical-align: middle;\n",
       "    }\n",
       "\n",
       "    .dataframe tbody tr th {\n",
       "        vertical-align: top;\n",
       "    }\n",
       "\n",
       "    .dataframe thead th {\n",
       "        text-align: right;\n",
       "    }\n",
       "</style>\n",
       "<table border=\"1\" class=\"dataframe\">\n",
       "  <thead>\n",
       "    <tr style=\"text-align: right;\">\n",
       "      <th></th>\n",
       "      <th>Unnamed: 0</th>\n",
       "      <th>Ping (ms)</th>\n",
       "      <th>Download (Mbit/s)</th>\n",
       "      <th>Upload (Mbit/s)</th>\n",
       "      <th>Date</th>\n",
       "      <th>Time</th>\n",
       "    </tr>\n",
       "  </thead>\n",
       "  <tbody>\n",
       "    <tr>\n",
       "      <th>0</th>\n",
       "      <td>0</td>\n",
       "      <td>26.992</td>\n",
       "      <td>91.80</td>\n",
       "      <td>14.31</td>\n",
       "      <td>2016-11-24</td>\n",
       "      <td>13:36:25</td>\n",
       "    </tr>\n",
       "    <tr>\n",
       "      <th>1</th>\n",
       "      <td>1</td>\n",
       "      <td>24.532</td>\n",
       "      <td>88.19</td>\n",
       "      <td>14.12</td>\n",
       "      <td>2016-11-24</td>\n",
       "      <td>13:36:55</td>\n",
       "    </tr>\n",
       "    <tr>\n",
       "      <th>2</th>\n",
       "      <td>2</td>\n",
       "      <td>20.225</td>\n",
       "      <td>59.86</td>\n",
       "      <td>14.11</td>\n",
       "      <td>2016-11-24</td>\n",
       "      <td>13:37:25</td>\n",
       "    </tr>\n",
       "  </tbody>\n",
       "</table>\n",
       "</div>"
      ],
      "text/plain": [
       "   Unnamed: 0 Ping (ms) Download (Mbit/s)  Upload (Mbit/s)        Date  \\\n",
       "0           0    26.992             91.80            14.31  2016-11-24   \n",
       "1           1    24.532             88.19            14.12  2016-11-24   \n",
       "2           2    20.225             59.86            14.11  2016-11-24   \n",
       "\n",
       "       Time  \n",
       "0  13:36:25  \n",
       "1  13:36:55  \n",
       "2  13:37:25  "
      ]
     },
     "execution_count": 2,
     "metadata": {},
     "output_type": "execute_result"
    }
   ],
   "source": [
    "# Code Cell 2\n",
    "# Import data from csv file\n",
    "df_compact = pd.read_csv('./DATA/rpi_data_compact.csv')\n",
    "df_compact.head(3)"
   ]
  },
  {
   "cell_type": "markdown",
   "id": "d82d74d7",
   "metadata": {},
   "source": [
    "b) Elimine las columnas no deseadas.\n",
    "\n",
    "Como puede haber notado, la estructura de datos df_compact tiene una columna adicional. Utilice el comando df.drop para eliminar esta columna. Observe la práctica de laboratorio Internet_Speed_Data_Acquisition para obtener ayuda."
   ]
  },
  {
   "cell_type": "code",
   "execution_count": 3,
   "id": "9c40f60b",
   "metadata": {},
   "outputs": [
    {
     "data": {
      "text/html": [
       "<div>\n",
       "<style scoped>\n",
       "    .dataframe tbody tr th:only-of-type {\n",
       "        vertical-align: middle;\n",
       "    }\n",
       "\n",
       "    .dataframe tbody tr th {\n",
       "        vertical-align: top;\n",
       "    }\n",
       "\n",
       "    .dataframe thead th {\n",
       "        text-align: right;\n",
       "    }\n",
       "</style>\n",
       "<table border=\"1\" class=\"dataframe\">\n",
       "  <thead>\n",
       "    <tr style=\"text-align: right;\">\n",
       "      <th></th>\n",
       "      <th>Ping (ms)</th>\n",
       "      <th>Download (Mbit/s)</th>\n",
       "      <th>Upload (Mbit/s)</th>\n",
       "      <th>Date</th>\n",
       "      <th>Time</th>\n",
       "    </tr>\n",
       "  </thead>\n",
       "  <tbody>\n",
       "    <tr>\n",
       "      <th>0</th>\n",
       "      <td>26.992</td>\n",
       "      <td>91.80</td>\n",
       "      <td>14.31</td>\n",
       "      <td>2016-11-24</td>\n",
       "      <td>13:36:25</td>\n",
       "    </tr>\n",
       "    <tr>\n",
       "      <th>1</th>\n",
       "      <td>24.532</td>\n",
       "      <td>88.19</td>\n",
       "      <td>14.12</td>\n",
       "      <td>2016-11-24</td>\n",
       "      <td>13:36:55</td>\n",
       "    </tr>\n",
       "    <tr>\n",
       "      <th>2</th>\n",
       "      <td>20.225</td>\n",
       "      <td>59.86</td>\n",
       "      <td>14.11</td>\n",
       "      <td>2016-11-24</td>\n",
       "      <td>13:37:25</td>\n",
       "    </tr>\n",
       "  </tbody>\n",
       "</table>\n",
       "</div>"
      ],
      "text/plain": [
       "  Ping (ms) Download (Mbit/s)  Upload (Mbit/s)        Date      Time\n",
       "0    26.992             91.80            14.31  2016-11-24  13:36:25\n",
       "1    24.532             88.19            14.12  2016-11-24  13:36:55\n",
       "2    20.225             59.86            14.11  2016-11-24  13:37:25"
      ]
     },
     "execution_count": 3,
     "metadata": {},
     "output_type": "execute_result"
    }
   ],
   "source": [
    "# Code Cell 3\n",
    "# Remove extra index columns\n",
    "df_compact.drop(['Unnamed: 0'], axis=1, inplace=True)\n",
    "df_compact.head(3)"
   ]
  },
  {
   "cell_type": "markdown",
   "id": "13cf41c9",
   "metadata": {},
   "source": [
    "c) Elimine los valores NaN.\n",
    "\n",
    "Un problema típico que afecta la calidad de los datos es la presencia de valores NaN. Estos valores pueden hacer que las funciones de análisis de datos finalicen el cálculo de forma abrupta, arrojen un error o generen resultados incorrectos. Generalmente, los valores NaN representan una porción de información que el conjunto de datos debe contener pero no contiene. En este ejemplo, los valores NaN en df_compact pueden representar las mediciones donde cayó la conexión de Internet o las consultas de Raspberry Pi que el servidor Speedtest.net no pudo responder. El siguiente código revela cuántos valores NaN contiene nuestra estructura de datos.\n",
    "\n",
    "Primero, vaya a http://pandas.pydata.org/pandas-docs/version/0.14.1/index.html y busque isnull en el cuadro de búsqueda.\n",
    "\n",
    "La documentación de la función isnull es un poco difícil de comprender. Afortunadamente, la interfaz interactiva de Jupyter nos permite activar esta función y examinar rápidamente su resultado."
   ]
  },
  {
   "cell_type": "code",
   "execution_count": 4,
   "id": "d22e3f43",
   "metadata": {},
   "outputs": [
    {
     "name": "stdout",
     "output_type": "stream",
     "text": [
      "<class 'pandas.core.frame.DataFrame'>\n"
     ]
    },
    {
     "data": {
      "text/html": [
       "<div>\n",
       "<style scoped>\n",
       "    .dataframe tbody tr th:only-of-type {\n",
       "        vertical-align: middle;\n",
       "    }\n",
       "\n",
       "    .dataframe tbody tr th {\n",
       "        vertical-align: top;\n",
       "    }\n",
       "\n",
       "    .dataframe thead th {\n",
       "        text-align: right;\n",
       "    }\n",
       "</style>\n",
       "<table border=\"1\" class=\"dataframe\">\n",
       "  <thead>\n",
       "    <tr style=\"text-align: right;\">\n",
       "      <th></th>\n",
       "      <th>Ping (ms)</th>\n",
       "      <th>Download (Mbit/s)</th>\n",
       "      <th>Upload (Mbit/s)</th>\n",
       "      <th>Date</th>\n",
       "      <th>Time</th>\n",
       "    </tr>\n",
       "  </thead>\n",
       "  <tbody>\n",
       "    <tr>\n",
       "      <th>0</th>\n",
       "      <td>False</td>\n",
       "      <td>False</td>\n",
       "      <td>False</td>\n",
       "      <td>False</td>\n",
       "      <td>False</td>\n",
       "    </tr>\n",
       "    <tr>\n",
       "      <th>1</th>\n",
       "      <td>False</td>\n",
       "      <td>False</td>\n",
       "      <td>False</td>\n",
       "      <td>False</td>\n",
       "      <td>False</td>\n",
       "    </tr>\n",
       "    <tr>\n",
       "      <th>2</th>\n",
       "      <td>False</td>\n",
       "      <td>False</td>\n",
       "      <td>False</td>\n",
       "      <td>False</td>\n",
       "      <td>False</td>\n",
       "    </tr>\n",
       "    <tr>\n",
       "      <th>3</th>\n",
       "      <td>False</td>\n",
       "      <td>False</td>\n",
       "      <td>False</td>\n",
       "      <td>False</td>\n",
       "      <td>False</td>\n",
       "    </tr>\n",
       "    <tr>\n",
       "      <th>4</th>\n",
       "      <td>False</td>\n",
       "      <td>False</td>\n",
       "      <td>False</td>\n",
       "      <td>False</td>\n",
       "      <td>False</td>\n",
       "    </tr>\n",
       "  </tbody>\n",
       "</table>\n",
       "</div>"
      ],
      "text/plain": [
       "   Ping (ms)  Download (Mbit/s)  Upload (Mbit/s)   Date   Time\n",
       "0      False              False            False  False  False\n",
       "1      False              False            False  False  False\n",
       "2      False              False            False  False  False\n",
       "3      False              False            False  False  False\n",
       "4      False              False            False  False  False"
      ]
     },
     "execution_count": 4,
     "metadata": {},
     "output_type": "execute_result"
    }
   ],
   "source": [
    "# Code Cell 4\n",
    "NaNs_in_df = df_compact.isnull()\n",
    "print(type(NaNs_in_df))\n",
    "NaNs_in_df.head()"
   ]
  },
  {
   "cell_type": "markdown",
   "id": "d7cb3029",
   "metadata": {},
   "source": [
    "El resultado de la función isnull es un nuevo marco de datos que contiene un valor True o False si el elemento correspondiente de la Estructura de datos es NaN o no. Con la función sum de esta Estructura de datos convertirá automáticamente los valores True en 1 y False en 0."
   ]
  },
  {
   "cell_type": "code",
   "execution_count": 5,
   "id": "0d184912",
   "metadata": {},
   "outputs": [
    {
     "name": "stdout",
     "output_type": "stream",
     "text": [
      "<class 'pandas.core.series.Series'>\n"
     ]
    },
    {
     "data": {
      "text/plain": [
       "Ping (ms)            1\n",
       "Download (Mbit/s)    1\n",
       "Upload (Mbit/s)      7\n",
       "Date                 7\n",
       "Time                 7\n",
       "dtype: int64"
      ]
     },
     "execution_count": 5,
     "metadata": {},
     "output_type": "execute_result"
    }
   ],
   "source": [
    "# Code Cell 5\n",
    "NaNs_per_column = NaNs_in_df.sum()\n",
    "print(type(NaNs_per_column))\n",
    "NaNs_per_column.head()"
   ]
  },
  {
   "cell_type": "markdown",
   "id": "1366f207",
   "metadata": {},
   "source": [
    "La NaN_per_column es un objeto de Series de pandas que puede considerarse como una única columna de Estructura de datos (una Estructura de datos es, en realidad, un dict de la Serie, donde las claves son los nombres de las columnas). Un objeto Series contiene casi todas las funcionalidades de una Estructura de datos. Utilice la función sum de Nan_per_column Series para visualizar el resultado."
   ]
  },
  {
   "cell_type": "code",
   "execution_count": 6,
   "id": "4d4d351e",
   "metadata": {},
   "outputs": [
    {
     "data": {
      "text/plain": [
       "23"
      ]
     },
     "execution_count": 6,
     "metadata": {},
     "output_type": "execute_result"
    }
   ],
   "source": [
    "# Code Cell 6\n",
    "NaNs_total = NaNs_per_column.sum()\n",
    "NaNs_total"
   ]
  },
  {
   "cell_type": "markdown",
   "id": "e25808dc",
   "metadata": {},
   "source": [
    "Es posible concatenar toda esta instrucción en una línea de la siguiente manera:"
   ]
  },
  {
   "cell_type": "code",
   "execution_count": 7,
   "id": "c6effaeb",
   "metadata": {},
   "outputs": [
    {
     "data": {
      "text/plain": [
       "23"
      ]
     },
     "execution_count": 7,
     "metadata": {},
     "output_type": "execute_result"
    }
   ],
   "source": [
    "# Code Cell 7\n",
    "df_compact.isnull().sum().sum()"
   ]
  },
  {
   "cell_type": "markdown",
   "id": "332fc1a9",
   "metadata": {},
   "source": [
    "Calcule la cantidad de valores faltantes como un porcentaje de todos los elementos en la estructura de datos (redondee el segundo decimal del resultado con numpy.round https://docs.scipy.org/doc/numpy/reference/generated/numpy.round_.html)\n",
    "\n",
    "Use la función dropna de pandas para eliminar los valores NaN de df_compact.\n"
   ]
  },
  {
   "cell_type": "code",
   "execution_count": 8,
   "id": "5600af88",
   "metadata": {},
   "outputs": [
    {
     "name": "stdout",
     "output_type": "stream",
     "text": [
      "The DataFrame contains : 23 NaNs, equals to 0.6765 of the measurements\n"
     ]
    }
   ],
   "source": [
    "# Code Cell 8\n",
    "NaNs_pct = np.round(df_compact.isnull().sum().sum()/float(len(df_compact)*len(df_compact.columns))*100, decimals = 4)\n",
    "print('The DataFrame contains : {} NaNs, equals to {} of the measurements'.format(NaNs_total, NaNs_pct))"
   ]
  },
  {
   "cell_type": "markdown",
   "id": "68977aa1",
   "metadata": {},
   "source": [
    "La función dropna, si se activa solamente con los parámetros predeterminados, elimina todas las filas de una Estructura de datos si alguno de sus valores es «NaN»."
   ]
  },
  {
   "cell_type": "code",
   "execution_count": 9,
   "id": "b79f8173",
   "metadata": {},
   "outputs": [],
   "source": [
    "# Code Cell 9\n",
    "# Remove NaN values\n",
    "df_compact_clean = df_compact.dropna()"
   ]
  },
  {
   "cell_type": "markdown",
   "id": "7c9ac78c",
   "metadata": {},
   "source": [
    "Compare la longitud de la Estructura de datos antes y después de utilizar dropna. ¿Observa algún valor impar? ¿Por qué?"
   ]
  },
  {
   "cell_type": "code",
   "execution_count": 10,
   "id": "cb35b1e5",
   "metadata": {},
   "outputs": [
    {
     "name": "stdout",
     "output_type": "stream",
     "text": [
      "680\n",
      "673\n"
     ]
    }
   ],
   "source": [
    "# Code Cell 10\n",
    "print(len(df_compact))\n",
    "print(len(df_compact_clean))"
   ]
  },
  {
   "cell_type": "markdown",
   "id": "a07272e4",
   "metadata": {},
   "source": [
    "d) Cambie el formato de los valores.\n",
    "\n",
    "Las columnas para ping, carga, y descarga de la estructura de datos df_compact contienen valores numéricos. Es entonces razonable prever que todas compartan un tipo de datos, por ejemplo, float64. Este, sin embargo, no es el caso, ya que se puede detectar a través de dtypes:"
   ]
  },
  {
   "cell_type": "code",
   "execution_count": 11,
   "id": "6dea5243",
   "metadata": {},
   "outputs": [
    {
     "data": {
      "text/plain": [
       "Ping (ms)             object\n",
       "Download (Mbit/s)     object\n",
       "Upload (Mbit/s)      float64\n",
       "Date                  object\n",
       "Time                  object\n",
       "dtype: object"
      ]
     },
     "execution_count": 11,
     "metadata": {},
     "output_type": "execute_result"
    }
   ],
   "source": [
    "# Code Cell 11\n",
    "# Ping and Download are not floats\n",
    "df_compact.dtypes"
   ]
  },
  {
   "cell_type": "markdown",
   "id": "82b1ce4d",
   "metadata": {},
   "source": [
    "Utilice la función float() de Python para convertir un valor de cadena en formato float."
   ]
  },
  {
   "cell_type": "code",
   "execution_count": 12,
   "id": "60e8fb73",
   "metadata": {},
   "outputs": [
    {
     "name": "stdout",
     "output_type": "stream",
     "text": [
      "10.56 <class 'str'> 10.56 <class 'float'>\n"
     ]
    }
   ],
   "source": [
    "# Code Cell 12\n",
    "str_val = '10.56'\n",
    "float_val = float(str_val)\n",
    "print(str_val, type(str_val), float_val, type(float_val))"
   ]
  },
  {
   "cell_type": "markdown",
   "id": "18f33426",
   "metadata": {},
   "source": [
    "Ahora convierta todos los valores de las columnas 'Ping (ms)' and 'Download (Mbit/s)' en flotantes. Sugerencia: utilice apply y lambda. Para obtener ayuda, mire la práctica de laboratorio Internet_Speed_Data_Acquisition."
   ]
  },
  {
   "cell_type": "code",
   "execution_count": 13,
   "id": "c345b1cd",
   "metadata": {},
   "outputs": [
    {
     "data": {
      "text/plain": [
       "Ping (ms)                   object\n",
       "Download (Mbit/s)           object\n",
       "Upload (Mbit/s)            float64\n",
       "Date                        object\n",
       "Time                        object\n",
       "Ping (ms)_float            float64\n",
       "Download (Mbit/s)_float    float64\n",
       "dtype: object"
      ]
     },
     "execution_count": 13,
     "metadata": {},
     "output_type": "execute_result"
    }
   ],
   "source": [
    "# Code Cell 13\n",
    "pd.options.mode.chained_assignment = None\n",
    "# Convert Ping and Download to float\n",
    "df_compact_clean['Ping (ms)_float'] = df_compact_clean['Ping (ms)'].apply(lambda val : float(val))\n",
    "df_compact_clean['Download (Mbit/s)_float'] = df_compact_clean['Ping (ms)'].apply(lambda val : float(val))\n",
    "\n",
    "#Check that the types have been successfully converted\n",
    "df_compact_clean.dtypes"
   ]
  },
  {
   "cell_type": "code",
   "execution_count": 14,
   "id": "64618385",
   "metadata": {},
   "outputs": [
    {
     "data": {
      "text/html": [
       "<div>\n",
       "<style scoped>\n",
       "    .dataframe tbody tr th:only-of-type {\n",
       "        vertical-align: middle;\n",
       "    }\n",
       "\n",
       "    .dataframe tbody tr th {\n",
       "        vertical-align: top;\n",
       "    }\n",
       "\n",
       "    .dataframe thead th {\n",
       "        text-align: right;\n",
       "    }\n",
       "</style>\n",
       "<table border=\"1\" class=\"dataframe\">\n",
       "  <thead>\n",
       "    <tr style=\"text-align: right;\">\n",
       "      <th></th>\n",
       "      <th>Upload (Mbit/s)</th>\n",
       "      <th>Date</th>\n",
       "      <th>Time</th>\n",
       "      <th>Ping (ms)_float</th>\n",
       "      <th>Download (Mbit/s)_float</th>\n",
       "    </tr>\n",
       "  </thead>\n",
       "  <tbody>\n",
       "    <tr>\n",
       "      <th>0</th>\n",
       "      <td>14.31</td>\n",
       "      <td>2016-11-24</td>\n",
       "      <td>13:36:25</td>\n",
       "      <td>26.992</td>\n",
       "      <td>26.992</td>\n",
       "    </tr>\n",
       "    <tr>\n",
       "      <th>1</th>\n",
       "      <td>14.12</td>\n",
       "      <td>2016-11-24</td>\n",
       "      <td>13:36:55</td>\n",
       "      <td>24.532</td>\n",
       "      <td>24.532</td>\n",
       "    </tr>\n",
       "    <tr>\n",
       "      <th>2</th>\n",
       "      <td>14.11</td>\n",
       "      <td>2016-11-24</td>\n",
       "      <td>13:37:25</td>\n",
       "      <td>20.225</td>\n",
       "      <td>20.225</td>\n",
       "    </tr>\n",
       "    <tr>\n",
       "      <th>3</th>\n",
       "      <td>14.22</td>\n",
       "      <td>2016-11-24</td>\n",
       "      <td>13:37:57</td>\n",
       "      <td>19.332</td>\n",
       "      <td>19.332</td>\n",
       "    </tr>\n",
       "    <tr>\n",
       "      <th>4</th>\n",
       "      <td>14.08</td>\n",
       "      <td>2016-11-24</td>\n",
       "      <td>13:38:27</td>\n",
       "      <td>22.494</td>\n",
       "      <td>22.494</td>\n",
       "    </tr>\n",
       "  </tbody>\n",
       "</table>\n",
       "</div>"
      ],
      "text/plain": [
       "   Upload (Mbit/s)        Date      Time  Ping (ms)_float  \\\n",
       "0            14.31  2016-11-24  13:36:25           26.992   \n",
       "1            14.12  2016-11-24  13:36:55           24.532   \n",
       "2            14.11  2016-11-24  13:37:25           20.225   \n",
       "3            14.22  2016-11-24  13:37:57           19.332   \n",
       "4            14.08  2016-11-24  13:38:27           22.494   \n",
       "\n",
       "   Download (Mbit/s)_float  \n",
       "0                   26.992  \n",
       "1                   24.532  \n",
       "2                   20.225  \n",
       "3                   19.332  \n",
       "4                   22.494  "
      ]
     },
     "execution_count": 14,
     "metadata": {},
     "output_type": "execute_result"
    }
   ],
   "source": [
    "# Code Cell 14\n",
    "# Remove the original 'Ping (ms)' and 'Download (Mbit/s)' columns\n",
    "df_compact_clean.drop(['Ping (ms)'],axis=1,inplace=True)\n",
    "df_compact_clean.drop(['Download (Mbit/s)'],axis=1,inplace=True)\n",
    "df_compact_clean.head()\n"
   ]
  },
  {
   "cell_type": "markdown",
   "id": "ff5ea8e0",
   "metadata": {},
   "source": [
    "Ahora, elimine las columnas Ping (ms) y Download (Mbit/s) originales y cambie los nombres Ping (ms)_float y Download (Mbit/s)_float por Ping (ms) y Download (Mbit/s). Utilice df.drop y df.rename, como en la práctica de laboratorio Internet_Speed_Data_Acquisition."
   ]
  },
  {
   "cell_type": "code",
   "execution_count": 21,
   "id": "bb168fa0",
   "metadata": {},
   "outputs": [],
   "source": [
    "# Code Cell 15\n",
    "# Rename the new 'Ping (ms) float' and 'Download (Mbit/s) float ' to Ping (ms)' and 'Download (Mbit/s)\n",
    "columns = {'Ping (ms)_float': 'Ping (ms)',\n",
    "            'Download (Mbit/s)_float': 'Download (Mbit/s)'}\n",
    "df_compact_clean.rename(columns = columns, inplace=True)"
   ]
  },
  {
   "cell_type": "code",
   "execution_count": 22,
   "id": "d01cd3db",
   "metadata": {},
   "outputs": [
    {
     "data": {
      "text/html": [
       "<div>\n",
       "<style scoped>\n",
       "    .dataframe tbody tr th:only-of-type {\n",
       "        vertical-align: middle;\n",
       "    }\n",
       "\n",
       "    .dataframe tbody tr th {\n",
       "        vertical-align: top;\n",
       "    }\n",
       "\n",
       "    .dataframe thead th {\n",
       "        text-align: right;\n",
       "    }\n",
       "</style>\n",
       "<table border=\"1\" class=\"dataframe\">\n",
       "  <thead>\n",
       "    <tr style=\"text-align: right;\">\n",
       "      <th></th>\n",
       "      <th>Upload (Mbit/s)</th>\n",
       "      <th>Date</th>\n",
       "      <th>Time</th>\n",
       "      <th>Ping (ms)</th>\n",
       "      <th>Download (Mbit/s)</th>\n",
       "    </tr>\n",
       "  </thead>\n",
       "  <tbody>\n",
       "    <tr>\n",
       "      <th>0</th>\n",
       "      <td>14.31</td>\n",
       "      <td>2016-11-24</td>\n",
       "      <td>13:36:25</td>\n",
       "      <td>26.992</td>\n",
       "      <td>26.992</td>\n",
       "    </tr>\n",
       "    <tr>\n",
       "      <th>1</th>\n",
       "      <td>14.12</td>\n",
       "      <td>2016-11-24</td>\n",
       "      <td>13:36:55</td>\n",
       "      <td>24.532</td>\n",
       "      <td>24.532</td>\n",
       "    </tr>\n",
       "    <tr>\n",
       "      <th>2</th>\n",
       "      <td>14.11</td>\n",
       "      <td>2016-11-24</td>\n",
       "      <td>13:37:25</td>\n",
       "      <td>20.225</td>\n",
       "      <td>20.225</td>\n",
       "    </tr>\n",
       "    <tr>\n",
       "      <th>3</th>\n",
       "      <td>14.22</td>\n",
       "      <td>2016-11-24</td>\n",
       "      <td>13:37:57</td>\n",
       "      <td>19.332</td>\n",
       "      <td>19.332</td>\n",
       "    </tr>\n",
       "    <tr>\n",
       "      <th>4</th>\n",
       "      <td>14.08</td>\n",
       "      <td>2016-11-24</td>\n",
       "      <td>13:38:27</td>\n",
       "      <td>22.494</td>\n",
       "      <td>22.494</td>\n",
       "    </tr>\n",
       "  </tbody>\n",
       "</table>\n",
       "</div>"
      ],
      "text/plain": [
       "   Upload (Mbit/s)        Date      Time  Ping (ms)  Download (Mbit/s)\n",
       "0            14.31  2016-11-24  13:36:25     26.992             26.992\n",
       "1            14.12  2016-11-24  13:36:55     24.532             24.532\n",
       "2            14.11  2016-11-24  13:37:25     20.225             20.225\n",
       "3            14.22  2016-11-24  13:37:57     19.332             19.332\n",
       "4            14.08  2016-11-24  13:38:27     22.494             22.494"
      ]
     },
     "execution_count": 22,
     "metadata": {},
     "output_type": "execute_result"
    }
   ],
   "source": [
    "# Code Cell 16\n",
    "df_compact_clean.head()"
   ]
  },
  {
   "cell_type": "markdown",
   "id": "66a7f4ca",
   "metadata": {},
   "source": [
    "Antes de guardar el DataFrame, se recomienda reposicionar Upload como última columna. Esto se puede realizar con la función reindex."
   ]
  },
  {
   "cell_type": "code",
   "execution_count": 23,
   "id": "51865658",
   "metadata": {},
   "outputs": [
    {
     "data": {
      "text/html": [
       "<div>\n",
       "<style scoped>\n",
       "    .dataframe tbody tr th:only-of-type {\n",
       "        vertical-align: middle;\n",
       "    }\n",
       "\n",
       "    .dataframe tbody tr th {\n",
       "        vertical-align: top;\n",
       "    }\n",
       "\n",
       "    .dataframe thead th {\n",
       "        text-align: right;\n",
       "    }\n",
       "</style>\n",
       "<table border=\"1\" class=\"dataframe\">\n",
       "  <thead>\n",
       "    <tr style=\"text-align: right;\">\n",
       "      <th></th>\n",
       "      <th>Upload (Mbit/s)</th>\n",
       "      <th>Date</th>\n",
       "      <th>Time</th>\n",
       "      <th>Ping (ms)</th>\n",
       "      <th>Download (Mbit/s)</th>\n",
       "    </tr>\n",
       "  </thead>\n",
       "  <tbody>\n",
       "    <tr>\n",
       "      <th>0</th>\n",
       "      <td>14.31</td>\n",
       "      <td>2016-11-24</td>\n",
       "      <td>13:36:25</td>\n",
       "      <td>26.992</td>\n",
       "      <td>26.992</td>\n",
       "    </tr>\n",
       "    <tr>\n",
       "      <th>1</th>\n",
       "      <td>14.12</td>\n",
       "      <td>2016-11-24</td>\n",
       "      <td>13:36:55</td>\n",
       "      <td>24.532</td>\n",
       "      <td>24.532</td>\n",
       "    </tr>\n",
       "    <tr>\n",
       "      <th>2</th>\n",
       "      <td>14.11</td>\n",
       "      <td>2016-11-24</td>\n",
       "      <td>13:37:25</td>\n",
       "      <td>20.225</td>\n",
       "      <td>20.225</td>\n",
       "    </tr>\n",
       "    <tr>\n",
       "      <th>3</th>\n",
       "      <td>14.22</td>\n",
       "      <td>2016-11-24</td>\n",
       "      <td>13:37:57</td>\n",
       "      <td>19.332</td>\n",
       "      <td>19.332</td>\n",
       "    </tr>\n",
       "    <tr>\n",
       "      <th>4</th>\n",
       "      <td>14.08</td>\n",
       "      <td>2016-11-24</td>\n",
       "      <td>13:38:27</td>\n",
       "      <td>22.494</td>\n",
       "      <td>22.494</td>\n",
       "    </tr>\n",
       "  </tbody>\n",
       "</table>\n",
       "</div>"
      ],
      "text/plain": [
       "   Upload (Mbit/s)        Date      Time  Ping (ms)  Download (Mbit/s)\n",
       "0            14.31  2016-11-24  13:36:25     26.992             26.992\n",
       "1            14.12  2016-11-24  13:36:55     24.532             24.532\n",
       "2            14.11  2016-11-24  13:37:25     20.225             20.225\n",
       "3            14.22  2016-11-24  13:37:57     19.332             19.332\n",
       "4            14.08  2016-11-24  13:38:27     22.494             22.494"
      ]
     },
     "execution_count": 23,
     "metadata": {},
     "output_type": "execute_result"
    }
   ],
   "source": [
    "# Code Cell 17\n",
    "df_compact_clean.reindex(columns = ['Date', 'Time', 'Ping (ms)', 'Download (Mbit/s)']);\n",
    "df_compact_clean.head()"
   ]
  },
  {
   "cell_type": "markdown",
   "id": "956637b5",
   "metadata": {},
   "source": [
    "Ahora que el conjunto de datos finalmente está limpio, guárdelo en un archivo cvs y cámbiele el nombre."
   ]
  },
  {
   "cell_type": "code",
   "execution_count": 24,
   "id": "2beaa0d8",
   "metadata": {},
   "outputs": [],
   "source": [
    "# Code Cell 18\n",
    "# Let's save the new cleaned dataframe to a csv\n",
    "df_compact_clean.to_csv('rpi_data_processed.csv', index=False)\n",
    "df_clean = df_compact_clean"
   ]
  },
  {
   "cell_type": "markdown",
   "id": "25b59281",
   "metadata": {},
   "source": [
    "## Paso 2: Estadísticas básicas\n",
    "\n",
    "Los nuevos datos requieren no solo limpieza, sino también tiempo para familiarizarse con ellos. Cuando inicia un proyecto de análisis de datos, vale la pena invertir en explorar y calcular algunas propiedades estadísticas básicas de los datos. Esto implica calcular promedios, desviaciones estándar y correlaciones.\n",
    "a) Calcule el promedio y la desviación estándar con Pandas.\n",
    "\n",
    "El promedio y la desviación estándar de todas las columnas de una Estructura de datos se puede computar a través de mean() y std(). Búsquelos en la documentación de la biblioteca de pandas y aplíquelos a df_clean DataFrame.\n",
    "\n",
    "Cite los resultados como quantity = mean ± standard_deviation. No olvide incluir las unidades de medida asociadas con cada cantidad.\n"
   ]
  },
  {
   "cell_type": "code",
   "execution_count": 25,
   "id": "9457a013",
   "metadata": {},
   "outputs": [
    {
     "name": "stdout",
     "output_type": "stream",
     "text": [
      "Average ping time: 21.115451708766724 ± 5.161225495663228 ms\n",
      "Average download speed: 21.115451708766724 ± 5.161225495663228 Mbit/s\n",
      "Average upload speed: 13.697607726597328 ± 1.0804708853031768 Mbit/s\n"
     ]
    },
    {
     "name": "stderr",
     "output_type": "stream",
     "text": [
      "C:\\Users\\inkar\\AppData\\Local\\Temp\\ipykernel_11604\\1380108515.py:4: FutureWarning: Dropping of nuisance columns in DataFrame reductions (with 'numeric_only=None') is deprecated; in a future version this will raise TypeError.  Select only valid columns before calling the reduction.\n",
      "  means = df_clean.mean()\n",
      "C:\\Users\\inkar\\AppData\\Local\\Temp\\ipykernel_11604\\1380108515.py:5: FutureWarning: Dropping of nuisance columns in DataFrame reductions (with 'numeric_only=None') is deprecated; in a future version this will raise TypeError.  Select only valid columns before calling the reduction.\n",
      "  stands = df_clean.std()\n"
     ]
    }
   ],
   "source": [
    "# Code Cell 19\n",
    "# Code Cell 19\n",
    "#Compute mean and std for all the columns of df_compact\n",
    "means = df_clean.mean()\n",
    "stands = df_clean.std()\n",
    "\n",
    "#Place mean and std for each column in a tuple\n",
    "stats_ping = (means['Ping (ms)'], stands['Ping (ms)'])\n",
    "stats_download = (means['Download (Mbit/s)'], stands['Download (Mbit/s)'])\n",
    "stats_upload = (means['Upload (Mbit/s)'], stands['Upload (Mbit/s)'])\n",
    "\n",
    "#Print the mean value ± the standard deviation, including measuring units\n",
    "print('Average ping time: {} ± {} ms'.format(stats_ping[0],stats_ping[1]))\n",
    "print('Average download speed: {} ± {} Mbit/s'.format(stats_download[0],stats_download[1]))\n",
    "print('Average upload speed: {} ± {} Mbit/s'.format(*stats_upload))"
   ]
  },
  {
   "cell_type": "code",
   "execution_count": 26,
   "id": "d95c29a1",
   "metadata": {},
   "outputs": [
    {
     "name": "stdout",
     "output_type": "stream",
     "text": [
      "Upload (Mbit/s)      13.697608\n",
      "Ping (ms)            21.115452\n",
      "Download (Mbit/s)    21.115452\n",
      "dtype: float64\n"
     ]
    },
    {
     "name": "stderr",
     "output_type": "stream",
     "text": [
      "C:\\Users\\inkar\\AppData\\Local\\Temp\\ipykernel_11604\\1233006604.py:2: FutureWarning: Dropping of nuisance columns in DataFrame reductions (with 'numeric_only=None') is deprecated; in a future version this will raise TypeError.  Select only valid columns before calling the reduction.\n",
      "  means = df_clean.mean()\n"
     ]
    },
    {
     "data": {
      "text/plain": [
       "21.115451708766724"
      ]
     },
     "execution_count": 26,
     "metadata": {},
     "output_type": "execute_result"
    }
   ],
   "source": [
    "# Code Cell 20\n",
    "means = df_clean.mean()\n",
    "print(means)\n",
    "means['Ping (ms)']"
   ]
  },
  {
   "cell_type": "code",
   "execution_count": 27,
   "id": "3fe779ad",
   "metadata": {},
   "outputs": [
    {
     "name": "stdout",
     "output_type": "stream",
     "text": [
      "21.115451708766724\n",
      "21.115451708766724\n"
     ]
    },
    {
     "name": "stderr",
     "output_type": "stream",
     "text": [
      "C:\\Users\\inkar\\AppData\\Local\\Temp\\ipykernel_11604\\330731453.py:4: FutureWarning: Dropping of nuisance columns in DataFrame reductions (with 'numeric_only=None') is deprecated; in a future version this will raise TypeError.  Select only valid columns before calling the reduction.\n",
      "  print(df_clean.mean()['Ping (ms)'])\n"
     ]
    }
   ],
   "source": [
    "# Code Cell 21\n",
    "df_clean['Ping (ms)'].values.sum()/len(df_clean)\n",
    "print(df_clean['Ping (ms)'].mean())\n",
    "print(df_clean.mean()['Ping (ms)'])"
   ]
  },
  {
   "cell_type": "code",
   "execution_count": 28,
   "id": "8a8b1a46",
   "metadata": {},
   "outputs": [
    {
     "data": {
      "text/plain": [
       "'2016-11-24'"
      ]
     },
     "execution_count": 28,
     "metadata": {},
     "output_type": "execute_result"
    }
   ],
   "source": [
    "# Code Cell 22\n",
    "df_clean['Date'][0]"
   ]
  },
  {
   "cell_type": "markdown",
   "id": "9e1397d7",
   "metadata": {},
   "source": [
    "b) Calcule la desviación mínima y máxima con Pandas.\n",
    "\n",
    "Busque en la documentación de la biblioteca de pandas cómo computar los valores mínimos y máximos para todas las columnas en la Estructura de datos."
   ]
  },
  {
   "cell_type": "code",
   "execution_count": 29,
   "id": "f475143a",
   "metadata": {},
   "outputs": [
    {
     "name": "stdout",
     "output_type": "stream",
     "text": [
      "Min ping time: 16.167 ms. Max ping time: 76.528 ms\n",
      "Min download speed: 16.167 Mbit/s. Max download speed: 76.528 Mbit/s\n",
      "Min upload speed: 6.21 Mbit/s. Max upload speed: 14.55 Mbit/s\n"
     ]
    }
   ],
   "source": [
    "# Code Cell 23\n",
    "#Compute max and min for all the columns of df_compact\n",
    "mins = df_clean.min()\n",
    "maxs = df_clean.max()\n",
    "\n",
    "#Place mean and std for each column in a tuple\n",
    "mima_ping = (mins['Ping (ms)'], maxs['Ping (ms)'])\n",
    "mima_download = (mins['Download (Mbit/s)'], maxs['Download (Mbit/s)'])\n",
    "mima_upload = (mins['Upload (Mbit/s)'], maxs['Upload (Mbit/s)'])\n",
    "\n",
    "#Print the mean and max values, including measuring units\n",
    "print('Min ping time: {} ms. Max ping time: {} ms'.format(*mima_ping))\n",
    "print('Min download speed: {} Mbit/s. Max download speed: {} Mbit/s'.format(*mima_download))\n",
    "print('Min upload speed: {} Mbit/s. Max upload speed: {} Mbit/s'.format(*mima_upload))"
   ]
  },
  {
   "cell_type": "markdown",
   "id": "8d629c7e",
   "metadata": {},
   "source": [
    "c) Utilice la función pandas describe.\n",
    "\n",
    "Ejecutar la siguiente línea de código. ¡Observe cuánto tiempo le permite ahorrar la biblioteca de pandas hasta con una única línea de código!"
   ]
  },
  {
   "cell_type": "code",
   "execution_count": 30,
   "id": "45c822b4",
   "metadata": {},
   "outputs": [
    {
     "data": {
      "text/html": [
       "<div>\n",
       "<style scoped>\n",
       "    .dataframe tbody tr th:only-of-type {\n",
       "        vertical-align: middle;\n",
       "    }\n",
       "\n",
       "    .dataframe tbody tr th {\n",
       "        vertical-align: top;\n",
       "    }\n",
       "\n",
       "    .dataframe thead th {\n",
       "        text-align: right;\n",
       "    }\n",
       "</style>\n",
       "<table border=\"1\" class=\"dataframe\">\n",
       "  <thead>\n",
       "    <tr style=\"text-align: right;\">\n",
       "      <th></th>\n",
       "      <th>Upload (Mbit/s)</th>\n",
       "      <th>Ping (ms)</th>\n",
       "      <th>Download (Mbit/s)</th>\n",
       "    </tr>\n",
       "  </thead>\n",
       "  <tbody>\n",
       "    <tr>\n",
       "      <th>count</th>\n",
       "      <td>673.000000</td>\n",
       "      <td>673.000000</td>\n",
       "      <td>673.000000</td>\n",
       "    </tr>\n",
       "    <tr>\n",
       "      <th>mean</th>\n",
       "      <td>13.697608</td>\n",
       "      <td>21.115452</td>\n",
       "      <td>21.115452</td>\n",
       "    </tr>\n",
       "    <tr>\n",
       "      <th>std</th>\n",
       "      <td>1.080471</td>\n",
       "      <td>5.161225</td>\n",
       "      <td>5.161225</td>\n",
       "    </tr>\n",
       "    <tr>\n",
       "      <th>min</th>\n",
       "      <td>6.210000</td>\n",
       "      <td>16.167000</td>\n",
       "      <td>16.167000</td>\n",
       "    </tr>\n",
       "    <tr>\n",
       "      <th>25%</th>\n",
       "      <td>13.640000</td>\n",
       "      <td>19.115000</td>\n",
       "      <td>19.115000</td>\n",
       "    </tr>\n",
       "    <tr>\n",
       "      <th>50%</th>\n",
       "      <td>13.980000</td>\n",
       "      <td>20.322000</td>\n",
       "      <td>20.322000</td>\n",
       "    </tr>\n",
       "    <tr>\n",
       "      <th>75%</th>\n",
       "      <td>14.180000</td>\n",
       "      <td>21.843000</td>\n",
       "      <td>21.843000</td>\n",
       "    </tr>\n",
       "    <tr>\n",
       "      <th>max</th>\n",
       "      <td>14.550000</td>\n",
       "      <td>76.528000</td>\n",
       "      <td>76.528000</td>\n",
       "    </tr>\n",
       "  </tbody>\n",
       "</table>\n",
       "</div>"
      ],
      "text/plain": [
       "       Upload (Mbit/s)   Ping (ms)  Download (Mbit/s)\n",
       "count       673.000000  673.000000         673.000000\n",
       "mean         13.697608   21.115452          21.115452\n",
       "std           1.080471    5.161225           5.161225\n",
       "min           6.210000   16.167000          16.167000\n",
       "25%          13.640000   19.115000          19.115000\n",
       "50%          13.980000   20.322000          20.322000\n",
       "75%          14.180000   21.843000          21.843000\n",
       "max          14.550000   76.528000          76.528000"
      ]
     },
     "execution_count": 30,
     "metadata": {},
     "output_type": "execute_result"
    }
   ],
   "source": [
    "# Code Cell 24\n",
    "df_clean.describe()"
   ]
  },
  {
   "cell_type": "markdown",
   "id": "e1bcc1a9",
   "metadata": {},
   "source": [
    "d) Utilice argmin, argmax e iloc.\n",
    "\n",
    "Supongamos que quisiera tener un guión de computadora que envíe informes de estado por correo electrónico a su proveedor de Internet. Los informes deberían incluir la fecha y la hora correspondientes a la velocidad mínima de Internet. La información temporal le permite al proveedor de Internet identificar con precisión la causa detrás de la conexión lenta que observó.\n",
    "\n",
    "Con las funciones argmin y argmax de pandas, podrá encontrar las fechas y las horas correspondientes al tiempo más breve y extenso de ping, la velocidad de descarga más baja y más alta y la velocidad de carga más baja y más alta.\n"
   ]
  },
  {
   "cell_type": "code",
   "execution_count": 31,
   "id": "1507e420",
   "metadata": {},
   "outputs": [],
   "source": [
    "# Code Cell 25\n",
    "# Find the min and max ping time\n",
    "argmin_ping = df_clean['Ping (ms)'].argmin()\n",
    "argmax_ping = df_clean['Ping (ms)'].argmax()\n",
    "\n",
    "# Find the min and max download speed\n",
    "argmin_download = df_clean['Download (Mbit/s)'].argmin()\n",
    "argmax_download = df_clean['Download (Mbit/s)'].argmax()\n",
    "\n",
    "# Find the min and max upload speed\n",
    "argmin_upload = df_clean['Upload (Mbit/s)'].argmin()\n",
    "argmax_upload = df_clean['Upload (Mbit/s)'].argmax()"
   ]
  },
  {
   "cell_type": "markdown",
   "id": "6b221c75",
   "metadata": {},
   "source": [
    "Las funciones argmin y argmax devuelven un índice relacionado con las filas de una Estructura de datos. Para acceder a una fila específica con este índice, utilice iloc."
   ]
  },
  {
   "cell_type": "code",
   "execution_count": 32,
   "id": "3e612d65",
   "metadata": {},
   "outputs": [
    {
     "data": {
      "text/html": [
       "<div>\n",
       "<style scoped>\n",
       "    .dataframe tbody tr th:only-of-type {\n",
       "        vertical-align: middle;\n",
       "    }\n",
       "\n",
       "    .dataframe tbody tr th {\n",
       "        vertical-align: top;\n",
       "    }\n",
       "\n",
       "    .dataframe thead th {\n",
       "        text-align: right;\n",
       "    }\n",
       "</style>\n",
       "<table border=\"1\" class=\"dataframe\">\n",
       "  <thead>\n",
       "    <tr style=\"text-align: right;\">\n",
       "      <th></th>\n",
       "      <th>field_1</th>\n",
       "      <th>field_2</th>\n",
       "    </tr>\n",
       "  </thead>\n",
       "  <tbody>\n",
       "    <tr>\n",
       "      <th>0</th>\n",
       "      <td>0</td>\n",
       "      <td>0</td>\n",
       "    </tr>\n",
       "    <tr>\n",
       "      <th>1</th>\n",
       "      <td>1</td>\n",
       "      <td>2</td>\n",
       "    </tr>\n",
       "  </tbody>\n",
       "</table>\n",
       "</div>"
      ],
      "text/plain": [
       "   field_1  field_2\n",
       "0        0        0\n",
       "1        1        2"
      ]
     },
     "execution_count": 32,
     "metadata": {},
     "output_type": "execute_result"
    }
   ],
   "source": [
    "# Code Cell 26\n",
    "# Create a small DataFrame and access its rows using iloc\n",
    "\n",
    "# A pandas DataFrame can be initialized passing a dict as a parameter to the constructor pd.DataFrame(). \n",
    "# The key will represent the column, the values the rows.\n",
    "df = pd.DataFrame({'field_1': [0,1], 'field_2': [0,2]})\n",
    "df.head()"
   ]
  },
  {
   "cell_type": "code",
   "execution_count": 33,
   "id": "c722cbaa",
   "metadata": {},
   "outputs": [
    {
     "data": {
      "text/plain": [
       "1"
      ]
     },
     "execution_count": 33,
     "metadata": {},
     "output_type": "execute_result"
    }
   ],
   "source": [
    "# Code Cell 27\n",
    "# To access the field_1 of the first row using iloc()\n",
    "df.iloc[1]['field_1']"
   ]
  },
  {
   "cell_type": "markdown",
   "id": "cc7d20bd",
   "metadata": {},
   "source": [
    "Utilice los índices computados mediante argmax y argmin junto con iloc para visualizar la Fecha y la Hora de Ping máximo y mínimo, la carga y la descarga."
   ]
  },
  {
   "cell_type": "code",
   "execution_count": 35,
   "id": "652dc6d1",
   "metadata": {},
   "outputs": [
    {
     "name": "stdout",
     "output_type": "stream",
     "text": [
      "Ping measure reached minimum on 2016-11-24 at 15:26:20\n",
      "Download measure reached minimum on 2016-11-24 at 15:26:20\n",
      "Upload measure reached minimum on 2016-11-24 at 15:26:20\n",
      "Ping measure reached maximum on 2016-11-24 at 15:26:20\n",
      "Download measure reached maximum on 2016-11-24 at 15:26:20\n",
      "Upload measure reached maximum on 2016-11-24 at 15:26:20\n"
     ]
    }
   ],
   "source": [
    "# Code Cell 28\n",
    "#Print the corresponding Date and Time\n",
    "print('Ping measure reached minimum on {} at {}'.format(df_clean.loc[argmin_ping].Date, \n",
    "                                                        df_clean.loc[argmin_ping].Time))\n",
    "\n",
    "print('Download measure reached minimum on {} at {}'.format(df_clean.loc[argmin_ping].Date, \n",
    "                                                        df_clean.loc[argmin_ping].Time))\n",
    "\n",
    "print('Upload measure reached minimum on {} at {}'.format(df_clean.loc[argmin_ping].Date, \n",
    "                                                        df_clean.loc[argmin_ping].Time))\n",
    "\n",
    "print('Ping measure reached maximum on {} at {}'.format(df_clean.loc[argmin_ping].Date, \n",
    "                                                        df_clean.loc[argmin_ping].Time))\n",
    "\n",
    "print('Download measure reached maximum on {} at {}'.format(df_clean.loc[argmin_ping].Date, \n",
    "                                                        df_clean.loc[argmin_ping].Time))\n",
    "\n",
    "print('Upload measure reached maximum on {} at {}'.format(df_clean.loc[argmin_ping].Date, \n",
    "                                                        df_clean.loc[argmin_ping].Time))"
   ]
  },
  {
   "cell_type": "markdown",
   "id": "3bafd89d",
   "metadata": {},
   "source": [
    "\n",
    "e) Cree una correlación.\n",
    "\n",
    "Es útil analizar si la velocidad de descarga tiende a aumentar y disminuir junto con la velocidad de carga. El razonamiento detrás de esto sería que el uso de la red y los problemas técnicos afectarán a la descarga y a la carga por igual.\n",
    "\n",
    "Frente a esta situación, las velocidades de carga y descarga estarían correlacionadas en forma positiva. Esto significa que la descarga y la carga más rápidas se producirían, generalmente, juntas. Esto haría referencia a la tendencia general, pero las instancias de descarga rápida con carga lenta aún serían posibles.\n",
    "\n",
    "Por otro lado, usted puede deducir que la velocidad de descarga más alta implica una velocidad de carga más baja y viceversa. En este caso, el argumento sería que la línea de Internet puede admitir solo una cantidad limitada de la información que se intercambia. La carga y la descarga entonces competirían y se mantendrían “en verificación”.\n",
    "\n",
    "En este caso, las velocidades de descarga y la carga estarían correlacionadas de forma negativa. Esto significa que, generalmente, la descarga sería más rápida cuando la carga es más lenta y viceversa. Como mencionamos anteriormente, esto haría referencia a una tendencia, por lo cual una buena velocidad de carga y descarga aún sería posible.\n",
    "\n",
    "Para concluir el caso, el tiempo de ping puede estar correlacionado de forma positiva o negativa tanto con la carga como con la descarga. Por lo tanto, es lógico pensar en una tabla, donde cada cantidad se compara con todas las demás. Dichas tablas son reconocidas como objetos matemáticos denominados matrices de correlación.\n",
    "\n",
    "Utilice la función de pandas corr para calcular la matriz de correlación de ping, carga y descarga. Guarde el resultado en una variable llamada df_corr.\n"
   ]
  },
  {
   "cell_type": "code",
   "execution_count": 36,
   "id": "940a9b15",
   "metadata": {},
   "outputs": [
    {
     "data": {
      "text/html": [
       "<div>\n",
       "<style scoped>\n",
       "    .dataframe tbody tr th:only-of-type {\n",
       "        vertical-align: middle;\n",
       "    }\n",
       "\n",
       "    .dataframe tbody tr th {\n",
       "        vertical-align: top;\n",
       "    }\n",
       "\n",
       "    .dataframe thead th {\n",
       "        text-align: right;\n",
       "    }\n",
       "</style>\n",
       "<table border=\"1\" class=\"dataframe\">\n",
       "  <thead>\n",
       "    <tr style=\"text-align: right;\">\n",
       "      <th></th>\n",
       "      <th>Upload (Mbit/s)</th>\n",
       "      <th>Ping (ms)</th>\n",
       "      <th>Download (Mbit/s)</th>\n",
       "    </tr>\n",
       "  </thead>\n",
       "  <tbody>\n",
       "    <tr>\n",
       "      <th>Upload (Mbit/s)</th>\n",
       "      <td>1.000000</td>\n",
       "      <td>-0.463099</td>\n",
       "      <td>-0.463099</td>\n",
       "    </tr>\n",
       "    <tr>\n",
       "      <th>Ping (ms)</th>\n",
       "      <td>-0.463099</td>\n",
       "      <td>1.000000</td>\n",
       "      <td>1.000000</td>\n",
       "    </tr>\n",
       "    <tr>\n",
       "      <th>Download (Mbit/s)</th>\n",
       "      <td>-0.463099</td>\n",
       "      <td>1.000000</td>\n",
       "      <td>1.000000</td>\n",
       "    </tr>\n",
       "  </tbody>\n",
       "</table>\n",
       "</div>"
      ],
      "text/plain": [
       "                   Upload (Mbit/s)  Ping (ms)  Download (Mbit/s)\n",
       "Upload (Mbit/s)           1.000000  -0.463099          -0.463099\n",
       "Ping (ms)                -0.463099   1.000000           1.000000\n",
       "Download (Mbit/s)        -0.463099   1.000000           1.000000"
      ]
     },
     "execution_count": 36,
     "metadata": {},
     "output_type": "execute_result"
    }
   ],
   "source": [
    "# Code Cell 29\n",
    "# Are these variables correlated?\n",
    "df_corr = df_clean.corr()\n",
    "df_corr"
   ]
  },
  {
   "cell_type": "code",
   "execution_count": 37,
   "id": "7f3462a6",
   "metadata": {},
   "outputs": [
    {
     "name": "stdout",
     "output_type": "stream",
     "text": [
      "Correlation coefficient between ping and download: -0.46309871383001777\n",
      "Correlation coefficient between ping and upload: -0.46309871383001777\n",
      "Correlation coefficient between upload and download: 1.0\n"
     ]
    }
   ],
   "source": [
    "# Code Cell 30\n",
    "corr = df_corr.values\n",
    "print('Correlation coefficient between ping and download: {}'.format(corr[0, 1]))\n",
    "print('Correlation coefficient between ping and upload: {}'.format(corr[0, 2]))\n",
    "print('Correlation coefficient between upload and download: {}'.format(corr[2, 1]))"
   ]
  },
  {
   "cell_type": "markdown",
   "id": "4f1d59fa",
   "metadata": {},
   "source": [
    "Estos números ofrecen la respuesta a las preguntas sobre la “relación” entre ping, carga y descarga. La correlación positiva perfecta arroja un valor de +1, mientras que la correlación negativa perfecta arroja un valor de -1. Sin embargo, las correlaciones entre descarga y ping, y entre carga y descarga está cerca de cero. Además, la correlación entre carga y ping es pequeña. Esto lleva a la conclusión de que las tres cantidades están, de hecho, mutuamente no correlacionadas.\n",
    "## Parte 2: Visualización de datos\n",
    "\n",
    "Como dice el proverbio: «una imagen vale más que mil palabras». Los gráficos informativos, significativos e intuitivos cumplen un rol fundamental en la exploración de datos. Los gráficos son útiles en las etapas iniciales de un proyecto y mucho más allá de ellas también. Los gráficos son una excelente manera de presentar los resultados y las conclusiones de su trabajo frente a una audiencia.\n",
    "\n",
    "Python tiene una biblioteca integral para crear gráficos llamados Matplotlib. Como recursos adicionales de aprendizaje, vale la pena echar un vistazo a la documentación de Matplotlib y, en particular, a los numerosos ejemplos.\n",
    "### Paso 1: Crear una primera visualización de los datos de la velocidad de Internet\n",
    "\n",
    "Visualizar el contenido de la Estructura de datos df_clean.\n",
    "a) Importar Matplotlib:\n"
   ]
  },
  {
   "cell_type": "code",
   "execution_count": 38,
   "id": "9fad3b7c",
   "metadata": {},
   "outputs": [],
   "source": [
    "# Code Cell 31\n",
    "import matplotlib.pyplot as plt\n",
    "\n",
    "# The following allows your Jupyter notebook to create plots inside a cell\n",
    "%matplotlib inline "
   ]
  },
  {
   "cell_type": "markdown",
   "id": "e718402d",
   "metadata": {},
   "source": [
    "\n",
    "b) Cree un gráfico con las estadísticas de la velocidad de Internet\n",
    "\n",
    "Según lo aprendido en la práctica de laboratorio SF_Crime_Data, genere un gráfico que contenga tres líneas: 1) ping (ms) en función del tiempo, 2). carga (Mbit/s) en función del tiempo y 3) descarga (Mbit/s) en función del tiempo. Utilice la función legend() para agregar una referencia al gráfico, pero no se preocupe por etiquetar los ejes. Resolveremos cómo hacerlo en una tarea posterior.\n"
   ]
  },
  {
   "cell_type": "code",
   "execution_count": 40,
   "id": "8585d9f4",
   "metadata": {},
   "outputs": [
    {
     "data": {
      "image/png": "[encoded data removed]",
      "text/plain": [
       "<Figure size 720x360 with 1 Axes>"
      ]
     },
     "metadata": {
      "needs_background": "light"
     },
     "output_type": "display_data"
    }
   ],
   "source": [
    "# Code Cell 32\n",
    "# Initialise figure\n",
    "fig, ax = plt.subplots(figsize=(10, 5))\n",
    "\n",
    "# Create x-axis\n",
    "t = pd.to_datetime(df_clean['Time'])\n",
    "\n",
    "# Plot three curves of different colors\n",
    "ax.plot(t, df_clean['Ping (ms)'], label='Ping (ms)')\n",
    "ax.plot(t, df_clean['Download (Mbit/s)'], label='Donwload (Mbit/s)')\n",
    "ax.plot(t, df_clean['Upload (Mbit/s)'], label='Upload (Mbit/s)')\n",
    "\n",
    "# Insert legend\n",
    "ax.legend()\n",
    "plt.show()"
   ]
  },
  {
   "cell_type": "code",
   "execution_count": 41,
   "id": "c7cfc10e",
   "metadata": {},
   "outputs": [
    {
     "data": {
      "text/plain": [
       "pandas._libs.tslibs.timestamps.Timestamp"
      ]
     },
     "execution_count": 41,
     "metadata": {},
     "output_type": "execute_result"
    }
   ],
   "source": [
    "# Code Cell 33\n",
    "type(t[0])"
   ]
  },
  {
   "cell_type": "markdown",
   "id": "465095e6",
   "metadata": {},
   "source": [
    "\n",
    "c) Cambie el estilo de línea.\n",
    "\n",
    "Como las mediciones de ping incluyen variaciones grandes y abruptas, quizás puedan visualizarse mejor mediante puntos. Dentro del comando ax.plot (...) que permite visualizar datos de ping, especifique que estas mediciones estarán representadas como puntos. (Aquí, la mayoría de los códigos se pueden obtener de la tarea anterior).\n"
   ]
  },
  {
   "cell_type": "code",
   "execution_count": 42,
   "id": "daa0332f",
   "metadata": {},
   "outputs": [
    {
     "data": {
      "image/png": "[encoded data removed]",
      "text/plain": [
       "<Figure size 720x360 with 1 Axes>"
      ]
     },
     "metadata": {
      "needs_background": "light"
     },
     "output_type": "display_data"
    }
   ],
   "source": [
    "# Code Cell 34\n",
    "# Initialise figure\n",
    "fig, ax = plt.subplots(figsize=(10, 5))\n",
    "\n",
    "# Plot three curves of different colours\n",
    "t = pd.to_datetime(df_clean['Time'])\n",
    "ax.plot(t, df_clean['Ping (ms)'],'o', label='Ping (ms)')\n",
    "ax.plot(t, df_clean['Download (Mbit/s)'], label='Donwload (Mbit/s)')\n",
    "ax.plot(t, df_clean['Upload (Mbit/s)'], label='Upload (Mbit/s)')\n",
    "\n",
    "# Insert legend\n",
    "ax.legend()\n",
    "plt.show()"
   ]
  },
  {
   "cell_type": "markdown",
   "id": "2f751374",
   "metadata": {},
   "source": [
    "\n",
    "d) Agregue etiquetas a los ejes.\n",
    "\n",
    "Un gráfico sin ejes etiquetados, y quizás sin un título, es difícil de comprender, ya que uno puede no saber con seguridad qué cantidades se representan. Cree los gráficos anteriores según la práctica científica estándar agregando etiquetas y un título a los ejes. Especifique un tamaño de fuente de alrededor de 16, de modo que el título y las etiquetas se impriman nítidamente.\n"
   ]
  },
  {
   "cell_type": "code",
   "execution_count": 43,
   "id": "c32e0990",
   "metadata": {},
   "outputs": [
    {
     "data": {
      "image/png": "[encoded data removed]",
      "text/plain": [
       "<Figure size 720x360 with 1 Axes>"
      ]
     },
     "metadata": {
      "needs_background": "light"
     },
     "output_type": "display_data"
    }
   ],
   "source": [
    "# Code Cell 35\n",
    "# Initialise figure\n",
    "fig, ax = plt.subplots(figsize=(10, 5))\n",
    "\n",
    "# Plot three curves\n",
    "t = pd.to_datetime(df_clean['Time'])\n",
    "ax.plot(t, df_clean['Ping (ms)'], 'o', label='Ping (ms)')\n",
    "ax.plot(t, df_clean['Upload (Mbit/s)'], label='Upload (Mbit/s)')\n",
    "ax.plot(t, df_clean['Download (Mbit/s)'], label='Download (Mbit/s)')\n",
    "\n",
    "# Insert legend\n",
    "ax.legend()\n",
    "\n",
    "# Add axis labels and title\n",
    "ax.set_xlabel('Time(hh:mm:ss)',size =16)\n",
    "ax.set_ylabel('Measurement',size =16)\n",
    "ax.set_title('Bigdata',size =18)\n",
    "\n",
    "# Change tick size\n",
    "ax.tick_params(labelsize=14)"
   ]
  },
  {
   "cell_type": "markdown",
   "id": "00c97246",
   "metadata": {},
   "source": [
    "\n",
    "e) Cambie la temática del gráfico.¶\n",
    "\n",
    "Utilice el contexto de estilo ‘fivethirtyeight’ para que el gráfico anterior tenga más atractivo visual. Para hacerlo, agregue la fila con with a su código antes de activar las funciones de Matplotlib.\n"
   ]
  },
  {
   "cell_type": "code",
   "execution_count": 50,
   "id": "58156a81",
   "metadata": {},
   "outputs": [
    {
     "data": {
      "image/png": "[encoded data removed]",
      "text/plain": [
       "<Figure size 720x360 with 1 Axes>"
      ]
     },
     "metadata": {},
     "output_type": "display_data"
    }
   ],
   "source": [
    "# Code Cell 36\n",
    "# Use a style context\n",
    "with plt.style.context('fivethirtyeight'):\n",
    "    fig, ax = plt.subplots(figsize=(10, 5))\n",
    "    # Initialise figure\n",
    "    t = pd.to_datetime(df_clean['Time'])\n",
    "    ax.plot(t, df_clean['Ping (ms)'], 'o', label='Ping (ms)')\n",
    "    ax.plot(t, df_clean['Upload (Mbit/s)'], label='Upload (Mbit/s)')\n",
    "    ax.plot(t, df_clean['Download (Mbit/s)'], label='Download (Mbit/s)')\n",
    "\n",
    " \n",
    "    # Plot ping as a function of time\n",
    "    ax.legend()\n",
    "    ax.set_xlabel('Time(hh:mm:ss)',size =16)\n",
    "    ax.set_ylabel('Measurement',size =16)\n",
    "    ax.set_title('Bigdata',size =18)\n",
    "\n",
    "    # Change tick size\n",
    "    ax.tick_params(labelsize=14)"
   ]
  },
  {
   "cell_type": "markdown",
   "id": "5da1cf6d",
   "metadata": {},
   "source": [
    "\n",
    "f) Cree un histograma\n",
    "\n",
    "Un histograma es una representación gráfica de la frecuencia de los valores de datos numéricos. Analice el código que aparece a continuación. Un nivel adicional de complejidad es el uso de los argumentos secundarios para visualizar histogramas de lado a lado.\n"
   ]
  },
  {
   "cell_type": "code",
   "execution_count": 51,
   "id": "3034b8a5",
   "metadata": {},
   "outputs": [
    {
     "data": {
      "image/png": "[encoded data removed]",
      "text/plain": [
       "<Figure size 720x720 with 4 Axes>"
      ]
     },
     "metadata": {},
     "output_type": "display_data"
    }
   ],
   "source": [
    "# Code Cell 37\n",
    "with plt.style.context('fivethirtyeight'):\n",
    "    \n",
    "    # Initialize figure\n",
    "    fig, ax = plt.subplots(2, 2, figsize=(10, 10))\n",
    "    ax[0][0].hist(df_clean['Ping (ms)'], 25)\n",
    "    ax[0][0].set_xlabel('Ping (ms)', fontsize=16)\n",
    "    ax[0][0].tick_params(labelsize=14)\n",
    "    ax[0][1].hist(df_clean['Upload (Mbit/s)'], 25)\n",
    "    ax[0][1].set_xlabel('Upload (Mbit/s)', fontsize=16)\n",
    "    ax[0][1].tick_params(labelsize=14)\n",
    "    ax[1][0].hist(df_clean['Download (Mbit/s)'], 25)\n",
    "    ax[1][0].set_xlabel('Download (Mbit/s)', fontsize=16)\n",
    "    ax[1][0].tick_params(labelsize=14)\n",
    "    ax[1][1].set_visible(False)"
   ]
  },
  {
   "cell_type": "code",
   "execution_count": null,
   "id": "1ce2841a",
   "metadata": {},
   "outputs": [],
   "source": []
  }
 ],
 "metadata": {
  "kernelspec": {
   "display_name": "Python 3 (ipykernel)",
   "language": "python",
   "name": "python3"
  },
  "language_info": {
   "codemirror_mode": {
    "name": "ipython",
    "version": 3
   },
   "file_extension": ".py",
   "mimetype": "text/x-python",
   "name": "python",
   "nbconvert_exporter": "python",
   "pygments_lexer": "ipython3",
   "version": "3.9.12"
  }
 },
 "nbformat": 4,
 "nbformat_minor": 5
}
