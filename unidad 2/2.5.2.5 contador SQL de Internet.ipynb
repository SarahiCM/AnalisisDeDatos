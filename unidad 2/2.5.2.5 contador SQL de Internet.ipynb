{
 "cells": [
  {
   "cell_type": "markdown",
   "id": "d09516c4",
   "metadata": {},
   "source": [
    "        \n",
    "\n",
    "# Intituto tecnologico de Durango\n",
    "## Analítica de datos en las organizaciones\n",
    "### 2.5.2.5 contador SQL de Internet\n",
    "\n",
    "\n",
    "\n",
    "\n",
    "\n",
    "\n",
    "\n",
    "\n",
    "\n",
    "\n",
    "\n",
    "\n",
    "\n",
    "\n",
    "#### Nombre : Sarahi Caloso Mancillas\n",
    "#### No de Control: 19040351\n",
    "####  Maestro: José Gabriel Rodríguez Rivas"
   ]
  },
  {
   "cell_type": "markdown",
   "id": "8af44761",
   "metadata": {},
   "source": [
    "## Parte 1: Configure su base de datos\n",
    "\n",
    "En esta parte, utilizará SQLite, una biblioteca de procesos que implementa un motor de bases de datos de SQL transaccionales autónomo, sin servidor, sin configuración para configurar el entorno.\n",
    "\n",
    "\n",
    "\n",
    "### Paso 1: Configure el entorno de trabajo.\n",
    "\n",
    "Necesitaremos sqlite3 y csvkit para completar esta computadora portátil.\n",
    "\n",
    "#### a)\tInstale SQLite.\n",
    "\n",
    "En una computadora portátil de Jupyter, se pueden ejecutar los mismos comandos que se usarían en el terminal. Para hacerlo, comience la línea con un signo de exclamación (!).\n",
    "##### Después de que el proceso de instalación finalice, cree una base de datos:\n",
    "##### nombre de la base de datos es el nombre que desea proporcionar a su base de datos, por ejemplo, InternetSpeed:"
   ]
  },
  {
   "cell_type": "code",
   "execution_count": 2,
   "id": "dbedc56f",
   "metadata": {},
   "outputs": [
    {
     "name": "stdout",
     "output_type": "stream",
     "text": [
      "main: C:\\Users\\ZaRa_\\Desktop\\8vo\\analisis de datos\\InternetSpeed.db r/w\n"
     ]
    }
   ],
   "source": [
    "# Code Cell 1\n",
    "! sqlite3 InternetSpeed.db \".databases\""
   ]
  },
  {
   "cell_type": "markdown",
   "id": "fe20c523",
   "metadata": {},
   "source": [
    "#### Este código crea la base de datos en una ventana del terminal. Si está utilizando el terminal, asegúrese de navegar al mismo directorio en el cual reside este laboratorio"
   ]
  },
  {
   "cell_type": "code",
   "execution_count": null,
   "id": "3bdfb0da",
   "metadata": {},
   "outputs": [],
   "source": [
    "# Code Cell 2\n",
    "#Create the InternetSpeed database\n"
   ]
  },
  {
   "cell_type": "markdown",
   "id": "3472e2ce",
   "metadata": {},
   "source": [
    "#### b)\tInstale csvkit.\n",
    "\n",
    "Instale csvkit en el terminal:\n",
    "\n",
    "$pip install csvkit\n",
    "\n",
    "También puede permanecer en el entorno de la computadora portátil, como lo hizo anteriormente, agregando el signo de exclamación al comienzo de la línea.\n",
    "\n",
    "El archivo utilizado en esta parte de la práctica de laboratorio se denomina\n",
    "./Data/LA_wifi_speed_UK.csv.\n"
   ]
  },
  {
   "cell_type": "code",
   "execution_count": 3,
   "id": "d9dc17a7",
   "metadata": {},
   "outputs": [
    {
     "name": "stdout",
     "output_type": "stream",
     "text": [
      "Requirement already satisfied: csvkit in c:\\users\\zara_\\anaconda3\\lib\\site-packages (1.0.7)\n",
      "Requirement already satisfied: agate-sql>=0.5.3 in c:\\users\\zara_\\anaconda3\\lib\\site-packages (from csvkit) (0.5.8)\n",
      "Requirement already satisfied: agate>=1.6.1 in c:\\users\\zara_\\anaconda3\\lib\\site-packages (from csvkit) (1.6.3)\n",
      "Requirement already satisfied: agate-dbf>=0.2.2 in c:\\users\\zara_\\anaconda3\\lib\\site-packages (from csvkit) (0.2.2)\n",
      "Requirement already satisfied: agate-excel>=0.2.2 in c:\\users\\zara_\\anaconda3\\lib\\site-packages (from csvkit) (0.2.5)\n",
      "Requirement already satisfied: six>=1.6.1 in c:\\users\\zara_\\anaconda3\\lib\\site-packages (from csvkit) (1.16.0)\n",
      "Requirement already satisfied: pytimeparse>=1.1.5 in c:\\users\\zara_\\anaconda3\\lib\\site-packages (from agate>=1.6.1->csvkit) (1.1.8)\n",
      "Requirement already satisfied: Babel>=2.0 in c:\\users\\zara_\\anaconda3\\lib\\site-packages (from agate>=1.6.1->csvkit) (2.9.1)\n",
      "Requirement already satisfied: parsedatetime!=2.5,!=2.6,>=2.1 in c:\\users\\zara_\\anaconda3\\lib\\site-packages (from agate>=1.6.1->csvkit) (2.4)\n",
      "Requirement already satisfied: python-slugify>=1.2.1 in c:\\users\\zara_\\anaconda3\\lib\\site-packages (from agate>=1.6.1->csvkit) (5.0.2)\n",
      "Requirement already satisfied: isodate>=0.5.4 in c:\\users\\zara_\\anaconda3\\lib\\site-packages (from agate>=1.6.1->csvkit) (0.6.1)\n",
      "Requirement already satisfied: leather>=0.3.2 in c:\\users\\zara_\\anaconda3\\lib\\site-packages (from agate>=1.6.1->csvkit) (0.3.4)\n",
      "Requirement already satisfied: dbfread>=2.0.5 in c:\\users\\zara_\\anaconda3\\lib\\site-packages (from agate-dbf>=0.2.2->csvkit) (2.0.7)\n",
      "Requirement already satisfied: xlrd>=0.9.4 in c:\\users\\zara_\\anaconda3\\lib\\site-packages (from agate-excel>=0.2.2->csvkit) (2.0.1)\n",
      "Requirement already satisfied: openpyxl>=2.3.0 in c:\\users\\zara_\\anaconda3\\lib\\site-packages (from agate-excel>=0.2.2->csvkit) (3.0.9)\n",
      "Requirement already satisfied: olefile in c:\\users\\zara_\\anaconda3\\lib\\site-packages (from agate-excel>=0.2.2->csvkit) (0.46)\n",
      "Requirement already satisfied: sqlalchemy>=1.0.8 in c:\\users\\zara_\\anaconda3\\lib\\site-packages (from agate-sql>=0.5.3->csvkit) (1.4.32)\n",
      "Requirement already satisfied: pytz>=2015.7 in c:\\users\\zara_\\anaconda3\\lib\\site-packages (from Babel>=2.0->agate>=1.6.1->csvkit) (2021.3)\n",
      "Requirement already satisfied: et-xmlfile in c:\\users\\zara_\\anaconda3\\lib\\site-packages (from openpyxl>=2.3.0->agate-excel>=0.2.2->csvkit) (1.1.0)\n",
      "Requirement already satisfied: future in c:\\users\\zara_\\anaconda3\\lib\\site-packages (from parsedatetime!=2.5,!=2.6,>=2.1->agate>=1.6.1->csvkit) (0.18.2)\n",
      "Requirement already satisfied: text-unidecode>=1.3 in c:\\users\\zara_\\anaconda3\\lib\\site-packages (from python-slugify>=1.2.1->agate>=1.6.1->csvkit) (1.3)\n",
      "Requirement already satisfied: greenlet!=0.4.17 in c:\\users\\zara_\\anaconda3\\lib\\site-packages (from sqlalchemy>=1.0.8->agate-sql>=0.5.3->csvkit) (1.1.1)\n"
     ]
    }
   ],
   "source": [
    "# Code Cell 3\n",
    "#Installing csvkit\n",
    "!pip install csvkit"
   ]
  },
  {
   "cell_type": "code",
   "execution_count": null,
   "id": "779ab0d3",
   "metadata": {},
   "outputs": [],
   "source": []
  },
  {
   "cell_type": "markdown",
   "id": "868db6c4",
   "metadata": {},
   "source": [
    "## Parte 2: Conéctese a la base de datos\n",
    "\n",
    "Python se utiliza para conectarse a la base de datos y ejecutar algunas consultas para saber cómo lucen estos datos.\n",
    "\n",
    "Importe las bibliotecas:"
   ]
  },
  {
   "cell_type": "code",
   "execution_count": 71,
   "id": "930a5361",
   "metadata": {},
   "outputs": [],
   "source": [
    "# Code Cell 5\n",
    "# this is the library to talk to the database\n",
    "import sqlite3\n",
    "import pandas as pd\n",
    "# this is a library for data vizualization\n",
    "from matplotlib import pyplot as plt\n",
    "# this is to say that we want our plots to be part of this page, and not opene d in a new window\n",
    "%matplotlib inline"
   ]
  },
  {
   "cell_type": "markdown",
   "id": "5b612930",
   "metadata": {},
   "source": [
    "### Paso 1: Conecte y ejecute una consulta.\n",
    "\n",
    "Una conexión abierta y un cursor son necesarios para comunicarse con la base de datos. El cursor es una estructura de control que nos permitirá navegar por las tablas y los registros.\n",
    "\n",
    "Para abrir una conexión, ejecute el método connect de la biblioteca sqlite3. Esta función toma una cadena que contiene el nombre de la base de datos para la cual la conexión es necesaria.\n",
    "\n",
    "En este caso, el comando será:\n",
    "#### a)\tConéctese a la base de datos que acaba de crear, y luego cree un cursor que apunte a la base de datos."
   ]
  },
  {
   "cell_type": "code",
   "execution_count": 51,
   "id": "85ecdf75",
   "metadata": {},
   "outputs": [],
   "source": [
    "# Code Cell 6\n",
    "# what is the name of the database you want to connect to? \n",
    "conn = sqlite3.connect('C:/Users/ZaRa_/Desktop/8vo/analisis de datos/InternetSpeed.db')\n",
    "cur = conn.cursor()"
   ]
  },
  {
   "cell_type": "markdown",
   "id": "baeda3c2",
   "metadata": {},
   "source": [
    "#### b)\tEjecute una consulta.\n",
    "\n",
    "Seleccione las primeras 10 filas de la columna DateTime.\n",
    "\n",
    "Sugerencia: Si desea revisar el nombre de las tablas en su base de datos, vuelva a la línea de comandos interactiva y utilice este código:\n",
    "\n",
    ".tables\n"
   ]
  },
  {
   "cell_type": "code",
   "execution_count": 20,
   "id": "111fa28b",
   "metadata": {},
   "outputs": [
    {
     "data": {
      "text/plain": [
       "<sqlite3.Cursor at 0x2d27bf97490>"
      ]
     },
     "execution_count": 20,
     "metadata": {},
     "output_type": "execute_result"
    }
   ],
   "source": [
    "# Code Cell 7\n",
    "# complete the query with the field you want to select, the table you want to select the field from,\n",
    "# and the field you want your results to be ordered by \n",
    "query = 'SELECT DateTime FROM LA_wifi_speed_UK  ORDER BY DateTime LIMIT 10;'\n",
    "\n",
    "\n",
    "cur.execute(query)\n"
   ]
  },
  {
   "cell_type": "markdown",
   "id": "12677986",
   "metadata": {},
   "source": [
    "#### El resultado de la consulta se almacena en cur. Necesitamos iterar sobre ella para ver el resultado."
   ]
  },
  {
   "cell_type": "code",
   "execution_count": 23,
   "id": "b81b93ef",
   "metadata": {},
   "outputs": [
    {
     "name": "stdout",
     "output_type": "stream",
     "text": [
      "('2016-11-23 00:00:00.000000',)\n",
      "('2016-11-23 00:30:00.000000',)\n",
      "('2016-11-23 01:00:00.000000',)\n",
      "('2016-11-23 01:30:00.000000',)\n",
      "('2016-11-23 02:00:00.000000',)\n",
      "('2016-11-23 02:30:00.000000',)\n",
      "('2016-11-23 03:00:00.000000',)\n",
      "('2016-11-23 03:30:00.000000',)\n",
      "('2016-11-23 04:00:00.000000',)\n",
      "('2016-11-23 04:30:00.000000',)\n"
     ]
    }
   ],
   "source": [
    "# Code Cell 8\n",
    "for row in cur:\n",
    "    print (row)"
   ]
  },
  {
   "cell_type": "markdown",
   "id": "a807c699",
   "metadata": {},
   "source": [
    "#### Nota: Necesitamos ordenar la tabla que contiene la medición según la columna DateTime. Esto es porque SQL no posee un orden intrínseco de las filas, y estamos lidiando con una serie de tiempo, que sin el orden correcto, no tiene sentido. La selección de una muestra aleatoria de filas quitaría el componente temporal:"
   ]
  },
  {
   "cell_type": "code",
   "execution_count": 26,
   "id": "a2aee724",
   "metadata": {},
   "outputs": [
    {
     "name": "stdout",
     "output_type": "stream",
     "text": [
      "('2016-12-03 17:30:00.000000',)\n",
      "('2016-11-27 12:30:00.000000',)\n",
      "('2016-12-06 23:00:00.000000',)\n",
      "('2016-12-10 05:30:00.000000',)\n",
      "('2016-11-25 03:00:00.000000',)\n",
      "('2016-11-30 09:00:00.000000',)\n",
      "('2016-11-28 02:30:00.000000',)\n",
      "('2016-12-08 13:00:00.000000',)\n",
      "('2016-11-27 20:30:00.000000',)\n",
      "('2016-11-25 08:30:00.000000',)\n"
     ]
    }
   ],
   "source": [
    "# Code Cell 9\n",
    "query = 'SELECT DateTime FROM LA_wifi_speed_UK ORDER BY RANDOM() LIMIT 10'\n",
    "cur.execute(query)\n",
    "\n",
    "for row in cur:\n",
    "    print (row)\n"
   ]
  },
  {
   "cell_type": "markdown",
   "id": "748cf4b0",
   "metadata": {},
   "source": [
    "### Paso 2: Enfóquese en una porción de los datos.\n",
    "\n",
    "¿Cuáles son los nombres de las 900+ columnas? Es posible recuperarlos automáticamente y guardarlos en una lista. Será práctico para distintas cosas más adelante.\n",
    "\n",
    "En primer lugar, necesitamos ejecutar una consulta sobre todas las columnas. En este caso, no es importante la cantidad de filas que la consulta devuelve, de modo que la limitaremos a 1."
   ]
  },
  {
   "cell_type": "code",
   "execution_count": 27,
   "id": "217b78fb",
   "metadata": {},
   "outputs": [
    {
     "data": {
      "text/plain": [
       "<sqlite3.Cursor at 0x2d27bf97490>"
      ]
     },
     "execution_count": 27,
     "metadata": {},
     "output_type": "execute_result"
    }
   ],
   "source": [
    "# Code Cell 10\n",
    "# we need to have a cursor pointing to a table for this operation\n",
    "query = 'SELECT * FROM LA_wifi_speed_UK LIMIT 1' \n",
    "cur.execute(query)"
   ]
  },
  {
   "cell_type": "markdown",
   "id": "cd9dce62",
   "metadata": {},
   "source": [
    "#### El nombre de las columnas de la tabla se almacena en el campo description del cursor."
   ]
  },
  {
   "cell_type": "code",
   "execution_count": 28,
   "id": "5d2a8daf",
   "metadata": {},
   "outputs": [
    {
     "data": {
      "text/plain": [
       "(('E07000223_p', None, None, None, None, None, None),\n",
       " ('E07000026_p', None, None, None, None, None, None),\n",
       " ('E07000032_p', None, None, None, None, None, None),\n",
       " ('E07000224_p', None, None, None, None, None, None),\n",
       " ('E07000170_p', None, None, None, None, None, None),\n",
       " ('E07000105_p', None, None, None, None, None, None),\n",
       " ('E07000004_p', None, None, None, None, None, None),\n",
       " ('E07000200_p', None, None, None, None, None, None),\n",
       " ('E09000002_p', None, None, None, None, None, None),\n",
       " ('E09000003_p', None, None, None, None, None, None))"
      ]
     },
     "execution_count": 28,
     "metadata": {},
     "output_type": "execute_result"
    }
   ],
   "source": [
    "# Code Cell 11\n",
    "#visualizing the first 10 rows of the field description\n",
    "cur.description[:10]"
   ]
  },
  {
   "cell_type": "markdown",
   "id": "3c711520",
   "metadata": {},
   "source": [
    "##### Podemos dar vuelta los miembros de este campo e ingresar los nombres de las columnas en una lista (una estructura de datos práctica, en este caso). En Python, es posible generar listas como el resultado de un bucle. Este concepto se denomina comprensión de la lista y es sólo otro nombre para un bucle más largo. Cada elemento de la lista de resultados es la operación que haría en el bucle, mientras itera sobre cierto conjunto."
   ]
  },
  {
   "cell_type": "code",
   "execution_count": 30,
   "id": "a10c1910",
   "metadata": {},
   "outputs": [],
   "source": [
    "# Code Cell 12\n",
    "# loop over the header and store them in a list\n",
    "columns = [member[0] for member in cur.description]\n",
    "\n",
    "# ignore index column\n",
    "columns = columns[1:]"
   ]
  },
  {
   "cell_type": "markdown",
   "id": "76622171",
   "metadata": {},
   "source": [
    "##### Las columnas contienen las mediciones de las tres velocidades para cada área geográfica. Se establecen de esta manera:\n",
    "\n",
    "<area name>_<suffix>,\n",
    "\n",
    " El sufijo es p para ping, u para carga y d para descarga.\n",
    "\n",
    "Necesitamos librarnos de los sufijos, porque estamos interesados en los nombres del área, y de momento cada nombre se repite tres veces. Utilizaremos el nombre de las áreas para mostrar las distintas mediciones y para generar una nueva tabla más adelante en la práctica de laboratorio.\n",
    "\n",
    "Podemos reemplazar la parte final de la cadena mediante un carácter vacío. Para hacerlo, podemos utilizar el método replace() (consulte la documentación de la cadena, https://docs.python.org/2/library/string.html (https://docs.python.org/2/library/string.html)). Este método toma como entrada la parte de la cadena que se reemplazará y la nueva parte de la cadena que debe reemplazar. Por ejemplo, para quitar los caracteres e y s de la cadena 'chestnut', utilice este código:\n",
    "'chestnut'.replace('es', '')\n",
    "   \n",
    "\n"
   ]
  },
  {
   "cell_type": "markdown",
   "id": "9528ae65",
   "metadata": {},
   "source": [
    "#### a)\tObtenga los nombres de área.\n",
    "\n",
    "Utilice la comprensión de lista para dar vuelta la lista que contiene los nombres de las columnas de la tabla y quite los sufijos \"_p\", \"_d\" y \"_u\"."
   ]
  },
  {
   "cell_type": "code",
   "execution_count": 31,
   "id": "0847b9e0",
   "metadata": {},
   "outputs": [],
   "source": [
    "# Code Cell 13\n",
    "# remove suffix '_p'\n",
    "columns = [c.replace('_p', '') for c in columns]\n",
    "# remove suffix '_d'\n",
    "columns = [c.replace('_d', '') for c in columns]\n",
    "# remove suffix '_u' # columns = ??\n",
    "\n",
    "\n",
    "# this operation is to remove duplicates\n",
    "columns = list(set(columns))"
   ]
  },
  {
   "cell_type": "code",
   "execution_count": 32,
   "id": "9118e7a0",
   "metadata": {},
   "outputs": [
    {
     "data": {
      "text/plain": [
       "['E07000007',\n",
       " 'E07000116',\n",
       " 'E07000194_u',\n",
       " 'E07000031_u',\n",
       " 'E07000039',\n",
       " 'E07000035_u',\n",
       " 'E08000025_u',\n",
       " 'E06000025',\n",
       " 'E07000204',\n",
       " 'E07000181']"
      ]
     },
     "execution_count": 32,
     "metadata": {},
     "output_type": "execute_result"
    }
   ],
   "source": [
    "# Code Cell 14\n",
    "# visualize the first 10 areas\n",
    "columns[:10]"
   ]
  },
  {
   "cell_type": "markdown",
   "id": "13ac2ea6",
   "metadata": {},
   "source": [
    "##### Para comprender mejor los datos en la base de datos es preciso visualizar una parte de ellos. En particular, queremos seleccionar las tres estadísticas de un área. En primer lugar, escojamos la primer área que tenemos en el conjunto de datos:"
   ]
  },
  {
   "cell_type": "code",
   "execution_count": 33,
   "id": "4e0521b4",
   "metadata": {},
   "outputs": [
    {
     "name": "stdout",
     "output_type": "stream",
     "text": [
      "E07000007\n"
     ]
    }
   ],
   "source": [
    "# Code Cell 15\n",
    "area = columns[0] \n",
    "print (area)\n"
   ]
  },
  {
   "cell_type": "markdown",
   "id": "e9ac8cfe",
   "metadata": {},
   "source": [
    "##### Ahora queremos mostrar los datos en relación con el área E07000101. Necesitamos seleccionar las columnas que contienen las tres mediciones para esta área. Para hacerlo, es necesario manipular las cadenas nuevamente.\n",
    "\n",
    "##### Una forma de formatear una cadena es:\n",
    "\n",
    "'We are considering {} area and {} statistics'.format(1, 3) We are considering 1 area and 3 statistics\n",
    "\n",
    "##### Debemos agregar los sufijos de nuevo para obtener los nombres de columna correctos. Lo primero que debemos hacer es crear un diccionario que asocie el nombre completo de la medición al sufijo. También será útil escribir una leyenda significativa en el diagrama.\n"
   ]
  },
  {
   "cell_type": "code",
   "execution_count": 35,
   "id": "0eb60042",
   "metadata": {},
   "outputs": [
    {
     "name": "stdout",
     "output_type": "stream",
     "text": [
      "dict_values(['ping', 'download', 'upload'])\n"
     ]
    }
   ],
   "source": [
    "# Code Cell 16\n",
    "suffix = {'_p':'ping', '_d':'download', '_u':'upload'} # we have the suffixes as the keys of the dictionary print suffix.keys()\n",
    "\n",
    "# we have the complete names as the values of the dictionary\n",
    "print (suffix.values())"
   ]
  },
  {
   "cell_type": "markdown",
   "id": "692cd7ed",
   "metadata": {},
   "source": [
    "##### Ahora el proceso es dar vuelta las claves del diccionario, escribir y ejecutar la consulta para seleccionar la medición en relación con nuestra área y trazarla usando este código:\n",
    "\n",
    "plt.plot(cur.fetchall(), label=suffix[s])\n",
    "\n",
    "\n",
    "El método fetchall() recupera todas las filas del resultado de consulta. El campo label se utilizará para producir la leyenda del diagrama. También podemos agregar un título al diagrama, mediante el método title().\n",
    "\n",
    "##### b)\tEscriba la consulta para seleccionar las columnas relevantes.\n"
   ]
  },
  {
   "cell_type": "code",
   "execution_count": 56,
   "id": "dccbc2e7",
   "metadata": {},
   "outputs": [
    {
     "data": {
      "text/plain": [
       "Text(0.5, 1.0, 'E07000007')"
      ]
     },
     "execution_count": 56,
     "metadata": {},
     "output_type": "execute_result"
    },
    {
     "data": {
      "image/png": "[encoded data removed]",
      "text/plain": [
       "<Figure size 720x576 with 1 Axes>"
      ]
     },
     "metadata": {
      "needs_background": "light"
     },
     "output_type": "display_data"
    }
   ],
   "source": [
    "# Code Cell 17\n",
    "area = columns[0]\n",
    "plt.figure(figsize=(10, 8))\n",
    "\n",
    "# Plot each variable in suffix.keys() for each area\n",
    "for s in suffix.keys():\n",
    "    query = 'SELECT \"{}{}\" FROM LA_wifi_speed_UK ORDER BY DateTime'.format(area, s)\n",
    "    cur.execute(query)\n",
    "    plt.plot(list(cur.fetchall()), label=suffix[s]) \n",
    "plt.legend()\n",
    "plt.title(area)"
   ]
  },
  {
   "cell_type": "markdown",
   "id": "ef378b6e",
   "metadata": {},
   "source": [
    "# Parte 3: Manipule los datos con pandas\n",
    "El objetivo es ahora calcular la velocidad promedio de WiFi para todas las áreas del conjunto de datos. Los pandas pueden ayudar en el almacenamiento y la visualización de los datos fácilmente.\n",
    "\n",
    "## Paso 1: Convierta todas las mediciones a promedios.\n",
    "\n",
    "Para cada autoridad local, queremos saber cuál era la velocidad promedio de Internet para el ping, la carga y la descarga en el período de tiempo en el que nuestros datos fueron recopilados. Los dataframes de pandas son útiles para este tipo de operaciones.\n",
    "\n",
    "#### a)\tCree un dataframe vacío con columnas específicas.\n"
   ]
  },
  {
   "cell_type": "code",
   "execution_count": 58,
   "id": "31c068c2",
   "metadata": {},
   "outputs": [],
   "source": [
    "# Code Cell 18\n",
    "new_columns = ['Area', 'Average_p', 'Average_u', 'Average_d']\n",
    "\n",
    "\n",
    "df = pd.DataFrame(columns = new_columns)"
   ]
  },
  {
   "cell_type": "markdown",
   "id": "ec8e93b1",
   "metadata": {},
   "source": [
    "#### b)\tCalcule los promedios.\n",
    "\n",
    "Escriba la consulta SQL que computa el promedio de una columna y almacénela en una lista temporal. La lista será la fila nueva adjunta al dataframe. Esto tomará aproximadamente 1 minuto en el RaPi.\n"
   ]
  },
  {
   "cell_type": "code",
   "execution_count": 91,
   "id": "8da53e19",
   "metadata": {},
   "outputs": [
    {
     "name": "stderr",
     "output_type": "stream",
     "text": [
      "C:\\Users\\ZaRa_\\AppData\\Local\\Temp\\ipykernel_13704\\1156658711.py:14: FutureWarning: The frame.append method is deprecated and will be removed from pandas in a future version. Use pandas.concat instead.\n",
      "  df = df.append(pd.Series(tmp_list, index=new_columns), ignore_index=True)\n"
     ]
    },
    {
     "data": {
      "text/html": [
       "<div>\n",
       "<style scoped>\n",
       "    .dataframe tbody tr th:only-of-type {\n",
       "        vertical-align: middle;\n",
       "    }\n",
       "\n",
       "    .dataframe tbody tr th {\n",
       "        vertical-align: top;\n",
       "    }\n",
       "\n",
       "    .dataframe thead th {\n",
       "        text-align: right;\n",
       "    }\n",
       "</style>\n",
       "<table border=\"1\" class=\"dataframe\">\n",
       "  <thead>\n",
       "    <tr style=\"text-align: right;\">\n",
       "      <th></th>\n",
       "      <th>Area</th>\n",
       "      <th>Average_p</th>\n",
       "      <th>Average_u</th>\n",
       "      <th>Average_d</th>\n",
       "    </tr>\n",
       "  </thead>\n",
       "  <tbody>\n",
       "    <tr>\n",
       "      <th>0</th>\n",
       "      <td>E07000117</td>\n",
       "      <td>51.539458</td>\n",
       "      <td>20.631205</td>\n",
       "      <td>8.327936</td>\n",
       "    </tr>\n",
       "    <tr>\n",
       "      <th>1</th>\n",
       "      <td>E07000117</td>\n",
       "      <td>51.539458</td>\n",
       "      <td>20.631205</td>\n",
       "      <td>8.327936</td>\n",
       "    </tr>\n",
       "    <tr>\n",
       "      <th>2</th>\n",
       "      <td>E07000117</td>\n",
       "      <td>51.539458</td>\n",
       "      <td>20.631205</td>\n",
       "      <td>8.327936</td>\n",
       "    </tr>\n",
       "    <tr>\n",
       "      <th>3</th>\n",
       "      <td>E07000117</td>\n",
       "      <td>51.539458</td>\n",
       "      <td>20.631205</td>\n",
       "      <td>8.327936</td>\n",
       "    </tr>\n",
       "    <tr>\n",
       "      <th>4</th>\n",
       "      <td>E07000007</td>\n",
       "      <td>53.218813</td>\n",
       "      <td>21.666533</td>\n",
       "      <td>8.608683</td>\n",
       "    </tr>\n",
       "  </tbody>\n",
       "</table>\n",
       "</div>"
      ],
      "text/plain": [
       "        Area  Average_p  Average_u Average_d\n",
       "0  E07000117  51.539458  20.631205  8.327936\n",
       "1  E07000117  51.539458  20.631205  8.327936\n",
       "2  E07000117  51.539458  20.631205  8.327936\n",
       "3  E07000117  51.539458  20.631205  8.327936\n",
       "4  E07000007  53.218813  21.666533  8.608683"
      ]
     },
     "execution_count": 91,
     "metadata": {},
     "output_type": "execute_result"
    }
   ],
   "source": [
    "# Code Cell 19\n",
    "# this will take a while...\n",
    "for i in range(len(columns)-1): \n",
    "    tmp_list = []\n",
    "    tmp_list.append(columns[i])\n",
    "    for s in suffix.keys():\n",
    "        query = 'SELECT AVG(\"{}{}\") FROM LA_wifi_speed_UK'.format(columns[i], s)\n",
    "        \n",
    "        cur.execute(query)\n",
    "        \n",
    "        mean = cur.fetchone()\n",
    "        tmp_list.append(mean[0])\n",
    "    #append the columns to the empty DataFrame\n",
    "df = df.append(pd.Series(tmp_list, index=new_columns), ignore_index=True)\n",
    "# visualize the head of the dataframe here\n",
    "df.head()"
   ]
  },
  {
   "cell_type": "code",
   "execution_count": 94,
   "id": "74a3003e",
   "metadata": {},
   "outputs": [
    {
     "data": {
      "text/plain": [
       "[<matplotlib.lines.Line2D at 0x2d20515bfa0>]"
      ]
     },
     "execution_count": 94,
     "metadata": {},
     "output_type": "execute_result"
    },
    {
     "data": {
      "image/png": "[encoded data removed]",
      "text/plain": [
       "<Figure size 1440x720 with 1 Axes>"
      ]
     },
     "metadata": {
      "needs_background": "light"
     },
     "output_type": "display_data"
    }
   ],
   "source": [
    "plt.figure(figsize=(20,10))\n",
    "plt.plot(df.index, df['Average_d'], 'o')\n",
    "plt.plot(df.index, df['Average_u'], 'o')\n",
    "plt.plot(df.index, df['Average_p'], 'o')\n"
   ]
  },
  {
   "cell_type": "markdown",
   "id": "2614ce62",
   "metadata": {},
   "source": [
    "Ahora las velocidades promedio se almacenan en un dataframe de pandas. Podría resultar útil guardarlos en una tabla en nuestra base de datos, y los pandas ofrecen un método (to_sql()) para hacerlo En primer lugar, verifique si ya existe la tabla (esto puede crear problemas). Si existe, queremos descartarla y luego crearla. Si no, la crearemos directamente.\n",
    "\n",
    "El constructo try... except capturará la excepción elevada en caso de que la tabla no exista y procederá a su creación (para obtener ayuda, consulte la Sección 8.3 de https://docs.python.org/2.7/tutorial/errors.html (https://docs.python.org/2.7/tutorial/errors.html)).\n",
    "\n",
    "#### a)\tGuarde el trabajo.\n",
    "\n",
    "Guarde el nuevo dataframe en una tabla de la base de datos InternetSpeed.\n"
   ]
  },
  {
   "cell_type": "code",
   "execution_count": 98,
   "id": "ee81a58d",
   "metadata": {},
   "outputs": [
    {
     "data": {
      "text/plain": [
       "6527"
      ]
     },
     "execution_count": 98,
     "metadata": {},
     "output_type": "execute_result"
    }
   ],
   "source": [
    "# Code Cell 21\n",
    "# Make sure to drop the table first if it already exists\n",
    "try:\n",
    "    cur.execute('DROP TABLE average_speed')\n",
    "except:\n",
    "    pass\n",
    "\n",
    "# what is the name of the table you want to save? To what connection? # Save the dataframe table into a SQL table\n",
    "df.to_sql('average_speed',conn)"
   ]
  },
  {
   "cell_type": "code",
   "execution_count": 99,
   "id": "826e038c",
   "metadata": {},
   "outputs": [
    {
     "name": "stdout",
     "output_type": "stream",
     "text": [
      "(0, 'E07000117', 51.53945800742985, 20.631205214910192, 8.327936066197628)\n",
      "(1, 'E07000117', 51.53945800742985, 20.631205214910192, 8.327936066197628)\n"
     ]
    }
   ],
   "source": [
    "# Code Cell 22\n",
    "# just checking everything worked fine: select everything from the table we ju st created\n",
    "# and then print the first two rows of the result\n",
    "\n",
    "query_2 = 'SELECT * FROM average_speed' \n",
    "cur.execute(query_2)\n",
    "\n",
    "# print the first fetched record\n",
    "print(cur.fetchone())\n",
    "# print the next fetched record\n",
    "print(cur.fetchone())\n"
   ]
  },
  {
   "cell_type": "markdown",
   "id": "1c9bd0f1",
   "metadata": {},
   "source": [
    "## Parte 4: Una las tablas con pandas\n",
    "Para comprender por qué y cómo cambia la velocidad promedio de Internet alrededor de las áreas, es necesario obtener más información sobre ellas. En particular, estamos interesados en los datos demográficos, para ver si un área con mucha población tiene un servicio de Internet mejor o peor.\n",
    "\n",
    "### Paso 1: Obtenga información relevante.\n",
    "\n",
    "Esta información se puede encontrar en este archivo:\n",
    "\n",
    "./Data/LA_population.csv\n",
    "\n",
    "\n",
    "Aquí, LA significa autoridad local, en lugar de Los Ángeles. Queremos unir la información contenida en este archivo con la velocidad promedio computada anteriormente. Primero, haga una nueva tabla y guarde estos datos en la base de datos InternetSpeed.\n",
    "\n",
    "#### a)\tCree la tabla de la población.\n",
    "\n",
    "Con csvsql, importe el archivo LA_population.csv a la base de datos InternetSpeed. Repita los pasos realizados para crear las otras tablas en la base de datos.\n"
   ]
  },
  {
   "cell_type": "code",
   "execution_count": 100,
   "id": "f8fe2e9c",
   "metadata": {},
   "outputs": [],
   "source": [
    "# Code Cell 23\n",
    "#first close the database file, otherwise the external csvsql command cannot u se\n",
    "conn.close()"
   ]
  },
  {
   "cell_type": "code",
   "execution_count": 105,
   "id": "057e1715",
   "metadata": {},
   "outputs": [],
   "source": [
    "# Code Cell 24\n",
    "# use the external csvsql command to add to the DB file data from the CSV file #!csvsql --db sqlite:///...\n"
   ]
  },
  {
   "cell_type": "code",
   "execution_count": 102,
   "id": "2108dab7",
   "metadata": {},
   "outputs": [],
   "source": [
    "# Code Cell 25\n",
    "#reopen the DB file\n",
    "conn = sqlite3.connect('InternetSpeed.db')\n",
    "\n",
    "cur = conn.cursor()\n"
   ]
  },
  {
   "cell_type": "markdown",
   "id": "f4c4232f",
   "metadata": {},
   "source": [
    "#### b)\tCompruebe que todo haya funcionado.\n",
    "\n",
    "Para comprobar que todo haya funcionado y tener una idea de qué hay dentro de esta nueva tabla, seleccione las primeras 10 filas e imprímalas.\n"
   ]
  },
  {
   "cell_type": "code",
   "execution_count": 104,
   "id": "0ed4092b",
   "metadata": {},
   "outputs": [
    {
     "name": "stdout",
     "output_type": "stream",
     "text": [
      "('Aberdeen City', 'S12000033', 222793)\n",
      "('Aberdeenshire', 'S12000034', 252973)\n",
      "('Adur', 'E07000223', 61182)\n",
      "('Allerdale', 'E07000026', 96422)\n",
      "('Amber Valley', 'E07000032', 122309)\n",
      "('Angus', 'S12000041', 115978)\n",
      "('Antrim and Newtownabbey', 'N09000001', 138567)\n",
      "('Ards and North Down', 'N09000011', 156672)\n",
      "('Argyll and Bute', 'S12000035', 88166)\n",
      "('Armagh City, Banbridge and Craigavon', 'N09000002', 199693)\n"
     ]
    }
   ],
   "source": [
    "# Code Cell 26 #query = ?\n",
    "query = 'SELECT * FROM LA_population LIMIT 10'\n",
    "\n",
    "cur.execute(query)\n",
    "\n",
    "\n",
    "for row in cur:\n",
    "    # print the first fetched record\n",
    "    print(row)\n"
   ]
  },
  {
   "cell_type": "markdown",
   "id": "b44803e3",
   "metadata": {},
   "source": [
    "Podemos unir las dos tablas para tener toda la información necesaria. La idea es que las dos tablas tengan un campo en común, el nombre del área. Esta es la clave sobre la que queremos unir. Esto significa que queremos una nueva tabla que tenga una fila para cada nombre de área que contenga información de velocidad promedio e información geográfica. La forma en que SQL lo hace es comparar fila por fila, y fusionar las filas con el mismo valor para la clave (es decir, el mismo nombre de área).\n",
    "\n",
    "#### c)\tEjecute la consulta UNIR e imprima las primeras 10 filas del resultado.\n"
   ]
  },
  {
   "cell_type": "code",
   "execution_count": 110,
   "id": "f698dc2a",
   "metadata": {},
   "outputs": [
    {
     "name": "stdout",
     "output_type": "stream",
     "text": [
      "(0, 'E07000117', 51.53945800742985, 20.631205214910192, 8.327936066197628, 'Burnley', 'E07000117', 87059)\n",
      "(1, 'E07000117', 51.53945800742985, 20.631205214910192, 8.327936066197628, 'Burnley', 'E07000117', 87059)\n",
      "(2, 'E07000117', 51.53945800742985, 20.631205214910192, 8.327936066197628, 'Burnley', 'E07000117', 87059)\n",
      "(3, 'E07000117', 51.53945800742985, 20.631205214910192, 8.327936066197628, 'Burnley', 'E07000117', 87059)\n",
      "(4, 'E07000007', 53.21881278970453, 21.666533347419993, 8.608683459840753, 'Wycombe', 'E07000007', 171644)\n",
      "(5, 'E07000116', 52.58738016162416, 21.18702771257326, 8.443655390781311, 'Tunbridge Wells', 'E07000116', 115049)\n",
      "(8, 'E07000039', 51.94569738304245, 21.047748159370286, 8.3497925050985, 'South Derbyshire', 'E07000039', 94611)\n",
      "(11, 'E06000025', 54.99640278441262, 22.207128731012236, 8.988448445418303, 'South Gloucestershire', 'E06000025', 262767)\n",
      "(12, 'E07000204', 52.18273764607757, 21.295640041941514, 8.393190249871294, 'St Edmundsbury', 'E07000204', 111008)\n",
      "(13, 'E07000181', 52.51095048950318, 21.09571423114829, 8.365475786529439, 'West Oxfordshire', 'E07000181', 104779)\n",
      "(14, 'E07000137', 52.83671498618508, 21.441474740703566, 8.504868143838769, 'East Lindsey', 'E07000137', 136401)\n"
     ]
    }
   ],
   "source": [
    "# Code Cell 27\n",
    "query = 'SELECT * FROM average_speed JOIN LA_population ON LA_population.\"LA_code\"=average_speed.Area'\n",
    "\n",
    "cur.execute(query)\n",
    "k = 0\n",
    "for row in cur:\n",
    "    if k>10:\n",
    "        break\n",
    "    print (row)\n",
    "\n",
    "    k+=1\n"
   ]
  },
  {
   "cell_type": "code",
   "execution_count": null,
   "id": "f631b477",
   "metadata": {},
   "outputs": [],
   "source": []
  }
 ],
 "metadata": {
  "kernelspec": {
   "display_name": "Python 3 (ipykernel)",
   "language": "python",
   "name": "python3"
  },
  "language_info": {
   "codemirror_mode": {
    "name": "ipython",
    "version": 3
   },
   "file_extension": ".py",
   "mimetype": "text/x-python",
   "name": "python",
   "nbconvert_exporter": "python",
   "pygments_lexer": "ipython3",
   "version": "3.9.12"
  }
 },
 "nbformat": 4,
 "nbformat_minor": 5
}
