{
 "cells": [
  {
   "cell_type": "markdown",
   "id": "2f659fb6",
   "metadata": {},
   "source": [
    "# Analítica de Datos en las Organizaciones\n",
    "\n",
    "# Asesor: José Gabriel Rodríguez Rivas\n",
    "\n",
    "# Alumno: Carlos Fernando Pinal Félix\n",
    "\n",
    "## Practica 2.5.1.4 análisis de datos del medidor de Internet"
   ]
  },
  {
   "cell_type": "markdown",
   "id": "e1001fcc",
   "metadata": {},
   "source": [
    "### Parte 1: Recopile y guarde los datos\n",
    "El objetivo de esta primera parte de la práctica de laboratorio es reunir mediciones de la velocidad de Internet a través de Raspberry Pi. Se recogerán tres tipos de mediciones:\n",
    "\n",
    "Velocidad de ping\n",
    "Velocidad de descarga\n",
    "Velocidad de carga\n",
    "Paso 1: Instale Speedtest e importe las bibliotecas de Python.\n",
    "En este paso, instalará Speedtest e importará las bibliotecas de Python.\n",
    "\n",
    "Speedtest-cli es un script de Python que mide la velocidad de carga y de descarga de la conexión a Internet. Para obtener más información sobre speedtest, vaya a https://github.com/sivel/speedtest-cli.\n",
    "\n",
    "a) Instale speedtest-cli."
   ]
  },
  {
   "cell_type": "code",
   "execution_count": 1,
   "id": "bf9e5411",
   "metadata": {},
   "outputs": [
    {
     "name": "stdout",
     "output_type": "stream",
     "text": [
      "Requirement already satisfied: speedtest-cli in c:\\users\\inkar\\anaconda3\\lib\\site-packages (2.1.3)\n"
     ]
    }
   ],
   "source": [
    "# Code cell 1\n",
    "!pip install speedtest-cli"
   ]
  },
  {
   "cell_type": "markdown",
   "id": "31ff592c",
   "metadata": {},
   "source": [
    "Este cli permite que la notebook de Jupyter se conecte a la página web y guarde los datos.\n",
    "\n",
    "b) Importe las bibliotecas de Python necesarias."
   ]
  },
  {
   "cell_type": "code",
   "execution_count": 2,
   "id": "a80fdf25",
   "metadata": {},
   "outputs": [],
   "source": [
    "# Code cell 2\n",
    "# Python library to manage date and time data\n",
    "import datetime\n",
    "# Python library to read and write csv files\n",
    "import csv\n",
    "# Python library to execute bash commands from the notebook.\n",
    "# If you want to know more about this, check this resource: \n",
    "# http://www.pythonforbeginners.com/os/subprocess-for-system-administrators\n",
    "import subprocess"
   ]
  },
  {
   "cell_type": "markdown",
   "id": "c998fad8",
   "metadata": {},
   "source": [
    "### Paso 2: Genere las marcas de hora mediante el paquete datetime.\n",
    "En esta práctica de laboratorio, se generarán mediciones de las estadísticas de la velocidad de Internet. Un paso crucial en la adquisición de datos para la mayoría de las aplicaciones de análisis de datos es asociar una marca de hora a las mediciones.\n",
    "\n",
    "a) Para generar una marca de hora, utilice la función datetime.now del paquete datetime:"
   ]
  },
  {
   "cell_type": "code",
   "execution_count": 3,
   "id": "3a9e4f47",
   "metadata": {},
   "outputs": [
    {
     "name": "stdout",
     "output_type": "stream",
     "text": [
      "2022-09-28 13:14:29.573163 <class 'datetime.datetime'>\n"
     ]
    }
   ],
   "source": [
    "# Code cell 3\n",
    "date_time = datetime.datetime.now()\n",
    "print(date_time, type(date_time))"
   ]
  },
  {
   "cell_type": "code",
   "execution_count": 4,
   "id": "1bf0f3c3",
   "metadata": {},
   "outputs": [
    {
     "data": {
      "text/plain": [
       "'Wed, 28 Sep 2022 13:14:29'"
      ]
     },
     "execution_count": 4,
     "metadata": {},
     "output_type": "execute_result"
    }
   ],
   "source": [
    "# Code cell 4\n",
    "date_time.strftime('%a, %d %b %Y %H:%M:%S')"
   ]
  },
  {
   "cell_type": "markdown",
   "id": "8849b76e",
   "metadata": {},
   "source": [
    "Después de leer la documentación de la función strftime, genere una marca de hora y analícela en una cadena con el siguiente formato: AAAA-MM-DD HH:MM:SS."
   ]
  },
  {
   "cell_type": "code",
   "execution_count": 5,
   "id": "e6fbfdf4",
   "metadata": {},
   "outputs": [
    {
     "data": {
      "text/plain": [
       "'Wed, 2022 Sep Wed 13:14:29'"
      ]
     },
     "execution_count": 5,
     "metadata": {},
     "output_type": "execute_result"
    }
   ],
   "source": [
    "# Code cell 5\n",
    "# Enter your code\n",
    "date_time.strftime('%a, %Y %b %a %H:%M:%S')"
   ]
  },
  {
   "cell_type": "markdown",
   "id": "d85e70bd",
   "metadata": {},
   "source": [
    "### Paso 3: Ejecute el proceso y recopile la salida con Python.\n",
    "El comando speedtest-cli, si se ejecuta desde un terminal, devuelve una cadena con las velocidades de carga y descarga. Para ejecutar el comando de la computadora portátil, es necesario utilizar el subproceso del módulo de Python, que permite la ejecución de un proceso directamente de las celdas de código de la computadora portátil.\n",
    "\n",
    "a) Ejecute una prueba de velocidad mediante el comando speedtest-cli de Python. La salida se almacenará en la variable process_output."
   ]
  },
  {
   "cell_type": "code",
   "execution_count": 6,
   "id": "21f42c21",
   "metadata": {},
   "outputs": [],
   "source": [
    "# Code cell 6\n",
    "# This string contains the command line to interface with speedtest.net\n",
    "speedtest_cmd = \"speedtest-cli --simple\"\n",
    "# Execute the process\n",
    "process = subprocess.Popen(speedtest_cmd.split(), stdout=subprocess.PIPE)\n",
    "# Collect the command output\n",
    "process_output = process.communicate()[0]"
   ]
  },
  {
   "cell_type": "markdown",
   "id": "3613f799",
   "metadata": {},
   "source": [
    "b) Imprima la salida del proceso. Observe el tipo para la variable process_output."
   ]
  },
  {
   "cell_type": "code",
   "execution_count": 7,
   "id": "9de3e397",
   "metadata": {},
   "outputs": [
    {
     "name": "stdout",
     "output_type": "stream",
     "text": [
      "b'' <class 'bytes'>\n"
     ]
    }
   ],
   "source": [
    "# Code cell 7\n",
    "print(process_output, type(process_output))"
   ]
  },
  {
   "cell_type": "markdown",
   "id": "f3604f00",
   "metadata": {},
   "source": [
    "c) El resultado de la prueba de velocidad se divide, y una marca de hora se adjunta a los resultados."
   ]
  },
  {
   "cell_type": "code",
   "execution_count": 8,
   "id": "cb9dfe17",
   "metadata": {},
   "outputs": [
    {
     "name": "stdout",
     "output_type": "stream",
     "text": [
      "['2022-09-28 13:14:30'] <class 'list'>\n"
     ]
    }
   ],
   "source": [
    "# Code cell 8\n",
    "# Store the time at which the speedtest was executed\n",
    "date_time = datetime.datetime.now().strftime(\"%Y-%m-%d %H:%M:%S\")\n",
    "process_output = process_output.split()\n",
    "process_output.append(date_time)\n",
    "print(process_output, type(process_output))"
   ]
  },
  {
   "cell_type": "markdown",
   "id": "c0ac8171",
   "metadata": {},
   "source": [
    "d) La función speedtest() se crea para devolver los resultados del comando speedtest-cli."
   ]
  },
  {
   "cell_type": "code",
   "execution_count": 9,
   "id": "2bd9c58d",
   "metadata": {},
   "outputs": [],
   "source": [
    "# Code cell 9\n",
    "# function to excute the speed test\n",
    "def speedtest():\n",
    "    # We need to store the time at which the speedtest was executed\n",
    "    date_time = datetime.datetime.now().strftime(\"%Y-%m-%d %H:%M:%S\")\n",
    "    # This is a string that contains what we would write on the command line \n",
    "    #to interface with speedtest.net\n",
    "    speedtest_cmd = \"speedtest-cli --simple\"\n",
    "    # We now execute the process: \n",
    "    process = subprocess.Popen(speedtest_cmd.split(), stdout=subprocess.PIPE)\n",
    "    process_output = process.communicate()[0]\n",
    "    process_output = process_output.split()\n",
    "    # and we add the date and time \n",
    "    process_output.append(date_time)\n",
    "    return process_output"
   ]
  },
  {
   "cell_type": "markdown",
   "id": "94535781",
   "metadata": {},
   "source": [
    "¿Qué devuelve la función speedtest()? ¿Cuál es el código para ver resultados de la función speedtest()?\n",
    "\n",
    "Escriba la respuesta aquí"
   ]
  },
  {
   "cell_type": "code",
   "execution_count": 10,
   "id": "5529cb6b",
   "metadata": {},
   "outputs": [
    {
     "data": {
      "text/plain": [
       "['2022-09-28 13:14:30']"
      ]
     },
     "execution_count": 10,
     "metadata": {},
     "output_type": "execute_result"
    }
   ],
   "source": [
    "# Code cell 10\n",
    "# Code to view the results from speedtest() function\n",
    "process_output"
   ]
  },
  {
   "cell_type": "markdown",
   "id": "567d7e5d",
   "metadata": {},
   "source": [
    "### Paso 4: Guarde la salida de la función speedtest().\n",
    "Los valores separados por comas (csv) son el formato de importación y exportación más común para las hojas de cálculo y las bases de datos. Para obtener más información sobre el trabajo con los csv en Python, navegue a https://docs.python.org/2/library/csv.html.\n",
    "\n",
    "a) Cree un archivo denominado test.txt en el directorio /tmp y escriba \"test_msg\" en el archivo."
   ]
  },
  {
   "cell_type": "code",
   "execution_count": 11,
   "id": "ff5c6a8f",
   "metadata": {},
   "outputs": [],
   "source": [
    "# Code cell 11\n",
    "with open(\"test.txt\",'w') as f:\n",
    "    f.write('test_msg')"
   ]
  },
  {
   "cell_type": "markdown",
   "id": "b4dd4602",
   "metadata": {},
   "source": [
    "b) Use el comando de Linux cat para verificar la creación y el contenido del archivo."
   ]
  },
  {
   "cell_type": "code",
   "execution_count": 12,
   "id": "36be0f24",
   "metadata": {},
   "outputs": [
    {
     "name": "stderr",
     "output_type": "stream",
     "text": [
      "\"cat\" no se reconoce como un comando interno o externo,\n",
      "programa o archivo por lotes ejecutable.\n"
     ]
    }
   ],
   "source": [
    "# Code cell 12\n",
    "!cat /tmp/test.txt"
   ]
  },
  {
   "cell_type": "markdown",
   "id": "2cf169c3",
   "metadata": {},
   "source": [
    "c) Para verificar que el archivo se haya abierto correctamente:"
   ]
  },
  {
   "cell_type": "code",
   "execution_count": 13,
   "id": "37097509",
   "metadata": {},
   "outputs": [
    {
     "name": "stdout",
     "output_type": "stream",
     "text": [
      "test_msg\n"
     ]
    }
   ],
   "source": [
    "# Code cell 13\n",
    "with open(\"test.txt\",'r') as f:\n",
    "    str = f.read()\n",
    "print(str)"
   ]
  },
  {
   "cell_type": "markdown",
   "id": "6c427569",
   "metadata": {},
   "source": [
    "d) La comprensión del significado de la declaración with, especialmente en combinación con try y except no es necesaria para el resto de esta práctica de laboratorio, pero un recurso útil sobre esto es http://effbot.org/zone/python-with-statement.htm.\n",
    "\n",
    "Para escribir en el archivo CSV, es necesario crear un objeto csv.writer. Marque https://docs.python.org/2/library/csv.html y descubra qué función del objeto “csv.writer” se puede utilizar para agregar una fila al archivo csv."
   ]
  },
  {
   "cell_type": "code",
   "execution_count": 14,
   "id": "d0189c8a",
   "metadata": {},
   "outputs": [],
   "source": [
    "# Code cell 14\n",
    "# Function to save data to csv\n",
    "def save_to_csv(data, filename):\n",
    "    try:\n",
    "        # If the file exists, append a new line to it, with the \n",
    "        #results of the current experiment\n",
    "        with open(filename + '.csv', 'a') as f:\n",
    "            # Create a csv writer object \n",
    "            wr = csv.writer(f)\n",
    "            # Save (write) to file\n",
    "            wr.writerow(data)\n",
    "    except:\n",
    "        # If it does not exist, create the file first\n",
    "        with open(filename + '.csv', 'w') as f:\n",
    "            # Hint: This is similar to appending new lines to a file.\n",
    "            # Create a csv writer object\n",
    "            # ADD CODE HERE\n",
    "            # Save (write) to file\n",
    "            # ADD CODE HERE\n",
    "            \n",
    "            wr= csv.writee(f)\n",
    "            \n",
    "            wr.writerow(data)"
   ]
  },
  {
   "cell_type": "markdown",
   "id": "85ffa83d",
   "metadata": {},
   "source": [
    "### Paso 5: Verifique los datos recolectados.\n",
    "Escriba una función para abrir un archivo csv e imprima su contenido en la pantalla. Puede encontrar un ejemplo en la sección 13.1.5 de https://docs.python.org/2/library/csv.html"
   ]
  },
  {
   "cell_type": "code",
   "execution_count": 15,
   "id": "b7f5423c",
   "metadata": {},
   "outputs": [],
   "source": [
    "# Code cell 15\n",
    "def print_from_csv(filename): \n",
    "    with open(filename + '.csv', 'r') as f:\n",
    "        re = csv.read(f)\n",
    "        # 1. Loop over the rows\n",
    "        for row in re:    \n",
    "            # 2. print     \n",
    "            print(' '.join(row))"
   ]
  },
  {
   "cell_type": "markdown",
   "id": "cf32d833",
   "metadata": {},
   "source": [
    "En este momento, todas las funciones necesarias para recopilar y almacenar los datos de la velocidad de Internet han finalizado.\n",
    "\n",
    "### Paso 6: Ejecute varias veces Speedtest y guarde los datos.\n",
    "a) Escriba un bucle for que ejecute speedtest 5 veces, imprima la salida de las pruebas y guarde los datos en un archivo csv."
   ]
  },
  {
   "cell_type": "code",
   "execution_count": 16,
   "id": "586720ea",
   "metadata": {},
   "outputs": [
    {
     "name": "stdout",
     "output_type": "stream",
     "text": [
      "Test number 0\n",
      "Test number 1\n",
      "Test number 2\n",
      "Test number 3\n",
      "Test number 4\n"
     ]
    }
   ],
   "source": [
    "# Code cell 16\n",
    "for i in range(5):\n",
    "    # Measure internet speed (speedtest_output) using the speedtest() created earlier\n",
    "    speedtest_output = speedtest()\n",
    "    # Print the test number\n",
    "    print ('Test number {}'.format(i))\n",
    "    # Print the result (The needed variable is speedtest_output)\n",
    "    # ADD CODE HERE for printing the results\n",
    "    save_to_csv(speedtest_output, 'rpi_data_test')"
   ]
  },
  {
   "cell_type": "markdown",
   "id": "86f31ce9",
   "metadata": {},
   "source": [
    "b) Muestre el archivo para verificar que los datos se hayan guardado correctamente."
   ]
  },
  {
   "cell_type": "code",
   "execution_count": 17,
   "id": "21a19f35",
   "metadata": {},
   "outputs": [
    {
     "ename": "AttributeError",
     "evalue": "module 'csv' has no attribute 'read'",
     "output_type": "error",
     "traceback": [
      "\u001b[1;31m---------------------------------------------------------------------------\u001b[0m",
      "\u001b[1;31mAttributeError\u001b[0m                            Traceback (most recent call last)",
      "Input \u001b[1;32mIn [17]\u001b[0m, in \u001b[0;36m<cell line: 2>\u001b[1;34m()\u001b[0m\n\u001b[0;32m      1\u001b[0m \u001b[38;5;66;03m# Code cell 17\u001b[39;00m\n\u001b[1;32m----> 2\u001b[0m \u001b[43mprint_from_csv\u001b[49m\u001b[43m(\u001b[49m\u001b[38;5;124;43m'\u001b[39;49m\u001b[38;5;124;43mrpi_data_test\u001b[39;49m\u001b[38;5;124;43m'\u001b[39;49m\u001b[43m)\u001b[49m\n",
      "Input \u001b[1;32mIn [15]\u001b[0m, in \u001b[0;36mprint_from_csv\u001b[1;34m(filename)\u001b[0m\n\u001b[0;32m      2\u001b[0m \u001b[38;5;28;01mdef\u001b[39;00m \u001b[38;5;21mprint_from_csv\u001b[39m(filename): \n\u001b[0;32m      3\u001b[0m     \u001b[38;5;28;01mwith\u001b[39;00m \u001b[38;5;28mopen\u001b[39m(filename \u001b[38;5;241m+\u001b[39m \u001b[38;5;124m'\u001b[39m\u001b[38;5;124m.csv\u001b[39m\u001b[38;5;124m'\u001b[39m, \u001b[38;5;124m'\u001b[39m\u001b[38;5;124mr\u001b[39m\u001b[38;5;124m'\u001b[39m) \u001b[38;5;28;01mas\u001b[39;00m f:\n\u001b[1;32m----> 4\u001b[0m         re \u001b[38;5;241m=\u001b[39m \u001b[43mcsv\u001b[49m\u001b[38;5;241;43m.\u001b[39;49m\u001b[43mread\u001b[49m(f)\n\u001b[0;32m      5\u001b[0m         \u001b[38;5;66;03m# 1. Loop over the rows\u001b[39;00m\n\u001b[0;32m      6\u001b[0m         \u001b[38;5;28;01mfor\u001b[39;00m row \u001b[38;5;129;01min\u001b[39;00m re:    \n\u001b[0;32m      7\u001b[0m             \u001b[38;5;66;03m# 2. print     \u001b[39;00m\n",
      "\u001b[1;31mAttributeError\u001b[0m: module 'csv' has no attribute 'read'"
     ]
    }
   ],
   "source": [
    "# Code cell 17\n",
    "print_from_csv('rpi_data_test')"
   ]
  },
  {
   "cell_type": "markdown",
   "id": "33e2e98d",
   "metadata": {},
   "source": [
    "Si un conjunto de datos más grande es necesario, speedtest puede ejecutarse en segundo plano para más muestras.\n",
    "\n",
    "¿Cómo cambiaría el código si quisiera ejecutar el código 100 veces?\n",
    "\n",
    "Escriba la respuesta aquí"
   ]
  },
  {
   "cell_type": "code",
   "execution_count": 18,
   "id": "462c17c7",
   "metadata": {},
   "outputs": [],
   "source": [
    "# Code cell 18\n",
    "# Code to run 100 times\n",
    "# for i in xrange(100):\n",
    "#     speedtest_output = speedtest()\n",
    "#     print 'Test number: {}'.format(i)\n",
    "#     print speedtest_output\n",
    "#     save_to_csv(speedtest_output, '/tmp/rpi_data')"
   ]
  },
  {
   "cell_type": "markdown",
   "id": "46847da2",
   "metadata": {},
   "source": [
    "## Parte 2: Manipule los datos\n",
    "Los pandas de la biblioteca de Python son muy útiles para trabajar con datos estructurados. La documentación completa se encuentra aquí: http://pandas.pydata.org/pandas-docs/version/0.14.1/</font>\n",
    "\n",
    "Se utilizará un conjunto de datos más grande recopilado de antemano para esta parte de la práctica de laboratorio. El nombre de archivo es rpi_data_long.csv.\n",
    "\n",
    "### Paso 1: Importe las bibliotecas de Python.\n",
    "Importe los pandas y otras bibliotecas utilizadas para las siguientes tareas."
   ]
  },
  {
   "cell_type": "code",
   "execution_count": 19,
   "id": "5da49011",
   "metadata": {},
   "outputs": [],
   "source": [
    "# Code cell 19\n",
    "import datetime\n",
    "import csv\n",
    "import pandas as pd\n",
    "# NumPy is a library that adds support for large, multi-dimensional arrays and matrices\n",
    "# along with high-level mathematical functions to operate on these arrays\n",
    "import numpy as np"
   ]
  },
  {
   "cell_type": "markdown",
   "id": "e0ff2f0f",
   "metadata": {},
   "source": [
    "### Paso 2: Cargue el archivo csv en un objeto del marco de datos mediante pandas.\n",
    "Un marco de datos de pandas es una estructura de datos etiquetada de 2 dimensiones con columnas potencialmente de diferentes tipos. Puede verlo como una hoja de cálculo o una tabla de SQL. La función de la biblioteca de pandas read_csv convierte automáticamente un archivo csv en un objeto del marco de datos.\n",
    "\n",
    "Lea la documentación de read_csv en http://pandas.pydata.org/pandas-docs/version/0.14.1/generated/pandas.read_csv.html. Esta función contiene muchos parámetros. El único no opcional es filepath, es decir, la ubicación del archivo csv. Todos los demás parámetros son opcionales.\n",
    "\n",
    "En este paso, importará y verá el contenido del archivo csv, rpi_data_long.csv. Esto archivo csv se encuentra en el mismo directorio que esta notebook de Jupyter.\n",
    "\n",
    "a) Asigne el archivo rpi_data_long.csv a la variable data_file."
   ]
  },
  {
   "cell_type": "code",
   "execution_count": 20,
   "id": "289d9849",
   "metadata": {},
   "outputs": [],
   "source": [
    "# Code cell 20\n",
    "data_file = './Data/rpi_data_long.csv'"
   ]
  },
  {
   "cell_type": "markdown",
   "id": "ee2c6c3d",
   "metadata": {},
   "source": [
    "b) Utilice el comando head de Linux para ver las primeras 10 líneas del archivo csv."
   ]
  },
  {
   "cell_type": "code",
   "execution_count": 21,
   "id": "1f019670",
   "metadata": {},
   "outputs": [
    {
     "name": "stderr",
     "output_type": "stream",
     "text": [
      "\"head\" no se reconoce como un comando interno o externo,\n",
      "programa o archivo por lotes ejecutable.\n"
     ]
    }
   ],
   "source": [
    "# Code cell 21\n",
    "!head -n 5 ./Data/rpi_data_long.csv"
   ]
  },
  {
   "cell_type": "markdown",
   "id": "21c21ec0",
   "metadata": {},
   "source": [
    "c) Utilice el parámetro names de la función read_csv para especificar el nombre de las columnas del marco de datos."
   ]
  },
  {
   "cell_type": "code",
   "execution_count": 22,
   "id": "02c18fbb",
   "metadata": {},
   "outputs": [],
   "source": [
    "# Code cell 22\n",
    "column_names = [ 'Type A', 'Measure A', 'Units A',\n",
    "                 'Type B', 'Measure B', 'Units B',\n",
    "                 'Type C', 'Measure C', 'Units C', \n",
    "                 'Datetime']"
   ]
  },
  {
   "cell_type": "markdown",
   "id": "b219865c",
   "metadata": {},
   "source": [
    "d) Utilice la función read_csv para leer de data_file y asigne column_names como los nombres de columna en el marco de datos."
   ]
  },
  {
   "cell_type": "code",
   "execution_count": 23,
   "id": "d12402fb",
   "metadata": {},
   "outputs": [],
   "source": [
    "# Code cell 23\n",
    "with open(data_file, 'r') as f:\n",
    "    df_redundant = pd.read_csv(f, names = column_names)"
   ]
  },
  {
   "cell_type": "markdown",
   "id": "4b02ee02",
   "metadata": {},
   "source": [
    "e) El comando head() muestra las primeras filas del marco de datos."
   ]
  },
  {
   "cell_type": "code",
   "execution_count": 24,
   "id": "d638398e",
   "metadata": {},
   "outputs": [
    {
     "data": {
      "text/html": [
       "<div>\n",
       "<style scoped>\n",
       "    .dataframe tbody tr th:only-of-type {\n",
       "        vertical-align: middle;\n",
       "    }\n",
       "\n",
       "    .dataframe tbody tr th {\n",
       "        vertical-align: top;\n",
       "    }\n",
       "\n",
       "    .dataframe thead th {\n",
       "        text-align: right;\n",
       "    }\n",
       "</style>\n",
       "<table border=\"1\" class=\"dataframe\">\n",
       "  <thead>\n",
       "    <tr style=\"text-align: right;\">\n",
       "      <th></th>\n",
       "      <th>Type A</th>\n",
       "      <th>Measure A</th>\n",
       "      <th>Units A</th>\n",
       "      <th>Type B</th>\n",
       "      <th>Measure B</th>\n",
       "      <th>Units B</th>\n",
       "      <th>Type C</th>\n",
       "      <th>Measure C</th>\n",
       "      <th>Units C</th>\n",
       "      <th>Datetime</th>\n",
       "    </tr>\n",
       "  </thead>\n",
       "  <tbody>\n",
       "    <tr>\n",
       "      <th>0</th>\n",
       "      <td>Ping:</td>\n",
       "      <td>26.992</td>\n",
       "      <td>ms</td>\n",
       "      <td>Download:</td>\n",
       "      <td>91.80</td>\n",
       "      <td>Mbit/s</td>\n",
       "      <td>Upload:</td>\n",
       "      <td>14.31</td>\n",
       "      <td>Mbit/s</td>\n",
       "      <td>2016-11-24 13:36:25</td>\n",
       "    </tr>\n",
       "    <tr>\n",
       "      <th>1</th>\n",
       "      <td>Ping:</td>\n",
       "      <td>24.532</td>\n",
       "      <td>ms</td>\n",
       "      <td>Download:</td>\n",
       "      <td>88.19</td>\n",
       "      <td>Mbit/s</td>\n",
       "      <td>Upload:</td>\n",
       "      <td>14.12</td>\n",
       "      <td>Mbit/s</td>\n",
       "      <td>2016-11-24 13:36:55</td>\n",
       "    </tr>\n",
       "    <tr>\n",
       "      <th>2</th>\n",
       "      <td>Ping:</td>\n",
       "      <td>20.225</td>\n",
       "      <td>ms</td>\n",
       "      <td>Download:</td>\n",
       "      <td>59.86</td>\n",
       "      <td>Mbit/s</td>\n",
       "      <td>Upload:</td>\n",
       "      <td>14.11</td>\n",
       "      <td>Mbit/s</td>\n",
       "      <td>2016-11-24 13:37:25</td>\n",
       "    </tr>\n",
       "    <tr>\n",
       "      <th>3</th>\n",
       "      <td>Ping:</td>\n",
       "      <td>19.332</td>\n",
       "      <td>ms</td>\n",
       "      <td>Download:</td>\n",
       "      <td>91.81</td>\n",
       "      <td>Mbit/s</td>\n",
       "      <td>Upload:</td>\n",
       "      <td>14.22</td>\n",
       "      <td>Mbit/s</td>\n",
       "      <td>2016-11-24 13:37:57</td>\n",
       "    </tr>\n",
       "    <tr>\n",
       "      <th>4</th>\n",
       "      <td>Ping:</td>\n",
       "      <td>22.494</td>\n",
       "      <td>ms</td>\n",
       "      <td>Download:</td>\n",
       "      <td>92.05</td>\n",
       "      <td>Mbit/s</td>\n",
       "      <td>Upload:</td>\n",
       "      <td>14.08</td>\n",
       "      <td>Mbit/s</td>\n",
       "      <td>2016-11-24 13:38:27</td>\n",
       "    </tr>\n",
       "  </tbody>\n",
       "</table>\n",
       "</div>"
      ],
      "text/plain": [
       "  Type A Measure A Units A     Type B Measure B Units B   Type C  Measure C  \\\n",
       "0  Ping:    26.992      ms  Download:     91.80  Mbit/s  Upload:      14.31   \n",
       "1  Ping:    24.532      ms  Download:     88.19  Mbit/s  Upload:      14.12   \n",
       "2  Ping:    20.225      ms  Download:     59.86  Mbit/s  Upload:      14.11   \n",
       "3  Ping:    19.332      ms  Download:     91.81  Mbit/s  Upload:      14.22   \n",
       "4  Ping:    22.494      ms  Download:     92.05  Mbit/s  Upload:      14.08   \n",
       "\n",
       "  Units C             Datetime  \n",
       "0  Mbit/s  2016-11-24 13:36:25  \n",
       "1  Mbit/s  2016-11-24 13:36:55  \n",
       "2  Mbit/s  2016-11-24 13:37:25  \n",
       "3  Mbit/s  2016-11-24 13:37:57  \n",
       "4  Mbit/s  2016-11-24 13:38:27  "
      ]
     },
     "execution_count": 24,
     "metadata": {},
     "output_type": "execute_result"
    }
   ],
   "source": [
    "# Code cell 24\n",
    "# You can specify the number of rows you want to print to screen: \n",
    "# you do so passing the number as an argument to the function\n",
    "# (e.g., head(10))\n",
    "df_redundant.head()"
   ]
  },
  {
   "cell_type": "markdown",
   "id": "1d77d1ce",
   "metadata": {},
   "source": [
    "¿Cuál es el código para leer las primeras 20 líneas del archivo csv?\n",
    "\n",
    "Escriba la respuesta aquí\n",
    "\n",
    "### Paso 3: Cree una representación concisa.\n",
    "En este paso, creará una representación más compacta mediante una copia del marco de datos df_redundant.\n",
    "\n",
    "a) Copie df_redundant en otro marco de datos llamado df_compact mediante copy()."
   ]
  },
  {
   "cell_type": "code",
   "execution_count": 25,
   "id": "9b1a341a",
   "metadata": {},
   "outputs": [],
   "source": [
    "# Code cell 25\n",
    "df_compact = df_redundant.copy()"
   ]
  },
  {
   "cell_type": "markdown",
   "id": "505453c0",
   "metadata": {},
   "source": [
    "b) Cambie el nombre de las columnas en relación con las medidas como se muestra:\n",
    "\n",
    "Measure A -> Ping (ms)\n",
    "Measure B -> Download (Mbit/s)\n",
    "Measure C -> Upload (Mbit/s)"
   ]
  },
  {
   "cell_type": "code",
   "execution_count": 26,
   "id": "90acebe3",
   "metadata": {},
   "outputs": [
    {
     "data": {
      "text/html": [
       "<div>\n",
       "<style scoped>\n",
       "    .dataframe tbody tr th:only-of-type {\n",
       "        vertical-align: middle;\n",
       "    }\n",
       "\n",
       "    .dataframe tbody tr th {\n",
       "        vertical-align: top;\n",
       "    }\n",
       "\n",
       "    .dataframe thead th {\n",
       "        text-align: right;\n",
       "    }\n",
       "</style>\n",
       "<table border=\"1\" class=\"dataframe\">\n",
       "  <thead>\n",
       "    <tr style=\"text-align: right;\">\n",
       "      <th></th>\n",
       "      <th>Type A</th>\n",
       "      <th>Ping (ms)</th>\n",
       "      <th>Units A</th>\n",
       "      <th>Type B</th>\n",
       "      <th>Download (Mbit/s)</th>\n",
       "      <th>Units B</th>\n",
       "      <th>Type C</th>\n",
       "      <th>Upload (Mbit/s)</th>\n",
       "      <th>Units C</th>\n",
       "      <th>Datetime</th>\n",
       "    </tr>\n",
       "  </thead>\n",
       "  <tbody>\n",
       "    <tr>\n",
       "      <th>0</th>\n",
       "      <td>Ping:</td>\n",
       "      <td>26.992</td>\n",
       "      <td>ms</td>\n",
       "      <td>Download:</td>\n",
       "      <td>91.80</td>\n",
       "      <td>Mbit/s</td>\n",
       "      <td>Upload:</td>\n",
       "      <td>14.31</td>\n",
       "      <td>Mbit/s</td>\n",
       "      <td>2016-11-24 13:36:25</td>\n",
       "    </tr>\n",
       "    <tr>\n",
       "      <th>1</th>\n",
       "      <td>Ping:</td>\n",
       "      <td>24.532</td>\n",
       "      <td>ms</td>\n",
       "      <td>Download:</td>\n",
       "      <td>88.19</td>\n",
       "      <td>Mbit/s</td>\n",
       "      <td>Upload:</td>\n",
       "      <td>14.12</td>\n",
       "      <td>Mbit/s</td>\n",
       "      <td>2016-11-24 13:36:55</td>\n",
       "    </tr>\n",
       "    <tr>\n",
       "      <th>2</th>\n",
       "      <td>Ping:</td>\n",
       "      <td>20.225</td>\n",
       "      <td>ms</td>\n",
       "      <td>Download:</td>\n",
       "      <td>59.86</td>\n",
       "      <td>Mbit/s</td>\n",
       "      <td>Upload:</td>\n",
       "      <td>14.11</td>\n",
       "      <td>Mbit/s</td>\n",
       "      <td>2016-11-24 13:37:25</td>\n",
       "    </tr>\n",
       "  </tbody>\n",
       "</table>\n",
       "</div>"
      ],
      "text/plain": [
       "  Type A Ping (ms) Units A     Type B Download (Mbit/s) Units B   Type C  \\\n",
       "0  Ping:    26.992      ms  Download:             91.80  Mbit/s  Upload:   \n",
       "1  Ping:    24.532      ms  Download:             88.19  Mbit/s  Upload:   \n",
       "2  Ping:    20.225      ms  Download:             59.86  Mbit/s  Upload:   \n",
       "\n",
       "   Upload (Mbit/s) Units C             Datetime  \n",
       "0            14.31  Mbit/s  2016-11-24 13:36:25  \n",
       "1            14.12  Mbit/s  2016-11-24 13:36:55  \n",
       "2            14.11  Mbit/s  2016-11-24 13:37:25  "
      ]
     },
     "execution_count": 26,
     "metadata": {},
     "output_type": "execute_result"
    }
   ],
   "source": [
    "# Code cell 26\n",
    "df_compact.rename(columns={'Measure A':'Ping (ms)', \n",
    "                           'Measure B': 'Download (Mbit/s)',\n",
    "                           'Measure C': 'Upload (Mbit/s)'}, inplace=True)\n",
    "df_compact.head(3)"
   ]
  },
  {
   "cell_type": "markdown",
   "id": "862ac376",
   "metadata": {},
   "source": [
    "c) Como las columnas de los tipos y las unidades ya no son necesarias, estas columnas pueden descartarse."
   ]
  },
  {
   "cell_type": "code",
   "execution_count": 27,
   "id": "e2a6a4ad",
   "metadata": {},
   "outputs": [
    {
     "data": {
      "text/html": [
       "<div>\n",
       "<style scoped>\n",
       "    .dataframe tbody tr th:only-of-type {\n",
       "        vertical-align: middle;\n",
       "    }\n",
       "\n",
       "    .dataframe tbody tr th {\n",
       "        vertical-align: top;\n",
       "    }\n",
       "\n",
       "    .dataframe thead th {\n",
       "        text-align: right;\n",
       "    }\n",
       "</style>\n",
       "<table border=\"1\" class=\"dataframe\">\n",
       "  <thead>\n",
       "    <tr style=\"text-align: right;\">\n",
       "      <th></th>\n",
       "      <th>Ping (ms)</th>\n",
       "      <th>Download (Mbit/s)</th>\n",
       "      <th>Upload (Mbit/s)</th>\n",
       "      <th>Datetime</th>\n",
       "    </tr>\n",
       "  </thead>\n",
       "  <tbody>\n",
       "    <tr>\n",
       "      <th>0</th>\n",
       "      <td>26.992</td>\n",
       "      <td>91.80</td>\n",
       "      <td>14.31</td>\n",
       "      <td>2016-11-24 13:36:25</td>\n",
       "    </tr>\n",
       "    <tr>\n",
       "      <th>1</th>\n",
       "      <td>24.532</td>\n",
       "      <td>88.19</td>\n",
       "      <td>14.12</td>\n",
       "      <td>2016-11-24 13:36:55</td>\n",
       "    </tr>\n",
       "    <tr>\n",
       "      <th>2</th>\n",
       "      <td>20.225</td>\n",
       "      <td>59.86</td>\n",
       "      <td>14.11</td>\n",
       "      <td>2016-11-24 13:37:25</td>\n",
       "    </tr>\n",
       "    <tr>\n",
       "      <th>3</th>\n",
       "      <td>19.332</td>\n",
       "      <td>91.81</td>\n",
       "      <td>14.22</td>\n",
       "      <td>2016-11-24 13:37:57</td>\n",
       "    </tr>\n",
       "    <tr>\n",
       "      <th>4</th>\n",
       "      <td>22.494</td>\n",
       "      <td>92.05</td>\n",
       "      <td>14.08</td>\n",
       "      <td>2016-11-24 13:38:27</td>\n",
       "    </tr>\n",
       "  </tbody>\n",
       "</table>\n",
       "</div>"
      ],
      "text/plain": [
       "  Ping (ms) Download (Mbit/s)  Upload (Mbit/s)             Datetime\n",
       "0    26.992             91.80            14.31  2016-11-24 13:36:25\n",
       "1    24.532             88.19            14.12  2016-11-24 13:36:55\n",
       "2    20.225             59.86            14.11  2016-11-24 13:37:25\n",
       "3    19.332             91.81            14.22  2016-11-24 13:37:57\n",
       "4    22.494             92.05            14.08  2016-11-24 13:38:27"
      ]
     },
     "execution_count": 27,
     "metadata": {},
     "output_type": "execute_result"
    }
   ],
   "source": [
    "# Code cell 27\n",
    "df_compact.drop(['Type A', 'Type B', 'Type C',\n",
    "         'Units A', 'Units B', 'Units C'], axis=1, inplace=True)\n",
    "df_compact.head()"
   ]
  },
  {
   "cell_type": "markdown",
   "id": "79a2957f",
   "metadata": {},
   "source": [
    "En la tabla anterior, el campo Datetime es una cadena. Los pandas y Python ofrecen varias operaciones para trabajar con la fecha y la hora que pueden ser muy útiles.\n",
    "\n",
    "En el siguiente paso, la cadena de la columna Datetime se separará en dos columnas nuevas.\n",
    "\n",
    "### Paso 4: Separe los datos en dos columnas.\n",
    "En este paso, utilizará los pandas para generar las columnas Date y Time a partir de la columna Datetime y luego descartará la columna Datetime.\n",
    "\n",
    "Se utiliza la función lambda para crear dos funciones anónimas que recuperen sólo la fecha y la hora de un objeto datetime, respectivamente. Luego utilice la función de los pandas apply para aplicar esta función a una columna completa (en la práctica, apply implícitamente define un bucle for y pasa las filas una por una en nuestra función lambda). Guarde el resultado de las funciones apply en dos nuevas columnas del marco de datos.\n",
    "\n",
    "a) Aplique la función lambda para iterar a través del marco de datos y dividir la fecha de la columna Datetime."
   ]
  },
  {
   "cell_type": "code",
   "execution_count": 28,
   "id": "c0bcc3f4",
   "metadata": {},
   "outputs": [],
   "source": [
    "# Code cell 28\n",
    "df_compact['Date'] = df_compact['Datetime'].apply(lambda dt_str: pd.to_datetime(dt_str).date())"
   ]
  },
  {
   "cell_type": "markdown",
   "id": "529fabb0",
   "metadata": {},
   "source": [
    "b) Repita el paso a para dividir la hora de la columna Datetime."
   ]
  },
  {
   "cell_type": "code",
   "execution_count": 29,
   "id": "ab930cbe",
   "metadata": {},
   "outputs": [],
   "source": [
    "# Code cell 29\n",
    "temp = df_compact['Datetime'].apply(lambda dt_str: pd.to_datetime(dt_str))\n",
    "df_compact['Time'] = temp.dt.time"
   ]
  },
  {
   "cell_type": "markdown",
   "id": "10c47919",
   "metadata": {},
   "source": [
    "c) Toda la información de la columna Datetime se ha copiado ahora a las columnas Date y Time. La columna Datetime carece de propósito. La columna Datetime se puede descartar del marco de datos.\n",
    "\n",
    "Ingrese el código para descartar la columna Datetime en la celda a continuación."
   ]
  },
  {
   "cell_type": "code",
   "execution_count": 30,
   "id": "39513cce",
   "metadata": {},
   "outputs": [
    {
     "data": {
      "text/plain": [
       "Index(['Ping (ms)', 'Download (Mbit/s)', 'Upload (Mbit/s)', 'Date', 'Time'], dtype='object')"
      ]
     },
     "execution_count": 30,
     "metadata": {},
     "output_type": "execute_result"
    }
   ],
   "source": [
    "# Code cell 30\n",
    "df_compact.columns\n",
    "df_compact.drop('Datetime', axis=1, inplace=True)\n",
    "df_compact.columns"
   ]
  },
  {
   "cell_type": "markdown",
   "id": "9ca82145",
   "metadata": {},
   "source": [
    "Ingrese el código para imprimir las primeras 3 filas del marco de datos para verificar los cambios."
   ]
  },
  {
   "cell_type": "code",
   "execution_count": 31,
   "id": "bd779916",
   "metadata": {},
   "outputs": [
    {
     "data": {
      "text/html": [
       "<div>\n",
       "<style scoped>\n",
       "    .dataframe tbody tr th:only-of-type {\n",
       "        vertical-align: middle;\n",
       "    }\n",
       "\n",
       "    .dataframe tbody tr th {\n",
       "        vertical-align: top;\n",
       "    }\n",
       "\n",
       "    .dataframe thead th {\n",
       "        text-align: right;\n",
       "    }\n",
       "</style>\n",
       "<table border=\"1\" class=\"dataframe\">\n",
       "  <thead>\n",
       "    <tr style=\"text-align: right;\">\n",
       "      <th></th>\n",
       "      <th>Ping (ms)</th>\n",
       "      <th>Download (Mbit/s)</th>\n",
       "      <th>Upload (Mbit/s)</th>\n",
       "      <th>Date</th>\n",
       "      <th>Time</th>\n",
       "    </tr>\n",
       "  </thead>\n",
       "  <tbody>\n",
       "    <tr>\n",
       "      <th>0</th>\n",
       "      <td>26.992</td>\n",
       "      <td>91.80</td>\n",
       "      <td>14.31</td>\n",
       "      <td>2016-11-24</td>\n",
       "      <td>13:36:25</td>\n",
       "    </tr>\n",
       "    <tr>\n",
       "      <th>1</th>\n",
       "      <td>24.532</td>\n",
       "      <td>88.19</td>\n",
       "      <td>14.12</td>\n",
       "      <td>2016-11-24</td>\n",
       "      <td>13:36:55</td>\n",
       "    </tr>\n",
       "    <tr>\n",
       "      <th>2</th>\n",
       "      <td>20.225</td>\n",
       "      <td>59.86</td>\n",
       "      <td>14.11</td>\n",
       "      <td>2016-11-24</td>\n",
       "      <td>13:37:25</td>\n",
       "    </tr>\n",
       "  </tbody>\n",
       "</table>\n",
       "</div>"
      ],
      "text/plain": [
       "  Ping (ms) Download (Mbit/s)  Upload (Mbit/s)        Date      Time\n",
       "0    26.992             91.80            14.31  2016-11-24  13:36:25\n",
       "1    24.532             88.19            14.12  2016-11-24  13:36:55\n",
       "2    20.225             59.86            14.11  2016-11-24  13:37:25"
      ]
     },
     "execution_count": 31,
     "metadata": {},
     "output_type": "execute_result"
    }
   ],
   "source": [
    "# Code cell 31\n",
    "df_compact.head(3)"
   ]
  },
  {
   "cell_type": "markdown",
   "id": "a9795480",
   "metadata": {},
   "source": [
    "d) Utilice la función type para imprimir el tipo de variable de los valores en las columnas Date y Time."
   ]
  },
  {
   "cell_type": "code",
   "execution_count": 32,
   "id": "89667279",
   "metadata": {},
   "outputs": [
    {
     "name": "stdout",
     "output_type": "stream",
     "text": [
      "2016-11-24 <class 'datetime.date'>\n",
      "13:36:25 <class 'datetime.time'>\n"
     ]
    }
   ],
   "source": [
    "# Code cell 32\n",
    "print(df_compact['Date'][0], type(df_compact['Date'][0]) )\n",
    "print(df_compact['Time'][0], type(df_compact['Time'][0]) )"
   ]
  },
  {
   "cell_type": "markdown",
   "id": "4c863af3",
   "metadata": {},
   "source": [
    "### Paso 5: Guarde el nuevo marco de datos.\n",
    "Guarde el marco de datos de pandas df_compact como un archivo csv en rpi_data_compact.csv."
   ]
  },
  {
   "cell_type": "code",
   "execution_count": 33,
   "id": "f2e4bdfd",
   "metadata": {},
   "outputs": [],
   "source": [
    "# Code cell 33\n",
    "df_compact.to_csv('./Data/rpi_data_compact.csv')"
   ]
  },
  {
   "cell_type": "code",
   "execution_count": null,
   "id": "eff1838c",
   "metadata": {},
   "outputs": [],
   "source": []
  }
 ],
 "metadata": {
  "kernelspec": {
   "display_name": "Python 3 (ipykernel)",
   "language": "python",
   "name": "python3"
  },
  "language_info": {
   "codemirror_mode": {
    "name": "ipython",
    "version": 3
   },
   "file_extension": ".py",
   "mimetype": "text/x-python",
   "name": "python",
   "nbconvert_exporter": "python",
   "pygments_lexer": "ipython3",
   "version": "3.9.12"
  }
 },
 "nbformat": 4,
 "nbformat_minor": 5
}
