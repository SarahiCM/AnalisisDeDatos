{
 "cells": [
  {
   "cell_type": "code",
   "execution_count": null,
   "id": "a146be3d",
   "metadata": {},
   "outputs": [],
   "source": []
  },
  {
   "cell_type": "markdown",
   "id": "2299cfa4",
   "metadata": {},
   "source": [
    "# Paso 1: Instale Speedtest e importe las bibliotecas de Python.\n",
    "#### b)\tImporte las bibliotecas de Python necesarias."
   ]
  },
  {
   "cell_type": "code",
   "execution_count": 20,
   "id": "6266dc8e",
   "metadata": {},
   "outputs": [],
   "source": [
    "# Code cell 2\n",
    "# Python library to manage date and time data\n",
    "import datetime\n",
    "# Python library to read and write csv files\n",
    "import csv\n",
    "# Python library to execute bash commands from the notebook. # If you want to know more about this, check this resource:\n",
    "# http://www.pythonforbeginners.com/os/subprocess-for-system-administrators\n",
    "import subprocess\n"
   ]
  },
  {
   "cell_type": "markdown",
   "id": "d170e2b6",
   "metadata": {},
   "source": [
    "## Paso 2: Genere las marcas de hora mediante el paquete datetime.\n",
    "\n",
    "#### a) Para generar una marca de hora, utilice la función datetime.now del paquete datetime: "
   ]
  },
  {
   "cell_type": "code",
   "execution_count": 21,
   "id": "edded5b6",
   "metadata": {},
   "outputs": [
    {
     "name": "stdout",
     "output_type": "stream",
     "text": [
      "2022-09-29 15:37:50.650092 <class 'datetime.datetime'>\n"
     ]
    }
   ],
   "source": [
    "# Code cell 3\n",
    "date_time = datetime.datetime.now()\n",
    "print(date_time, type(date_time))\n"
   ]
  },
  {
   "cell_type": "markdown",
   "id": "43794892",
   "metadata": {},
   "source": [
    "#### b)\tUna instancia de la clase datetime no se puede escribir directamente en forma de texto. "
   ]
  },
  {
   "cell_type": "code",
   "execution_count": 22,
   "id": "67f266d3",
   "metadata": {},
   "outputs": [
    {
     "data": {
      "text/plain": [
       "'Thu, 29 Sep 2022 15:37:50'"
      ]
     },
     "execution_count": 22,
     "metadata": {},
     "output_type": "execute_result"
    }
   ],
   "source": [
    "# Code cell 4\n",
    "date_time.strftime('%a, %d %b %Y %H:%M:%S')"
   ]
  },
  {
   "cell_type": "markdown",
   "id": "0514180f",
   "metadata": {},
   "source": [
    "Después de leer la documentación de la función strftime, genere una marca de hora y analícela en una cadena con el siguiente formato: AAAA-MM-DD HH:MM:SS"
   ]
  },
  {
   "cell_type": "code",
   "execution_count": 23,
   "id": "2a9aba98",
   "metadata": {},
   "outputs": [
    {
     "data": {
      "text/plain": [
       "'Thu, 2022 Sep Thu 15:37:50'"
      ]
     },
     "execution_count": 23,
     "metadata": {},
     "output_type": "execute_result"
    }
   ],
   "source": [
    "# Code cell 5\n",
    "# Enter your code\n",
    "date_time.strftime('%a, %Y %b %a %H:%M:%S')"
   ]
  },
  {
   "cell_type": "markdown",
   "id": "718d6ec5",
   "metadata": {},
   "source": [
    "## Paso 3: Ejecute el proceso y recopile la salida con Python.\n",
    "El comando speedtest-cli, si se ejecuta desde un terminal, devuelve una cadena con las velocidades de carga y descarga. Para ejecutar el comando de la computadora portátil, es necesario utilizar el subproceso del módulo de Python, que permite la ejecución de un proceso directamente de las celdas de código de la computadora portátil.\n",
    "\n",
    "\n",
    "#### a)\tEjecute una prueba de velocidad mediante el comando speedtest-cli de Python. La salida se almacenará en la variable process_output\n"
   ]
  },
  {
   "cell_type": "code",
   "execution_count": 30,
   "id": "99ee0b87",
   "metadata": {},
   "outputs": [],
   "source": [
    "# Code cell 6\n",
    "# This string contains the command line to interface with speedtest.net\n",
    "speedtest_cmd = \"speedtest-cli --simple\"\n",
    "# Execute the process\n",
    "process = subprocess.Popen(speedtest_cmd.split(), stdout=subprocess.PIPE)\n",
    "# Collect the command output\n",
    "process_output = process.communicate()[0]\n"
   ]
  },
  {
   "cell_type": "markdown",
   "id": "9eea65f8",
   "metadata": {},
   "source": [
    "#### b)\tImprima la salida del proceso. Observe el tipo para la variable process_output."
   ]
  },
  {
   "cell_type": "code",
   "execution_count": 31,
   "id": "0737277e",
   "metadata": {},
   "outputs": [
    {
     "name": "stdout",
     "output_type": "stream",
     "text": [
      "b'' <class 'bytes'>\n"
     ]
    }
   ],
   "source": [
    "# Code cell 7\n",
    "print(process_output, type(process_output))\n"
   ]
  },
  {
   "cell_type": "markdown",
   "id": "31d33eb0",
   "metadata": {},
   "source": [
    "#### c)\tEl resultado de la prueba de velocidad se divide, y una marca de hora se adjunta a los resultados."
   ]
  },
  {
   "cell_type": "code",
   "execution_count": 32,
   "id": "0ba2841f",
   "metadata": {},
   "outputs": [
    {
     "name": "stdout",
     "output_type": "stream",
     "text": [
      "['2022-09-29 15:40:37'] <class 'list'>\n"
     ]
    }
   ],
   "source": [
    "# Code cell 8\n",
    "# Store the time at which the speedtest was executed\n",
    "date_time = datetime.datetime.now().strftime(\"%Y-%m-%d %H:%M:%S\")\n",
    "process_output = process_output.split()\n",
    "process_output.append(date_time)\n",
    "print(process_output, type(process_output))\n"
   ]
  },
  {
   "cell_type": "markdown",
   "id": "d3c3894b",
   "metadata": {},
   "source": [
    "#### d)\tLa función speedtest() se crea para devolver los resultados del comando speedtest-cli."
   ]
  },
  {
   "cell_type": "code",
   "execution_count": 33,
   "id": "b78bb877",
   "metadata": {},
   "outputs": [],
   "source": [
    "# Code cell 9\n",
    "# function to excute the speed test\n",
    "def speedtest():\n",
    "    # We need to store the time at which the speedtest was executed\n",
    "    date_time = datetime.datetime.now().strftime(\"%Y-%m-%d %H:%M:%S\")\n",
    "    # This is a string that contains what we would write on the command line \n",
    "    #to interface with speedtest.net\n",
    "    speedtest_cmd = \"speedtest-cli --simple\"\n",
    "    # We now execute the process: \n",
    "    process = subprocess.Popen(speedtest_cmd.split(), stdout=subprocess.PIPE)\n",
    "    process_output = process.communicate()[0]\n",
    "    process_output = process_output.split()\n",
    "    # and we add the date and time \n",
    "    process_output.append(date_time)\n",
    "    return process_output"
   ]
  },
  {
   "cell_type": "markdown",
   "id": "b9f88dce",
   "metadata": {},
   "source": [
    "¿Qué devuelve la función speedtest()? ¿Cuál es el código para ver resultados de la función speedtest()?\n",
    "\n",
    "\n",
    "Escriba la respuesta aquí\n"
   ]
  },
  {
   "cell_type": "code",
   "execution_count": 35,
   "id": "ba6df467",
   "metadata": {},
   "outputs": [
    {
     "data": {
      "text/plain": [
       "['2022-09-29 15:40:37']"
      ]
     },
     "execution_count": 35,
     "metadata": {},
     "output_type": "execute_result"
    }
   ],
   "source": [
    "# Code cell 10\n",
    "# Code to view the results from speedtest() function\n",
    "process_output"
   ]
  },
  {
   "cell_type": "markdown",
   "id": "30cf3c34",
   "metadata": {},
   "source": [
    "## Paso 4: Guarde la salida de la función speedtest()\n",
    "Los valores separados por comas (csv) son el formato de importación y exportación más común para las hojas de cálculo y las bases de datos. Para obtener más información sobre el trabajo con los csv en Python, navegue a https://docs.python.org/2/library/csv.html (https://docs.python.org/2/library/csv.html).\n",
    "\n",
    "\n",
    "#### a)\tCree un archivo denominado test.txt en el directorio /tmp y escriba \"test_msg\" en el archivo.\n"
   ]
  },
  {
   "cell_type": "code",
   "execution_count": 36,
   "id": "51601def",
   "metadata": {},
   "outputs": [],
   "source": [
    "# Code cell 11\n",
    "with open(\"test.txt\",'w') as f:\n",
    "    f.write('test_msg')"
   ]
  },
  {
   "cell_type": "markdown",
   "id": "8e69115e",
   "metadata": {},
   "source": [
    "#### b)\tUse el comando de Linux cat para verificar la creación y el contenido del archivo."
   ]
  },
  {
   "cell_type": "code",
   "execution_count": 37,
   "id": "d3532745",
   "metadata": {},
   "outputs": [
    {
     "name": "stderr",
     "output_type": "stream",
     "text": [
      "\"cat\" no se reconoce como un comando interno o externo,\n",
      "programa o archivo por lotes ejecutable.\n"
     ]
    }
   ],
   "source": [
    "# Code cell 12\n",
    "!cat /tmp/test.txt"
   ]
  },
  {
   "cell_type": "markdown",
   "id": "ad4c6946",
   "metadata": {},
   "source": [
    "#### c)\tPara verificar que el archivo se haya abierto correctamente:"
   ]
  },
  {
   "cell_type": "code",
   "execution_count": 38,
   "id": "49d4d9bf",
   "metadata": {},
   "outputs": [
    {
     "name": "stdout",
     "output_type": "stream",
     "text": [
      "test_msg\n"
     ]
    }
   ],
   "source": [
    "# Code cell 13\n",
    "with open(\"test.txt\",'r') as f:\n",
    "    str = f.read()\n",
    "print(str)\n"
   ]
  },
  {
   "cell_type": "markdown",
   "id": "f4b28693",
   "metadata": {},
   "source": [
    "#### d)\tLa comprensión del significado de la declaración with, especialmente en combinación con try y except no es necesaria para el resto de esta práctica de laboratorio, pero un recurso útil sobre esto es "
   ]
  },
  {
   "cell_type": "code",
   "execution_count": 40,
   "id": "aca530ce",
   "metadata": {},
   "outputs": [],
   "source": [
    "# Code cell 14\n",
    "# Function to save data to csv\n",
    "def save_to_csv(data, filename):\n",
    "    try:\n",
    "        # If the file exists, append a new line to it, with the \n",
    "        #results of the current experiment\n",
    "        with open(filename + '.csv', 'a') as f:\n",
    "            # Create a csv writer object \n",
    "            wr = csv.writer(f)\n",
    "            # Save (write) to file\n",
    "            wr.writerow(data)\n",
    "    except:\n",
    "        # If it does not exist, create the file first\n",
    "        with open(filename + '.csv', 'w') as f:\n",
    "            # Hint: This is similar to appending new lines to a file.\n",
    "            # Create a csv writer object\n",
    "            # ADD CODE HERE\n",
    "            # Save (write) to file\n",
    "            # ADD CODE HERE\n",
    "            \n",
    "            wr= csv.writee(f)\n",
    "            \n",
    "            wr.writerow(data)"
   ]
  },
  {
   "cell_type": "markdown",
   "id": "85c3702c",
   "metadata": {},
   "source": [
    "## Paso 5: Verifique los datos recolectados"
   ]
  },
  {
   "cell_type": "code",
   "execution_count": 41,
   "id": "ec79a7f4",
   "metadata": {},
   "outputs": [],
   "source": [
    "# Code cell 15\n",
    "def print_from_csv(filename): \n",
    "    with open(filename + '.csv', 'r') as f:\n",
    "        re = csv.read(f)\n",
    "        # 1. Loop over the rows\n",
    "        for row in re:    \n",
    "            # 2. print     \n",
    "            print(' '.join(row))"
   ]
  },
  {
   "cell_type": "markdown",
   "id": "70d485db",
   "metadata": {},
   "source": [
    "## Paso 6: Ejecute varias veces Speedtest y guarde los datos.\n",
    "\n",
    "#### a)\tEscriba un bucle for que ejecute speedtest 5 veces, imprima la salida de las pruebas y guarde los datos en un archivo csv.\n"
   ]
  },
  {
   "cell_type": "code",
   "execution_count": 42,
   "id": "8b13304d",
   "metadata": {},
   "outputs": [
    {
     "name": "stdout",
     "output_type": "stream",
     "text": [
      "Test number 0\n",
      "Test number 1\n",
      "Test number 2\n",
      "Test number 3\n",
      "Test number 4\n"
     ]
    }
   ],
   "source": [
    "# Code cell 16\n",
    "for i in range(5):\n",
    "    # Measure internet speed (speedtest_output) using the speedtest() created earlier\n",
    "    speedtest_output = speedtest()\n",
    "    # Print the test number\n",
    "    print ('Test number {}'.format(i))\n",
    "    # Print the result (The needed variable is speedtest_output)\n",
    "    # ADD CODE HERE for printing the results\n",
    "    save_to_csv(speedtest_output, 'rpi_data_test')"
   ]
  },
  {
   "cell_type": "markdown",
   "id": "0f314000",
   "metadata": {},
   "source": [
    "#### b)\tMuestre el archivo para verificar que los datos se hayan guardado correctamente."
   ]
  },
  {
   "cell_type": "code",
   "execution_count": 43,
   "id": "f4b54646",
   "metadata": {},
   "outputs": [
    {
     "ename": "FileNotFoundError",
     "evalue": "[Errno 2] No such file or directory: '/tmp/rpi_data_test.csv'",
     "output_type": "error",
     "traceback": [
      "\u001b[1;31m---------------------------------------------------------------------------\u001b[0m",
      "\u001b[1;31mFileNotFoundError\u001b[0m                         Traceback (most recent call last)",
      "Input \u001b[1;32mIn [43]\u001b[0m, in \u001b[0;36m<cell line: 2>\u001b[1;34m()\u001b[0m\n\u001b[0;32m      1\u001b[0m \u001b[38;5;66;03m# Code cell 17\u001b[39;00m\n\u001b[1;32m----> 2\u001b[0m \u001b[43mprint_from_csv\u001b[49m\u001b[43m(\u001b[49m\u001b[38;5;124;43m'\u001b[39;49m\u001b[38;5;124;43m/tmp/rpi_data_test\u001b[39;49m\u001b[38;5;124;43m'\u001b[39;49m\u001b[43m)\u001b[49m\n",
      "Input \u001b[1;32mIn [41]\u001b[0m, in \u001b[0;36mprint_from_csv\u001b[1;34m(filename)\u001b[0m\n\u001b[0;32m      2\u001b[0m \u001b[38;5;28;01mdef\u001b[39;00m \u001b[38;5;21mprint_from_csv\u001b[39m(filename): \n\u001b[1;32m----> 3\u001b[0m     \u001b[38;5;28;01mwith\u001b[39;00m \u001b[38;5;28;43mopen\u001b[39;49m\u001b[43m(\u001b[49m\u001b[43mfilename\u001b[49m\u001b[43m \u001b[49m\u001b[38;5;241;43m+\u001b[39;49m\u001b[43m \u001b[49m\u001b[38;5;124;43m'\u001b[39;49m\u001b[38;5;124;43m.csv\u001b[39;49m\u001b[38;5;124;43m'\u001b[39;49m\u001b[43m,\u001b[49m\u001b[43m \u001b[49m\u001b[38;5;124;43m'\u001b[39;49m\u001b[38;5;124;43mr\u001b[39;49m\u001b[38;5;124;43m'\u001b[39;49m\u001b[43m)\u001b[49m \u001b[38;5;28;01mas\u001b[39;00m f:\n\u001b[0;32m      4\u001b[0m         re \u001b[38;5;241m=\u001b[39m csv\u001b[38;5;241m.\u001b[39mread(f)\n\u001b[0;32m      5\u001b[0m         \u001b[38;5;66;03m# 1. Loop over the rows\u001b[39;00m\n",
      "\u001b[1;31mFileNotFoundError\u001b[0m: [Errno 2] No such file or directory: '/tmp/rpi_data_test.csv'"
     ]
    }
   ],
   "source": [
    "# Code cell 17\n",
    "print_from_csv('/tmp/rpi_data_test')\n"
   ]
  },
  {
   "cell_type": "markdown",
   "id": "565e1040",
   "metadata": {},
   "source": [
    "Si un conjunto de datos más grande es necesario, speedtest puede ejecutarse en segundo plano para más muestras.\n",
    "\n",
    "¿Cómo cambiaría el código si quisiera ejecutar el código 100 veces?\n",
    "\n",
    "\n",
    "Escriba la respuesta aquí\n"
   ]
  },
  {
   "cell_type": "code",
   "execution_count": 44,
   "id": "0d9db97f",
   "metadata": {},
   "outputs": [],
   "source": [
    "# Code cell 18\n",
    "# Code to run 100 times\n",
    "# for i in xrange(100):\n",
    "#     speedtest_output = speedtest()\n",
    "#     print 'Test number: {}'.format(i)\n",
    "#     print speedtest_output\n",
    "#     save_to_csv(speedtest_output, '/tmp/rpi_data')"
   ]
  },
  {
   "cell_type": "markdown",
   "id": "1d42c179",
   "metadata": {},
   "source": [
    "# Parte 2: Manipule los datos"
   ]
  },
  {
   "cell_type": "markdown",
   "id": "68475c99",
   "metadata": {},
   "source": [
    "Los pandas de la biblioteca de Python son muy útiles para trabajar con datos estructurados. La documentación completa se encuentra aquí: http://pandas.pydata.org/pandas-docs/version/0.14.1/ (http://pandas.pydata.org/pandas-docs/version/0.14.1/)</font>\n",
    "\n",
    "Se utilizará un conjunto de datos más grande recopilado de antemano para esta parte de la práctica de laboratorio. El nombre de archivo es rpi_data_long.csv.\n",
    "\n",
    "### Paso 1: Importe las bibliotecas de Python.\n",
    "\n",
    "Importe los pandas y otras bibliotecas utilizadas para las siguientes tareas.\n"
   ]
  },
  {
   "cell_type": "code",
   "execution_count": 65,
   "id": "e2429d3b",
   "metadata": {},
   "outputs": [],
   "source": [
    "# Code cell 19\n",
    "import datetime\n",
    "import csv\n",
    "import pandas as pd\n",
    "# NumPy is a library that adds support for large, multi-dimensional arrays and matrices\n",
    "# along with high-level mathematical functions to operate on these arrays\n",
    "import numpy as np"
   ]
  },
  {
   "cell_type": "markdown",
   "id": "a31863c0",
   "metadata": {},
   "source": [
    "### Paso 2: Cargue el archivo csv en un objeto del marco de datos mediante pandas.\n",
    "\n",
    "Un marco de datos de pandas es una estructura de datos etiquetada de 2 dimensiones con columnas potencialmente de diferentes tipos. Puede verlo como una hoja de cálculo o una tabla de SQL. La función de la biblioteca de pandas read_csv convierte automáticamente un archivo csv en un objeto del marco de datos.\n",
    "Lea la documentación de read_csv en http://pandas.pydata.org/pandas- docs/version/0.14.1/generated/pandas.read_csv.html (http://pandas.pydata.org/pandas- docs/version/0.14.1/generated/pandas.read_csv.html). Esta función contiene muchos parámetros. El único no opcional es filepath, es decir, la ubicación del archivo csv. Todos los demás parámetros son opcionales.\n",
    "En este paso, importará y verá el contenido del archivo csv, rpi_data_long.csv. Esto archivo csv se encuentra en el mismo directorio que esta notebook de Jupyter.\n",
    "\n",
    "#### a)\tAsigne el archivo rpi_data_long.csv a la variable data_file."
   ]
  },
  {
   "cell_type": "code",
   "execution_count": 73,
   "id": "6d381bd5",
   "metadata": {},
   "outputs": [],
   "source": [
    "# Code cell 20\n",
    "data_file = './Data/rpi_data_long.csv'"
   ]
  },
  {
   "cell_type": "markdown",
   "id": "d9ed753e",
   "metadata": {},
   "source": [
    "#### b)\tUtilice el comando head de Linux para ver las primeras 10 líneas del archivo csv."
   ]
  },
  {
   "cell_type": "code",
   "execution_count": 74,
   "id": "1f0b736b",
   "metadata": {},
   "outputs": [
    {
     "name": "stderr",
     "output_type": "stream",
     "text": [
      "\"head\" no se reconoce como un comando interno o externo,\n",
      "programa o archivo por lotes ejecutable.\n"
     ]
    }
   ],
   "source": [
    "# Code cell 21\n",
    "!head -n 5 ./Data/rpi_data_long.csv"
   ]
  },
  {
   "cell_type": "markdown",
   "id": "dff15cdc",
   "metadata": {},
   "source": [
    "#### c)\tUtilice el parámetro names de la función read_csv para especificar el nombre de las columnas del marco de datos."
   ]
  },
  {
   "cell_type": "code",
   "execution_count": 75,
   "id": "55957a5e",
   "metadata": {},
   "outputs": [],
   "source": [
    "# Code cell 22\n",
    "column_names = [ 'Type A', 'Measure A', 'Units A',\n",
    "'Type B', 'Measure B', 'Units B',\n",
    "'Type C', 'Measure C', 'Units C', 'Datetime']"
   ]
  },
  {
   "cell_type": "markdown",
   "id": "30de12c6",
   "metadata": {},
   "source": [
    "#### d)\tUtilice la función read_csv para leer de data_file y asigne column_names como los nombres de columna en el marco de datos."
   ]
  },
  {
   "cell_type": "code",
   "execution_count": 69,
   "id": "29d826bd",
   "metadata": {},
   "outputs": [
    {
     "ename": "FileNotFoundError",
     "evalue": "[Errno 2] No such file or directory: './Data/rpi_data_long.csv'",
     "output_type": "error",
     "traceback": [
      "\u001b[1;31m---------------------------------------------------------------------------\u001b[0m",
      "\u001b[1;31mFileNotFoundError\u001b[0m                         Traceback (most recent call last)",
      "Input \u001b[1;32mIn [69]\u001b[0m, in \u001b[0;36m<cell line: 2>\u001b[1;34m()\u001b[0m\n\u001b[0;32m      1\u001b[0m \u001b[38;5;66;03m# Code cell 23\u001b[39;00m\n\u001b[1;32m----> 2\u001b[0m \u001b[38;5;28;01mwith\u001b[39;00m \u001b[38;5;28;43mopen\u001b[39;49m\u001b[43m(\u001b[49m\u001b[43mdata_file\u001b[49m\u001b[43m,\u001b[49m\u001b[43m \u001b[49m\u001b[38;5;124;43m'\u001b[39;49m\u001b[38;5;124;43mr\u001b[39;49m\u001b[38;5;124;43m'\u001b[39;49m\u001b[43m)\u001b[49m \u001b[38;5;28;01mas\u001b[39;00m f:\n\u001b[0;32m      3\u001b[0m     df_redundant \u001b[38;5;241m=\u001b[39m pd\u001b[38;5;241m.\u001b[39mread_csv(f, names \u001b[38;5;241m=\u001b[39m column_names)\n",
      "\u001b[1;31mFileNotFoundError\u001b[0m: [Errno 2] No such file or directory: './Data/rpi_data_long.csv'"
     ]
    }
   ],
   "source": [
    "# Code cell 23\n",
    "with open(data_file, 'r') as f:\n",
    "    df_redundant = pd.read_csv(f, names = column_names)"
   ]
  },
  {
   "cell_type": "code",
   "execution_count": 76,
   "id": "a8aac77b",
   "metadata": {},
   "outputs": [
    {
     "ename": "NameError",
     "evalue": "name 'df_redundant' is not defined",
     "output_type": "error",
     "traceback": [
      "\u001b[1;31m---------------------------------------------------------------------------\u001b[0m",
      "\u001b[1;31mNameError\u001b[0m                                 Traceback (most recent call last)",
      "Input \u001b[1;32mIn [76]\u001b[0m, in \u001b[0;36m<cell line: 5>\u001b[1;34m()\u001b[0m\n\u001b[0;32m      1\u001b[0m \u001b[38;5;66;03m# Code cell 24\u001b[39;00m\n\u001b[0;32m      2\u001b[0m \u001b[38;5;66;03m# You can specify the number of rows you want to print to screen: \u001b[39;00m\n\u001b[0;32m      3\u001b[0m \u001b[38;5;66;03m# you do so passing the number as an argument to the function\u001b[39;00m\n\u001b[0;32m      4\u001b[0m \u001b[38;5;66;03m# (e.g., head(10))\u001b[39;00m\n\u001b[1;32m----> 5\u001b[0m \u001b[43mdf_redundant\u001b[49m\u001b[38;5;241m.\u001b[39mhead()\n",
      "\u001b[1;31mNameError\u001b[0m: name 'df_redundant' is not defined"
     ]
    }
   ],
   "source": []
  },
  {
   "cell_type": "code",
   "execution_count": null,
   "id": "af07a0fb",
   "metadata": {},
   "outputs": [],
   "source": []
  },
  {
   "cell_type": "code",
   "execution_count": null,
   "id": "1dcbac65",
   "metadata": {},
   "outputs": [],
   "source": []
  },
  {
   "cell_type": "code",
   "execution_count": null,
   "id": "c5db4588",
   "metadata": {},
   "outputs": [],
   "source": []
  },
  {
   "cell_type": "code",
   "execution_count": null,
   "id": "7ae6b50b",
   "metadata": {},
   "outputs": [],
   "source": []
  },
  {
   "cell_type": "code",
   "execution_count": null,
   "id": "3e98dff7",
   "metadata": {},
   "outputs": [],
   "source": []
  }
 ],
 "metadata": {
  "kernelspec": {
   "display_name": "Python 3 (ipykernel)",
   "language": "python",
   "name": "python3"
  },
  "language_info": {
   "codemirror_mode": {
    "name": "ipython",
    "version": 3
   },
   "file_extension": ".py",
   "mimetype": "text/x-python",
   "name": "python",
   "nbconvert_exporter": "python",
   "pygments_lexer": "ipython3",
   "version": "3.9.12"
  }
 },
 "nbformat": 4,
 "nbformat_minor": 5
}
