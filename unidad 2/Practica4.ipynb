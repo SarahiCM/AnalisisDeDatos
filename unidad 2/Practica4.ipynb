{
 "cells": [
  {
   "cell_type": "markdown",
   "id": "c6f3950c",
   "metadata": {},
   "source": [
    "\n",
    "\n",
    "# Intituto tecnologico de Durango\n",
    "## Analítica de datos en las organizaciones\n",
    "### Unidad 2 Práctica de laboratorio 2.5.2.4 : cómo trabajar con Python y SQLite\n",
    "\n",
    "\n",
    "\n",
    "\n",
    "\n",
    "\n",
    "\n",
    "\n",
    "\n",
    "\n",
    "\n",
    "\n",
    "\n",
    "\n",
    "#### Nombre : Sarahi Caloso Mancillas\n",
    "#### No de Control: 19040351\n",
    "####  Maestro: José Gabriel Rodríguez Rivas"
   ]
  },
  {
   "cell_type": "code",
   "execution_count": 1,
   "id": "34e17f24",
   "metadata": {},
   "outputs": [],
   "source": [
    "    #Paso 1: Importe los módulos.\n",
    "# this is the library to talk to the database\n",
    "import sqlite3\n",
    "import pandas as pd\n",
    "# this is a library for data visualization\n",
    "from matplotlib import pyplot as plt\n",
    "# this is to say that we want our plots to be part of this page, and not opened in a new window\n",
    "%matplotlib inline"
   ]
  },
  {
   "cell_type": "code",
   "execution_count": 2,
   "id": "336d0001",
   "metadata": {},
   "outputs": [],
   "source": [
    " #Paso 2: Conéctese a la base de datos\n",
    "conn = sqlite3.connect('C:/Windows/System32/phonebook.db')"
   ]
  },
  {
   "cell_type": "code",
   "execution_count": 3,
   "id": "cf3067f5",
   "metadata": {},
   "outputs": [],
   "source": [
    "cur = conn.cursor()"
   ]
  },
  {
   "cell_type": "code",
   "execution_count": 4,
   "id": "bfd020f8",
   "metadata": {},
   "outputs": [
    {
     "data": {
      "text/plain": [
       "<sqlite3.Cursor at 0x2c5070096c0>"
      ]
     },
     "execution_count": 4,
     "metadata": {},
     "output_type": "execute_result"
    }
   ],
   "source": [
    "#Paso 3: Ejecute una consulta.\n",
    "query = \"SELECT name FROM coworkers;\"\n",
    "cur.execute(query)"
   ]
  },
  {
   "cell_type": "markdown",
   "id": "dbaa33af",
   "metadata": {},
   "source": []
  },
  {
   "cell_type": "code",
   "execution_count": 5,
   "id": "0ae24878",
   "metadata": {},
   "outputs": [
    {
     "name": "stdout",
     "output_type": "stream",
     "text": [
      "('101', 'Han Solo', 'Bounty Hunter', '5556667578')\n",
      "('102', 'Leia Skywalker', 'Princess', '5556542398')\n",
      "('103', 'Luke Skywalker', 'Jedi', '5558963267')\n",
      "('104', 'Obi-Wan Kenobi', 'Jedi', '5558963276')\n",
      "('105', 'Anakin Skywalker', 'Sith Lord', '5553477621')\n",
      "('106', 'Jabba The Hutt', 'Gangster', '5556613456')\n",
      "('107', 'Greedo', 'Debt Collector', '5552360918')\n",
      "('108', 'R2D2', 'Astro Droid', '5555210125')\n",
      "('109', 'C3PO', 'Protocol Droid', '5556633345')\n"
     ]
    }
   ],
   "source": [
    "cur.execute(\"Select * from coworkers;\")\n",
    "coworkers = cur.fetchall()\n",
    "for coworkers in coworkers:\n",
    "    print (coworkers)"
   ]
  },
  {
   "cell_type": "markdown",
   "id": "e5ccfb0e",
   "metadata": {},
   "source": [
    "### 1) Proporcione el código para consultar los nombres de todas las princesas"
   ]
  },
  {
   "cell_type": "code",
   "execution_count": 6,
   "id": "17a12aea",
   "metadata": {},
   "outputs": [
    {
     "name": "stdout",
     "output_type": "stream",
     "text": [
      "('Leia Skywalker',)\n"
     ]
    }
   ],
   "source": [
    "cur.execute(\"Select name from coworkers where title='Princess';\")\n",
    "coworkers = cur.fetchall()\n",
    "for coworkers1 in coworkers:\n",
    "    print (coworkers1)"
   ]
  },
  {
   "cell_type": "markdown",
   "id": "c59de006",
   "metadata": {},
   "source": [
    "### 2) Proporcione el código para consultar los nombres de todas las princesas y los recaudadores."
   ]
  },
  {
   "cell_type": "code",
   "execution_count": 7,
   "id": "9b53b5d9",
   "metadata": {},
   "outputs": [
    {
     "name": "stdout",
     "output_type": "stream",
     "text": [
      "('Leia Skywalker',)\n",
      "('Greedo',)\n"
     ]
    }
   ],
   "source": [
    "cur.execute(\"Select name from coworkers where title='Princess' OR title='Debt Collector';\")\n",
    "consulta2 = cur.fetchall()\n",
    "for consulta in consulta2:\n",
    "    print (consulta)"
   ]
  },
  {
   "cell_type": "markdown",
   "id": "d6fe2417",
   "metadata": {},
   "source": [
    "### 3) Proporcione el código para consultar los nombres y los números de todos los Jedi."
   ]
  },
  {
   "cell_type": "code",
   "execution_count": 8,
   "id": "5588ff9d",
   "metadata": {},
   "outputs": [
    {
     "name": "stdout",
     "output_type": "stream",
     "text": [
      "('Luke Skywalker', '5558963267')\n",
      "('Obi-Wan Kenobi', '5558963276')\n"
     ]
    }
   ],
   "source": [
    "cur.execute(\"Select name,number from coworkers where title='Jedi';\")\n",
    "consulta3 = cur.fetchall()\n",
    "for consulta in consulta3:\n",
    "    print (consulta)"
   ]
  },
  {
   "cell_type": "markdown",
   "id": "21f9c062",
   "metadata": {},
   "source": [
    "### 4) Proporcione el código para consultar los nombres de los droids."
   ]
  },
  {
   "cell_type": "code",
   "execution_count": 9,
   "id": "f1f753bf",
   "metadata": {},
   "outputs": [
    {
     "name": "stdout",
     "output_type": "stream",
     "text": [
      "('R2D2',)\n",
      "('C3PO',)\n"
     ]
    }
   ],
   "source": [
    "cur.execute(\"Select name from coworkers where title lIKE '%Droid%';\")\n",
    "consulta4 = cur.fetchall()\n",
    "for consulta in consulta4:\n",
    "    print (consulta)"
   ]
  },
  {
   "cell_type": "code",
   "execution_count": null,
   "id": "495f5953",
   "metadata": {},
   "outputs": [],
   "source": []
  }
 ],
 "metadata": {
  "kernelspec": {
   "display_name": "Python 3 (ipykernel)",
   "language": "python",
   "name": "python3"
  },
  "language_info": {
   "codemirror_mode": {
    "name": "ipython",
    "version": 3
   },
   "file_extension": ".py",
   "mimetype": "text/x-python",
   "name": "python",
   "nbconvert_exporter": "python",
   "pygments_lexer": "ipython3",
   "version": "3.9.12"
  }
 },
 "nbformat": 4,
 "nbformat_minor": 5
}
